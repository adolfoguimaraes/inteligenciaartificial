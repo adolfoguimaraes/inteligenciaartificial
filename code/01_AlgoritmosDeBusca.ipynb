{
  "cells": [
    {
      "cell_type": "markdown",
      "metadata": {
        "colab_type": "text",
        "id": "view-in-github"
      },
      "source": [
        "<a href=\"https://colab.research.google.com/github/adolfoguimaraes/inteligenciaartificial/blob/main/code/01_AlgoritmosDeBusca.ipynb\" target=\"_parent\"><img src=\"https://colab.research.google.com/assets/colab-badge.svg\" alt=\"Open In Colab\"/></a>"
      ]
    },
    {
      "cell_type": "markdown",
      "metadata": {
        "id": "iFMyShmaBSNv"
      },
      "source": [
        "# Algoritmos de Busca \n",
        "\n",
        "Nesse notebook vamos trabalhar com a implementação dos três algoritmos de buscas vistos em sala de aula: (1) busca de custo uniforme, (2) busca gulosa e (3) busca A*. Após a implementação do algoritmo vamos aplica-los a dois cenários: o labirinto e o quebra-cabeça 3x3."
      ]
    },
    {
      "cell_type": "code",
      "execution_count": 1,
      "metadata": {
        "id": "S1qF4TptBSN1"
      },
      "outputs": [],
      "source": [
        "# imports necessários\n",
        "\n",
        "import math "
      ]
    },
    {
      "cell_type": "markdown",
      "metadata": {},
      "source": [
        "## A classe `Search`\n",
        "\n",
        "A classe `Search` implementa os principais componentes dos algoritmos de busca. Vale lembrar que os três algoritmos estudados funcionam da mesma forma, mudando apenas a função que calcula o custo da solução. \n",
        "\n",
        "Na **busca de custo uniforme**, o custo $f(x)$ é determinado por $g(x)$ (o custo do caminho). Já na **busca gulosa**, esse custo é determinado por $h(x)$ (o custo da heurística). Por fim, na **busca A***, o custo é determinado por $g(x) + h(x)$. \n",
        "\n",
        "O cálculo na classe é feito pela função `cost_function` que recebe como entrada um caminho para uma solução (`path`).\n",
        "\n",
        "```python\n",
        "def cost_function(self, path):\n",
        "        if self.type == 'cost_uniform':\n",
        "            return path[1]\n",
        "        elif self.type == 'greedy':\n",
        "            return self.heuristic(path)\n",
        "        elif self.type == 'a_star':\n",
        "            return path[1] + self.heuristic(path)\n",
        "        else:\n",
        "            raise BaseException(\"Algorithm type not allowed. \\\\\n",
        "            Choose: (1) cost_uniform, (2) greedy or (3) a_star.\")\n",
        "```"
      ]
    },
    {
      "cell_type": "code",
      "execution_count": 2,
      "metadata": {
        "id": "RqB2B1ksBSN3"
      },
      "outputs": [],
      "source": [
        "class Search:\n",
        "\n",
        "    # Inicialização das variáveis\n",
        "    def __init__(self, type=None):\n",
        "        self.type = type # Tipo da busca\n",
        "        self.frontier = None # Fronteira, representada por uma lista de possíveis soluções\n",
        "        self.best_frontier = None # Melhor solução da fronteira\n",
        "        self.first_state = None  # Estado inicial da busca\n",
        "        self.objective_state = None  # Estado objetivo da busca\n",
        "        self.explored = None # Lista de estados que já foram explorados\n",
        "\n",
        "    # Função que calcula o custo da solução \n",
        "    def cost_function(self, path):\n",
        "        if self.type == 'cost_uniform':\n",
        "            return path[1] # No custo uniforme, esse custo é dado pelo custo do caminho\n",
        "        elif self.type == 'greedy':\n",
        "            return self.heuristic(path) # No caso da busca gulosa, o custo é dado pelo valor da heurística\n",
        "        elif self.type == 'a_star':\n",
        "            return path[1] + self.heuristic(path) # No caso da busca A*, o custo é dado pelo soma do custo do caminho mais a heurística\n",
        "        else:\n",
        "            # Erro para quando nenhum dos três tipos de busca é selecionado, \n",
        "            raise BaseException(\"Algorithm type not allowed. Choose: (1) cost_uniform, (2) greedy or (3) a_star.\")\n",
        "\n",
        "    # Função que procura o melhor elemento da fronteira\n",
        "    def get_best_frontier(self):\n",
        "\n",
        "        less_value = float('Inf')\n",
        "        best_frontier_ = []\n",
        "\n",
        "        for path in self.frontier:\n",
        "            final_cost = self.cost_function(path)\n",
        "            if final_cost < less_value:\n",
        "                less_value = final_cost\n",
        "                best_frontier_ = path\n",
        "\n",
        "        \n",
        "        self.best_frontier = best_frontier_\n",
        "        \n",
        "    # Função que imprime o resultado da busca\n",
        "    def print(self):\n",
        "\n",
        "        for f in self.frontier:\n",
        "            if self.best_frontier == f:\n",
        "                print(\"* %s : %.1f\" % (f[0], self.cost_function(f)))\n",
        "            else:\n",
        "                print(\"%s : %.2f\" % (f[0], self.cost_function(f)))\n",
        "\n",
        "        print(\"-----------\")\n",
        "\n",
        "    \n",
        "    # Execução do algoritmo de busca\n",
        "    def run(self, verbose=False):\n",
        "        \n",
        "        self.explored = []\n",
        "        \n",
        "        # Cria a fronteira com apenas o estado inicial da busca\n",
        "        self.frontier = [\n",
        "            self.first_state\n",
        "        ]\n",
        "\n",
        "        # Procura o melhor elemento da fronteira e associa a variável self.best_frontier\n",
        "        self.get_best_frontier()\n",
        "\n",
        "        # Atualiza a lista de explorados\n",
        "        if self.best_frontier[0][-1] not in self.explored:\n",
        "            self.explored.append(self.best_frontier[0][-1])\n",
        "\n",
        "        count = 0\n",
        "\n",
        "        # Se verbose for True imprime os detalhes durante a execução do algoritmo\n",
        "        if(verbose):\n",
        "            self.print()\n",
        "\n",
        "        # Realiza a busca enquanto não atingir o estado objetivo\n",
        "        while self.best_frontier[0][-1] != self.objective_state:\n",
        "\n",
        "            # Verifica os possíveis estados a partir do estado atual\n",
        "            possible_states = self.get_adjacent_not_visited(self.best_frontier[0][-1])\n",
        "            \n",
        "            # Remove o melhor elemento da fronteira\n",
        "            self.frontier.remove(self.best_frontier)\n",
        "\n",
        "            # Atualiza a fronteira com os novos caminhos\n",
        "            for state in possible_states:\n",
        "                new_frontier = ([e for e in self.best_frontier[0]], self.best_frontier[1] + state[1])\n",
        "                new_frontier[0].append(state[0])\n",
        "                self.frontier.append(new_frontier)\n",
        "\n",
        "            # Procura o melhor elemento da fronteira e associa a variável self.best_frontier\n",
        "            self.get_best_frontier()\n",
        "\n",
        "            if verbose:\n",
        "                self.print()\n",
        "\n",
        "            # Atualiza a lista de explorados\n",
        "            if self.best_frontier[0][-1] not in self.explored:\n",
        "                self.explored.append(self.best_frontier[0][-1])\n",
        "\n",
        "            count += 1\n",
        "\n",
        "\n",
        "        # Imprime o melhor resultado\n",
        "        result = [e for e in self.best_frontier[0]]\n",
        "        count_cost = self.best_frontier[1]\n",
        "\n",
        "        print(\"Melhor caminho da fronteira: %s \" % result )\n",
        "        print(\"Custo do melhor caminho: %s\" % count_cost)\n",
        "        if verbose:\n",
        "            print(\"Estados explorados: %s\" % self.explored)\n",
        "        print(\"Numero de estados explorados: %s\" % len(self.explored)) \n",
        "        \n",
        "    \n",
        "    # A heurística é específica de cada problema. Ela deve ser implementada de acordo com o problema que está sendo resolvido.\n",
        "    def heuristic(self, path):\n",
        "        return 0\n",
        "\n",
        "    # Esse método retorna os estados possíveis a partir do estado atual. Ele também depende do problema e deve ser implementado\n",
        "    # de acordo com o problema que está sendo resolvido.\n",
        "    def get_adjacent_not_visited(self, state):\n",
        "        pass\n",
        "\n"
      ]
    },
    {
      "cell_type": "markdown",
      "metadata": {},
      "source": [
        "A classe implementada pode ser usada para resolver diferentes problemas de busca. Para isso é necessário instaciar o problema a partir da classe `Search` e implementar os métodos `heuristic` e `get_adjacent_no_visited`. Aqui será trabalhado dois problemas vistos em sala de aula: o **Problema do Labirinto** e o **Problema do Quebra-Cabeça**. "
      ]
    },
    {
      "cell_type": "markdown",
      "metadata": {
        "id": "iy_ckovrBSN9"
      },
      "source": [
        "## Problema do Labirinto\n",
        "\n",
        "Esse problema consiste em dado um labirinto, mapeado a partir de um grafo, e um ponto de partida, o algoritmo vai calcular o caminho desse ponto até um ponto pré-definido como _saída do labirinto_. O labirinto mapeado é mostrado na imagem a seguir. \n",
        "\n",
        "<img src=\"../imgs/labirinto1.png\" width=\"50%\" />\n",
        "\n",
        "Esse labirinto é mapeado para o grafo a seguir: \n",
        "\n",
        "<img src=\"../imgs/labirinto2.png\" width=\"50%\" />\n",
        "\n",
        "O labirinto foi mapeado para a estrutura armazena na variável `map_maze`. "
      ]
    },
    {
      "cell_type": "code",
      "execution_count": 3,
      "metadata": {
        "id": "1HSRLAZ-BSOB"
      },
      "outputs": [],
      "source": [
        "# Classe que implementa o problema do labirinto\n",
        "class MazeSearch(Search):\n",
        "\n",
        "    # Inicialização das variáveis\n",
        "    def __init__(self, type):\n",
        "        super().__init__(type)\n",
        "\n",
        "        # Labirinto mapeado\n",
        "        self.map_maze = {\n",
        "            'A': {'adjacent': [('B', 5)], 'point': (1, 1)},\n",
        "            'B': {'adjacent': [('A', 5), ('C', 7), ('F', 2)], 'point': (1, 6)},\n",
        "            'C': {'adjacent': [('B', 7), ('L', 8)], 'point': (1, 13)},\n",
        "            'D': {'adjacent': [('E', 3)], 'point': (3, 1)},\n",
        "            'E': {'adjacent': [('D', 3), ('I', 6)], 'point': (3, 4)},\n",
        "            'F': {'adjacent': [('B', 2), ('G', 5), ('J', 6)], 'point': (3, 6)},\n",
        "            'G': {'adjacent': [('F', 5), ('K', 6)], 'point': (3, 11)},\n",
        "            'H': {'adjacent': [('I', 3)], 'point': (9, 1)},\n",
        "            'I': {'adjacent': [('E', 6), ('J', 2)], 'point': (9, 4)},\n",
        "            'J': {'adjacent': [('F', 6), ('I', 2), ('K', 5), ('O', 2)], 'point': (9, 6)},\n",
        "            'K': {'adjacent': [('G', 6), ('J', 5), ('L', 2), ('T', 9)], 'point': (9, 11)},\n",
        "            'L': {'adjacent': [('C', 8), ('K', 2), ('U', 9)], 'point': (9, 13)},\n",
        "            'M': {'adjacent': [('N', 3)], 'point': (11, 1)},\n",
        "            'N': {'adjacent': [('M', 3), ('O', 2), ('R', 7)], 'point': (11, 4)},\n",
        "            'O': {'adjacent': [('J', 2), ('N', 2), ('P', 3)], 'point': (11, 6)},\n",
        "            'P': {'adjacent': [('O', 3), ('S', 7)], 'point': (11, 9)},\n",
        "            'Q': {'adjacent': [('R', 3)], 'point': (18, 1)},\n",
        "            'R': {'adjacent': [('N', 7), ('Q', 3), ('S', 5)], 'point': (18, 4)},\n",
        "            'S': {'adjacent': [('P', 7), ('R', 5), ('T', 2)], 'point': (18, 9)},\n",
        "            'T': {'adjacent': [('K', 9), ('S', 2), ('U', 2)], 'point': (18, 11)},\n",
        "            'U': {'adjacent': [('L', 9), ('T', 2)], 'point': (18, 13)}\n",
        "        }\n",
        "\n",
        "        # Determina o estado inicial do problema no formato (CAMINHO, CUSTO)\n",
        "        self.first_state = (['A'], 0)\n",
        "\n",
        "        # Determina o estado objetivo (saída do labirinto)\n",
        "        self.objective_state = 'Q'\n",
        "        \n",
        "\n",
        "    # Implementação da heurística, que nesse caso é a distância em linha reta de dois pontos.\n",
        "    def heuristic(self, path ):\n",
        "\n",
        "        pointA = path[0][-1]\n",
        "        pointB = self.objective_state \n",
        "\n",
        "        pointa_values = self.map_maze[pointA]['point']\n",
        "        pointb_values = self.map_maze[pointB]['point']\n",
        "\n",
        "        diff_x = math.pow(pointa_values[0] - pointb_values[0], 2)\n",
        "        diff_y = math.pow(pointa_values[1] - pointb_values[1], 2)\n",
        "\n",
        "        distance = math.sqrt(diff_x + diff_y)\n",
        "\n",
        "        return distance\n",
        "\n",
        "    # Implementação do método que retorna os vértices adjacentes a partir do grafo do labirinto\n",
        "    def get_adjacent_not_visited(self, state_):\n",
        "\n",
        "        states = self.map_maze[state_]['adjacent']\n",
        "        return_ = []\n",
        "\n",
        "        for s in states:\n",
        "            if s[0] not in self.explored:\n",
        "                return_.append(s)\n",
        "\n",
        "        return return_\n",
        "\n"
      ]
    },
    {
      "cell_type": "markdown",
      "metadata": {},
      "source": [
        "Aplicando o algoritmo utilizando a **busca de custo uniforme**."
      ]
    },
    {
      "cell_type": "code",
      "execution_count": 4,
      "metadata": {
        "colab": {
          "base_uri": "https://localhost:8080/"
        },
        "id": "dqIz1zkxBSOC",
        "outputId": "9286939b-d313-46ac-c1b9-d4b8fea337ec"
      },
      "outputs": [
        {
          "name": "stdout",
          "output_type": "stream",
          "text": [
            "Melhor caminho da fronteira: ['A', 'B', 'F', 'J', 'O', 'N', 'R', 'Q'] \n",
            "Custo do melhor caminho: 27\n",
            "Numero de estados explorados: 19\n"
          ]
        }
      ],
      "source": [
        "search = MazeSearch(type='cost_uniform')\n",
        "search.run()"
      ]
    },
    {
      "cell_type": "markdown",
      "metadata": {},
      "source": [
        "Aplicando o algoritmo utilizando a **busca gulosa**"
      ]
    },
    {
      "cell_type": "code",
      "execution_count": 5,
      "metadata": {},
      "outputs": [
        {
          "name": "stdout",
          "output_type": "stream",
          "text": [
            "Melhor caminho da fronteira: ['A', 'B', 'F', 'J', 'O', 'N', 'R', 'Q'] \n",
            "Custo do melhor caminho: 27\n",
            "Numero de estados explorados: 8\n"
          ]
        }
      ],
      "source": [
        "search = MazeSearch(type='greedy')\n",
        "search.run()"
      ]
    },
    {
      "cell_type": "markdown",
      "metadata": {},
      "source": [
        "Aplicando o algoritmo utilizando a **busca A***"
      ]
    },
    {
      "cell_type": "code",
      "execution_count": 8,
      "metadata": {},
      "outputs": [
        {
          "name": "stdout",
          "output_type": "stream",
          "text": [
            "Melhor caminho da fronteira: ['A', 'B', 'F', 'J', 'O', 'N', 'R', 'Q'] \n",
            "Custo do melhor caminho: 27\n",
            "Numero de estados explorados: 10\n"
          ]
        }
      ],
      "source": [
        "search = MazeSearch(type='a_star')\n",
        "search.run()"
      ]
    },
    {
      "cell_type": "markdown",
      "metadata": {
        "id": "rz6npLtWBSOD"
      },
      "source": [
        "## Problema do Quebra Cabeça\n",
        "\n",
        "Esse problema consiste em resolver o quebra-cabeça 3x3 utilizando os algoritmos de busca. A imagem a seguir mostra um exemplo do quebra cabeça embaralhado.\n",
        "\n",
        "<img src=\"../imgs/quebracabeca1.png\" width=\"50%\" />\n",
        "\n",
        "O objetivo é aplicar o algoritmo de busca para encontrar a solução: o quebra cabeça montado com as peças nas posições corretas. Como mostrado na imagem a seguir:\n",
        "\n",
        "<img src=\"../imgs/quebracabeca2.jpg\" width=\"50%\" />\n",
        "\n",
        "Para resolver o problema, o quebra cabeça foi representado por meio de um array de 9 posições. Nesse array, o 0 indica o espaço vazio e os demais números representam cada peça. \n",
        "\n",
        "Por exemplo, a primeira imagem é representada pelo array `[5, 2, 8, 4, 1, 7, 0, 3, 6]`. O objetivo é encontrar o array que represente o quebra-cabeça montado. No caso, seria o array: `[0, 1, 2, 3, 4, 5, 6, 7, 8]`."
      ]
    },
    {
      "cell_type": "code",
      "execution_count": 10,
      "metadata": {
        "id": "kiMb1uAABSOE"
      },
      "outputs": [],
      "source": [
        "# Classe que implementa o problema do Quebra-Cabeça\n",
        "class PuzzleSearch(Search):\n",
        "\n",
        "    # Inicialização das variáveis\n",
        "    def __init__(self, type):\n",
        "        super().__init__(type)\n",
        "\n",
        "        # Estado inicial, que representa o quebra cabeça embaralhado, com as peças fora do lugar.\n",
        "        # O custo dessa solução é 0.\n",
        "        self.first_state = ([[5, 2, 8, 4, 1, 7, 0, 3, 6]], 0) \n",
        "\n",
        "        # Estado final, que representa o quebra cabeça montado, com as peças em seus lugares. \n",
        "        # O lugar correto das peças é definido pelo índice no array.\n",
        "        self.objective_state = [0, 1, 2, 3, 4, 5, 6, 7, 8]\n",
        "        \n",
        "\n",
        "\n",
        "    # Implementação da heurística para esse problema.\n",
        "    # Aquie a heurística corresponde ao total de peças fora do lugar. \n",
        "    def heuristic(self, path):\n",
        "\n",
        "        result = list(i[0] == i[1] for i in zip(self.objective_state, path[0][-1]))\n",
        "        return 9 - sum(result)\n",
        "\n",
        "    # Implementação do método que define os próximos estados a partir do estado atual.\n",
        "    # No quebra-cabeça 3x3 esse estado é definido de acordo com os movimentos possíveis das peças no estado atual.\n",
        "    def get_adjacent_not_visited(self, state_):\n",
        "\n",
        "        \n",
        "        black_index = [index for index, number in enumerate(state_) if number == 0][0]\n",
        "\n",
        "        index_up = black_index - 3\n",
        "        index_down = black_index + 3\n",
        "        index_right = black_index + 1\n",
        "        index_left = black_index - 1\n",
        "\n",
        "        possible_states = []\n",
        "\n",
        "        if index_up >= 0:\n",
        "            new_path = [e for e in state_]\n",
        "            temp_value = new_path[index_up]\n",
        "            new_path[index_up] = 0\n",
        "            new_path[black_index] = temp_value\n",
        "\n",
        "            if new_path not in self.explored:\n",
        "                possible_states.append((new_path, 1))\n",
        "\n",
        "        if index_down < 9:\n",
        "            new_path = [e for e in state_]\n",
        "            temp_value = new_path[index_down]\n",
        "            new_path[index_down] = 0\n",
        "            new_path[black_index] = temp_value\n",
        "\n",
        "            if new_path not in self.explored:\n",
        "                possible_states.append((new_path, 1))\n",
        "\n",
        "        if index_right < 9 and index_right % 3 != 0:\n",
        "            new_path = [e for e in state_]\n",
        "            temp_value = new_path[index_right]\n",
        "            new_path[index_right] = 0\n",
        "            new_path[black_index] = temp_value\n",
        "\n",
        "            if new_path not in self.explored:\n",
        "                possible_states.append((new_path, 1))\n",
        "\n",
        "        if index_left >= 0 and black_index % 3 != 0:\n",
        "            new_path = [e for e in state_]\n",
        "            temp_value = new_path[index_left]\n",
        "            new_path[index_left] = 0\n",
        "            new_path[black_index] = temp_value\n",
        "\n",
        "            if new_path not in self.explored:\n",
        "                possible_states.append((new_path, 1))\n",
        "\n",
        "        \n",
        "        return possible_states\n",
        "\n"
      ]
    },
    {
      "cell_type": "markdown",
      "metadata": {},
      "source": [
        "Aplicando o algoritmo utilizando a **busca gulosa**.  "
      ]
    },
    {
      "cell_type": "code",
      "execution_count": 12,
      "metadata": {},
      "outputs": [
        {
          "name": "stdout",
          "output_type": "stream",
          "text": [
            "Melhor caminho da fronteira: [[5, 2, 8, 4, 1, 7, 0, 3, 6], [5, 2, 8, 0, 1, 7, 4, 3, 6], [0, 2, 8, 5, 1, 7, 4, 3, 6], [2, 0, 8, 5, 1, 7, 4, 3, 6], [2, 1, 8, 5, 0, 7, 4, 3, 6], [2, 1, 8, 5, 3, 7, 4, 0, 6], [2, 1, 8, 5, 3, 7, 0, 4, 6], [2, 1, 8, 0, 3, 7, 5, 4, 6], [2, 1, 8, 3, 0, 7, 5, 4, 6], [2, 1, 8, 3, 4, 7, 5, 0, 6], [2, 1, 8, 3, 4, 7, 5, 6, 0], [2, 1, 8, 3, 4, 0, 5, 6, 7], [2, 1, 8, 3, 0, 4, 5, 6, 7], [2, 1, 8, 0, 3, 4, 5, 6, 7], [2, 1, 8, 5, 3, 4, 0, 6, 7], [2, 1, 8, 5, 3, 4, 6, 0, 7], [2, 1, 8, 5, 3, 4, 6, 7, 0], [2, 1, 8, 5, 3, 0, 6, 7, 4], [2, 1, 0, 5, 3, 8, 6, 7, 4], [2, 0, 1, 5, 3, 8, 6, 7, 4], [2, 3, 1, 5, 0, 8, 6, 7, 4], [2, 3, 1, 0, 5, 8, 6, 7, 4], [0, 3, 1, 2, 5, 8, 6, 7, 4], [3, 0, 1, 2, 5, 8, 6, 7, 4], [3, 1, 0, 2, 5, 8, 6, 7, 4], [3, 1, 8, 2, 5, 0, 6, 7, 4], [3, 1, 8, 2, 0, 5, 6, 7, 4], [3, 1, 8, 0, 2, 5, 6, 7, 4], [0, 1, 8, 3, 2, 5, 6, 7, 4], [1, 0, 8, 3, 2, 5, 6, 7, 4], [1, 2, 8, 3, 0, 5, 6, 7, 4], [1, 2, 8, 3, 5, 0, 6, 7, 4], [1, 2, 0, 3, 5, 8, 6, 7, 4], [1, 0, 2, 3, 5, 8, 6, 7, 4], [1, 5, 2, 3, 0, 8, 6, 7, 4], [1, 5, 2, 3, 7, 8, 6, 0, 4], [1, 5, 2, 3, 7, 8, 6, 4, 0], [1, 5, 2, 3, 7, 0, 6, 4, 8], [1, 5, 2, 3, 0, 7, 6, 4, 8], [1, 0, 2, 3, 5, 7, 6, 4, 8], [1, 2, 0, 3, 5, 7, 6, 4, 8], [1, 2, 7, 3, 5, 0, 6, 4, 8], [1, 2, 7, 3, 0, 5, 6, 4, 8], [1, 2, 7, 3, 4, 5, 6, 0, 8], [1, 2, 7, 3, 4, 5, 6, 8, 0], [1, 2, 7, 3, 4, 0, 6, 8, 5], [1, 2, 0, 3, 4, 7, 6, 8, 5], [1, 0, 2, 3, 4, 7, 6, 8, 5], [1, 4, 2, 3, 0, 7, 6, 8, 5], [1, 4, 2, 3, 7, 0, 6, 8, 5], [1, 4, 2, 3, 7, 5, 6, 8, 0], [1, 4, 2, 3, 7, 5, 6, 0, 8], [1, 4, 2, 3, 0, 5, 6, 7, 8], [1, 0, 2, 3, 4, 5, 6, 7, 8], [0, 1, 2, 3, 4, 5, 6, 7, 8]] \n",
            "Custo do melhor caminho: 54\n",
            "Numero de estados explorados: 530\n"
          ]
        }
      ],
      "source": [
        "search = PuzzleSearch(type='greedy')\n",
        "search.run()"
      ]
    },
    {
      "cell_type": "markdown",
      "metadata": {},
      "source": [
        "Aplicando o algoritmo utilizando a **busca A***.  "
      ]
    },
    {
      "cell_type": "code",
      "execution_count": 11,
      "metadata": {
        "colab": {
          "base_uri": "https://localhost:8080/"
        },
        "id": "R3McuO7DBSOF",
        "outputId": "21f52536-30ac-4157-bcb5-0a53624be93a"
      },
      "outputs": [
        {
          "name": "stdout",
          "output_type": "stream",
          "text": [
            "Melhor caminho da fronteira: [[5, 2, 8, 4, 1, 7, 0, 3, 6], [5, 2, 8, 4, 1, 7, 3, 0, 6], [5, 2, 8, 4, 1, 7, 3, 6, 0], [5, 2, 8, 4, 1, 0, 3, 6, 7], [5, 2, 0, 4, 1, 8, 3, 6, 7], [5, 0, 2, 4, 1, 8, 3, 6, 7], [0, 5, 2, 4, 1, 8, 3, 6, 7], [4, 5, 2, 0, 1, 8, 3, 6, 7], [4, 5, 2, 1, 0, 8, 3, 6, 7], [4, 0, 2, 1, 5, 8, 3, 6, 7], [0, 4, 2, 1, 5, 8, 3, 6, 7], [1, 4, 2, 0, 5, 8, 3, 6, 7], [1, 4, 2, 3, 5, 8, 0, 6, 7], [1, 4, 2, 3, 5, 8, 6, 0, 7], [1, 4, 2, 3, 5, 8, 6, 7, 0], [1, 4, 2, 3, 5, 0, 6, 7, 8], [1, 4, 2, 3, 0, 5, 6, 7, 8], [1, 0, 2, 3, 4, 5, 6, 7, 8], [0, 1, 2, 3, 4, 5, 6, 7, 8]] \n",
            "Custo do melhor caminho: 18\n",
            "Numero de estados explorados: 1265\n"
          ]
        }
      ],
      "source": [
        "search = PuzzleSearch(type='a_star')\n",
        "search.run()"
      ]
    },
    {
      "cell_type": "markdown",
      "metadata": {},
      "source": [
        "Como esse problema é bem mais custoso que o problema do labirinto. A aplicação da **busca de custo uniforme** fica extremamente custoso."
      ]
    },
    {
      "cell_type": "markdown",
      "metadata": {},
      "source": [
        "## É isso 🤖\n",
        "\n",
        "Estudem as implementações propostas neste notebook para entender como os algoritmos funcionam. Eles podem ser utilizados para resolver outros problemas de busca. \n",
        "\n",
        "**Até a próxima aula 🖖**\n",
        "\n",
        "<img src=\"https://media.giphy.com/media/3owzVVCtGOpiC6TNdK/giphy.gif\" width=\"50%\">\n",
        "\n"
      ]
    }
  ],
  "metadata": {
    "colab": {
      "include_colab_link": true,
      "name": "01_AlgoritmosDeBusca.ipynb",
      "provenance": []
    },
    "kernelspec": {
      "display_name": "Python 3.9.7 ('inteligenciaartificial')",
      "language": "python",
      "name": "python3"
    },
    "language_info": {
      "codemirror_mode": {
        "name": "ipython",
        "version": 3
      },
      "file_extension": ".py",
      "mimetype": "text/x-python",
      "name": "python",
      "nbconvert_exporter": "python",
      "pygments_lexer": "ipython3",
      "version": "3.9.7"
    },
    "vscode": {
      "interpreter": {
        "hash": "08127f97df6c02a53ef8f985c7fba4c27496d4e158c6aeb69a78d3e5c8eefc39"
      }
    }
  },
  "nbformat": 4,
  "nbformat_minor": 0
}
