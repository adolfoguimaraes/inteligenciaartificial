{
  "cells": [
    {
      "cell_type": "markdown",
      "metadata": {
        "id": "view-in-github",
        "colab_type": "text"
      },
      "source": [
        "<a href=\"https://colab.research.google.com/github/adolfoguimaraes/inteligenciaartificial/blob/main/code/02_SubidaDeEncosta.ipynb\" target=\"_parent\"><img src=\"https://colab.research.google.com/assets/colab-badge.svg\" alt=\"Open In Colab\"/></a>"
      ]
    },
    {
      "cell_type": "markdown",
      "id": "ca2aebfe-d0e7-46ab-a2c2-7b9659c49dbf",
      "metadata": {
        "id": "ca2aebfe-d0e7-46ab-a2c2-7b9659c49dbf"
      },
      "source": [
        "# Algoritmo Subida de Encosta"
      ]
    },
    {
      "cell_type": "code",
      "execution_count": 1,
      "id": "64b1cbae-38ac-4096-a11a-20248251943c",
      "metadata": {
        "id": "64b1cbae-38ac-4096-a11a-20248251943c"
      },
      "outputs": [],
      "source": [
        "import random \n",
        "\n",
        "class HillClimb:\n",
        "        \n",
        "    def __init__(self, with_random=False):\n",
        "        self.initial_state = None \n",
        "        self.with_random = with_random\n",
        "        self.stop_value = None \n",
        "        random.seed(42)\n",
        "        \n",
        "        \n",
        "    def run(self):\n",
        "        \n",
        "        cost = self.cost_function(self.initial_state)\n",
        "        state = self.initial_state\n",
        "        attempts = 0\n",
        "        while True:\n",
        "            self.print(state)\n",
        "            best_local = self.get_best_local(state)\n",
        "            cost_local = self.cost_function(best_local)\n",
        "            \n",
        "            \n",
        "            if cost_local == self.stop_value:\n",
        "                self.print(best_local)\n",
        "                break\n",
        "            else:\n",
        "                if cost_local == cost:\n",
        "                    \n",
        "                    if self.with_random:\n",
        "                        print(\">> Shuffle %i\" % attempts )\n",
        "                        random.shuffle(state)\n",
        "                        attempts += 1\n",
        "                        if attempts == 100:\n",
        "                            self.print(best_local)\n",
        "                            break\n",
        "                    else:\n",
        "                        self.print(best_local)\n",
        "                        break\n",
        "                else:\n",
        "                    state = best_local\n",
        "                    cost = cost_local\n",
        "            \n",
        "            \n",
        "                \n",
        "    def cost_function(self, state):\n",
        "        pass \n",
        "    \n",
        "    def get_best_local(self, state):\n",
        "        pass \n",
        "    \n",
        "    def print(self,state):\n",
        "        print(\"%s -> %i\" % (state, self.cost_function(state)))\n",
        "    "
      ]
    },
    {
      "cell_type": "code",
      "execution_count": 4,
      "id": "08dc7171-4930-47de-a2ed-120bb12bb91b",
      "metadata": {
        "id": "08dc7171-4930-47de-a2ed-120bb12bb91b"
      },
      "outputs": [],
      "source": [
        "class QueenProblem(HillClimb):\n",
        "    \n",
        "    def __init__(self, random):\n",
        "        super().__init__(with_random=random)\n",
        "        self.initial_state = [0, 1, 2, 3, 4, 5, 6, 7]\n",
        "        self.stop_value = 0\n",
        "\n",
        "    # Update matrix attack cost\n",
        "    def get_best_local(self,state):\n",
        "        \n",
        "        copy_sate = state.copy()\n",
        "        return_state = state.copy()\n",
        "        \n",
        "\n",
        "        min_attacks = [(float('Inf'), 0),\n",
        "                       (float('Inf'), 0),\n",
        "                       (float('Inf'), 0),\n",
        "                       (float('Inf'), 0),\n",
        "                       (float('Inf'), 0),\n",
        "                       (float('Inf'), 0),\n",
        "                       (float('Inf'), 0),\n",
        "                       (float('Inf'), 0)]\n",
        "\n",
        "        for column in range(0, 8):\n",
        "            for line in range(0, 8):\n",
        "                copy_sate[column] = line\n",
        "                number_of_attacks = self.cost_function(copy_sate)\n",
        "\n",
        "                if float(number_of_attacks) < min_attacks[column][0]:\n",
        "                    min_attacks[column] = (number_of_attacks, line)\n",
        "\n",
        "\n",
        "        less_attack = float('Inf')\n",
        "        less_attack_tuple = (0, 0)\n",
        "        for values in min_attacks:\n",
        "            if values[0] < less_attack:\n",
        "                less_attack = values[0]\n",
        "                less_attack_tuple = values\n",
        "        \n",
        "        index = min_attacks.index(less_attack_tuple)\n",
        "        \n",
        "\n",
        "        return_state[index] = less_attack_tuple[1]\n",
        "\n",
        "        return return_state\n",
        "\n",
        "    # Get total of attacks in a specific point of board\n",
        "    def get_number_of_attacks(self, point, temp_queen_positions_):\n",
        "\n",
        "        count_ = 0\n",
        "        index_ = 0\n",
        "\n",
        "        number_of_attacks_inline = max(temp_queen_positions_.count(point[0]) - 1, 0)\n",
        "\n",
        "        for i in temp_queen_positions_:\n",
        "\n",
        "            q_position = (i, index_)\n",
        "\n",
        "            if q_position == point:\n",
        "                index_ = index_ + 1\n",
        "                continue\n",
        "\n",
        "            dif1 = abs(q_position[0] - point[0])\n",
        "            dif2 = abs(q_position[1] - point[1])\n",
        "\n",
        "            if dif1 == dif2:\n",
        "                count_ = count_ + 1\n",
        "\n",
        "            index_ = index_ + 1\n",
        "\n",
        "        return count_ + number_of_attacks_inline\n",
        "    \n",
        "    \n",
        "    def cost_function(self, state):\n",
        "        \n",
        "        index_ = 0\n",
        "        sum_ = 0\n",
        "        \n",
        "        for i in state:\n",
        "            number_of_attacks = self.get_number_of_attacks((i, index_), state)\n",
        "            sum_ += number_of_attacks\n",
        "            index_ += 1\n",
        "            \n",
        "        \n",
        "            \n",
        "        return (sum_/2)\n",
        "    "
      ]
    },
    {
      "cell_type": "code",
      "execution_count": 6,
      "id": "6b5cf3bd-9c85-4e6a-9719-e2c906bda07a",
      "metadata": {
        "id": "6b5cf3bd-9c85-4e6a-9719-e2c906bda07a",
        "outputId": "4e9e4cc9-f108-42db-b90d-3099ecf88165",
        "colab": {
          "base_uri": "https://localhost:8080/"
        }
      },
      "outputs": [
        {
          "output_type": "stream",
          "name": "stdout",
          "text": [
            "[0, 1, 2, 3, 4, 5, 6, 7] -> 28\n",
            "[0, 1, 2, 0, 4, 5, 6, 7] -> 22\n",
            "[0, 1, 3, 0, 4, 5, 6, 7] -> 16\n",
            "[0, 0, 3, 0, 4, 5, 6, 7] -> 13\n",
            "[2, 0, 3, 0, 4, 5, 6, 7] -> 7\n",
            "[2, 0, 3, 0, 4, 5, 6, 7] -> 7\n"
          ]
        }
      ],
      "source": [
        "search = QueenProblem(False)\n",
        "search.run()"
      ]
    },
    {
      "cell_type": "code",
      "execution_count": null,
      "id": "abbf7d22-7ac8-45a4-80fa-e3f0d50a9f77",
      "metadata": {
        "id": "abbf7d22-7ac8-45a4-80fa-e3f0d50a9f77"
      },
      "outputs": [],
      "source": [
        ""
      ]
    },
    {
      "cell_type": "code",
      "execution_count": null,
      "id": "0e55d41c-7d6e-456a-8232-4fb3eabcaf00",
      "metadata": {
        "id": "0e55d41c-7d6e-456a-8232-4fb3eabcaf00"
      },
      "outputs": [],
      "source": [
        ""
      ]
    }
  ],
  "metadata": {
    "kernelspec": {
      "display_name": "Python 3 (ipykernel)",
      "language": "python",
      "name": "python3"
    },
    "language_info": {
      "codemirror_mode": {
        "name": "ipython",
        "version": 3
      },
      "file_extension": ".py",
      "mimetype": "text/x-python",
      "name": "python",
      "nbconvert_exporter": "python",
      "pygments_lexer": "ipython3",
      "version": "3.9.7"
    },
    "colab": {
      "name": "02_SubidaDeEncosta.ipynb",
      "provenance": [],
      "include_colab_link": true
    }
  },
  "nbformat": 4,
  "nbformat_minor": 5
}