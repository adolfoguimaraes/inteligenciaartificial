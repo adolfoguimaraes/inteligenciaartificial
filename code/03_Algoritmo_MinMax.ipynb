{
  "cells": [
    {
      "cell_type": "markdown",
      "metadata": {
        "id": "view-in-github",
        "colab_type": "text"
      },
      "source": [
        "<a href=\"https://colab.research.google.com/github/adolfoguimaraes/inteligenciaartificial/blob/main/code/03_Algoritmo_MinMax.ipynb\" target=\"_parent\"><img src=\"https://colab.research.google.com/assets/colab-badge.svg\" alt=\"Open In Colab\"/></a>"
      ]
    },
    {
      "cell_type": "markdown",
      "metadata": {
        "id": "TPWhCH8RaG8X"
      },
      "source": [
        "# Algoritmo MinMax"
      ]
    },
    {
      "cell_type": "code",
      "execution_count": null,
      "metadata": {
        "id": "GuINwV4WaG8a"
      },
      "outputs": [],
      "source": [
        "from random import randrange"
      ]
    },
    {
      "cell_type": "markdown",
      "metadata": {
        "id": "hsvMroDjaG8d"
      },
      "source": [
        "## Algoritmo"
      ]
    },
    {
      "cell_type": "code",
      "execution_count": null,
      "metadata": {
        "id": "Oyc4VCiuaG8e"
      },
      "outputs": [],
      "source": [
        "class MinMax():\n",
        "\n",
        "    def __init__(self, tree):\n",
        "\n",
        "        self.tree = tree\n",
        "        self.generateMinMaxTree(self.tree)\n",
        "\n",
        "    def generateMinMaxTree(self, tree):\n",
        "\n",
        "        value = self.maxValue(tree.root)\n",
        "\n",
        "        tree.root.data.point = value\n",
        "\n",
        "    def maxValue(self, node):\n",
        "\n",
        "        if(node.data.is_final):\n",
        "\n",
        "            self.setPoints(node)\n",
        "\n",
        "            return node.data.point\n",
        "\n",
        "        \n",
        "        value = float(\"-inf\")\n",
        "\n",
        "        \n",
        "        for children in node.children:\n",
        "            value = max(value, self.minValue(children))\n",
        "\n",
        "        node.data.point = value\n",
        "\n",
        "        return value\n",
        "\n",
        "    def minValue(self, node):\n",
        "\n",
        "        if(node.data.is_final):\n",
        "\n",
        "            self.setPoints(node)\n",
        "\n",
        "            return node.data.point\n",
        "\n",
        "        value = float(\"inf\")\n",
        "\n",
        "        \n",
        "        for children in node.children:\n",
        "\n",
        "            value = min(value, self.maxValue(children))\n",
        "\n",
        "        node.data.point = value\n",
        "\n",
        "        return value \n",
        "\n",
        "\n",
        "    # TO IMPLEMENT \n",
        "    def setPoints(self, node):\n",
        "        pass \n",
        "\n",
        "    def getMove(self, node):\n",
        "        pass \n",
        "\n"
      ]
    },
    {
      "cell_type": "markdown",
      "metadata": {
        "id": "IRXDcv_OaG8h"
      },
      "source": [
        "## Tic-Tac-Toe"
      ]
    },
    {
      "cell_type": "code",
      "execution_count": null,
      "metadata": {
        "id": "AhlPQoguaG8j"
      },
      "outputs": [],
      "source": [
        "class State():\n",
        "\n",
        "    table_configuration = []\n",
        "    point = 0\n",
        "    is_final = False\n",
        "    winner = 0\n",
        "\n",
        "    def __init__(self, configuration, point):\n",
        "\n",
        "        self.table_configuration = configuration\n",
        "        self.point = point\n",
        "\n",
        "    def setMove(self, position, value):\n",
        "\n",
        "        self.table_configuration[position] = value\n",
        "\n",
        "    def getConfiguration(self):\n",
        "        \n",
        "        return self.table_configuration\n"
      ]
    },
    {
      "cell_type": "code",
      "execution_count": null,
      "metadata": {
        "id": "BZQIMeRNaG8l"
      },
      "outputs": [],
      "source": [
        "class Tree: \n",
        "\n",
        "    root = None\n",
        "\n",
        "    def __init__(self, root):\n",
        "\n",
        "        self.root = root\n",
        "\n",
        "    \n",
        "    def setRoot(self, root):\n",
        "\n",
        "        self.root = root\n",
        "\n",
        "    def getRoot(self):\n",
        "        return self.root"
      ]
    },
    {
      "cell_type": "code",
      "execution_count": null,
      "metadata": {
        "id": "V6mCLwQTaG8n"
      },
      "outputs": [],
      "source": [
        "class TreeNode:\n",
        "\n",
        "    data = None\n",
        "    parent = None\n",
        "    children = None\n",
        "    min_max_value = 0\n",
        "\n",
        "    def __init__(self, data=None, parent=None, children=None): \n",
        "        self.data = data\n",
        "        self.parent = parent\n",
        "        self.children = []\n",
        "\n",
        "        \n",
        "    def insertChild(self, child):\n",
        "\n",
        "        child.parent = self\n",
        "        self.children.append(child)\n",
        "\n",
        "    def getHeight(self):\n",
        "        height = 1\n",
        "        current = self\n",
        "\n",
        "        while(current.parent):\n",
        "\n",
        "            height += 1\n",
        "            current = current.parent\n",
        "\n",
        "        return height"
      ]
    },
    {
      "cell_type": "code",
      "execution_count": null,
      "metadata": {
        "id": "5MxZSsBfaG8n"
      },
      "outputs": [],
      "source": [
        "class TicTacToeTree():\n",
        "\n",
        "    count_move = 0\n",
        "\n",
        "    def __init__(self):\n",
        "        initial_configuration = [0, 0, 0, 0, 0, 0, 0, 0, 0]\n",
        "        initial_state = State(initial_configuration, 0)\n",
        "\n",
        "\n",
        "        node = TreeNode(data=initial_state, parent=None, children=[])\n",
        "\n",
        "        self.tree = Tree(root=node)\n",
        "\n",
        "        self.generateGameTree(self.tree)\n",
        "\n",
        "\n",
        "    def generateGameTree(self, tree):\n",
        "\n",
        "        currentNode = tree.root\n",
        "\n",
        "        self.updateChildren(currentNode)\n",
        "\n",
        "    \n",
        "    def updateChildren(self, node):\n",
        "\n",
        "        if(node.parent == None):\n",
        "            self.count_move = 1\n",
        "        else:\n",
        "            if(node.min_max_value == 1):\n",
        "                self.count_move = 2\n",
        "            elif(node.min_max_value == 2):\n",
        "                self.count_move = 1\n",
        "\n",
        "        if(node.children == None):\n",
        "            return\n",
        "\n",
        "        root_configuration = node.data.getConfiguration()\n",
        "        winner = self.checkIfWin(root_configuration)\n",
        "\n",
        "        if(winner != 0):\n",
        "\n",
        "            node.data.is_final = True\n",
        "            node.data.winner = winner\n",
        "            return\n",
        "\n",
        "\n",
        "        possible_configuration = self.generatePossibleConfiguration(root_configuration, self.count_move)\n",
        "\n",
        "        if(len(possible_configuration) == 0):\n",
        "            node.children = None\n",
        "            node.data.is_final = True\n",
        "        else:\n",
        "\n",
        "            for move in possible_configuration:\n",
        "\n",
        "                state = State(move, 0)\n",
        "                temp_node = TreeNode(data=state, parent=node, children=None)\n",
        "                temp_node.min_max_value = self.count_move\n",
        "                node.children.append(temp_node)\n",
        "\n",
        "                \n",
        "\n",
        "            \n",
        "            for child_node in node.children:\n",
        "\n",
        "                self.updateChildren(child_node)\n",
        "\n",
        "\n",
        "    def generatePossibleConfiguration(self, source, marca):\n",
        "\n",
        "        all_configuration = []\n",
        "        count = 0\n",
        "\n",
        "        for value in source:\n",
        "\n",
        "            if(value == 0):\n",
        "\n",
        "                new_configuration = [v for v in source]\n",
        "                new_configuration[count] = self.count_move\n",
        "                all_configuration.append(new_configuration)\n",
        "\n",
        "            count += 1\n",
        "\n",
        "        return all_configuration\n",
        "\n",
        "\n",
        "    def checkIfWin(self, configuration):\n",
        "\n",
        "        if (configuration[0] == 1 and configuration[1] == 1 and configuration[2] == 1): return 1\n",
        "        elif (configuration[0] == 2 and configuration[1] == 2 and configuration[2] == 2): return 2\n",
        "        elif (configuration[3] == 1 and configuration[4] == 1 and configuration[5] == 1): return 1\n",
        "        elif (configuration[3] == 2 and configuration[4] == 2 and configuration[5] == 2): return 2\n",
        "        elif (configuration[6] == 1 and configuration[7] == 1 and configuration[8] == 1): return 1\n",
        "        elif (configuration[6] == 2 and configuration[7] == 2 and configuration[8] == 2): return 2\n",
        "        elif (configuration[0] == 1 and configuration[3] == 1 and configuration[6] == 1): return 1\n",
        "        elif (configuration[0] == 2 and configuration[3] == 2 and configuration[6] == 2): return 2\n",
        "        elif (configuration[1] == 1 and configuration[4] == 1 and configuration[7] == 1): return 1\n",
        "        elif (configuration[1] == 2 and configuration[4] == 2 and configuration[7] == 2): return 2\n",
        "        elif (configuration[2] == 1 and configuration[5] == 1 and configuration[8] == 1): return 1\n",
        "        elif (configuration[2] == 2 and configuration[5] == 2 and configuration[8] == 2): return 2\n",
        "        elif (configuration[0] == 1 and configuration[4] == 1 and configuration[8] == 1): return 1\n",
        "        elif (configuration[0] == 2 and configuration[4] == 2 and configuration[8] == 2): return 2\n",
        "        elif (configuration[2] == 1 and configuration[4] == 1 and configuration[6] == 1): return 1\n",
        "        elif (configuration[2] == 2 and configuration[4] == 2 and configuration[6] == 2): return 2\n",
        "        else: return 0"
      ]
    },
    {
      "cell_type": "markdown",
      "metadata": {
        "id": "Ybx_J6E1aG8p"
      },
      "source": [
        "## Usando MinMax para resolver o problema do Jogo da Velha"
      ]
    },
    {
      "cell_type": "code",
      "execution_count": null,
      "metadata": {
        "id": "JWSL2kC8aG8q"
      },
      "outputs": [],
      "source": [
        "class TicTacToeProblem(MinMax):\n",
        "\n",
        "    def __init__(self, tree):\n",
        "\n",
        "        self.tree = tree\n",
        "        super().__init__(self.tree)\n",
        "\n",
        "\n",
        "    def searchMove(self, list_):\n",
        "        \n",
        "\n",
        "        for element in list_:\n",
        "            if(element.data.point == 10):\n",
        "                return element\n",
        "\n",
        "\n",
        "        list_zero = []\n",
        "        for element in list_:\n",
        "            if(element.data.point == 0):\n",
        "                list_zero.append(element)\n",
        "        \n",
        "\n",
        "        if len(list_zero) > 0:\n",
        "            return list_zero[randrange(len(list_zero))]\n",
        "        else:\n",
        "            return list_[0]\n",
        "\n",
        "                \n",
        "    def searchNode(self, node, configuration):\n",
        "\n",
        "        \n",
        "\n",
        "        if(node.data.table_configuration == configuration):\n",
        "\n",
        "            return node \n",
        "\n",
        "        if(node.children):\n",
        "            for child in node.children:\n",
        "\n",
        "                search_node = self.searchNode(child, configuration)\n",
        "\n",
        "                if(search_node):\n",
        "                    return search_node\n",
        "\n",
        "        \n",
        "        return None \n",
        "\n",
        "    def getMove(self, configuration):\n",
        "        node = self.searchNode(self.tree.root, configuration)\n",
        "\n",
        "        if node is None:\n",
        "            return None\n",
        "\n",
        "        children = node.children\n",
        "\n",
        "        count = 0\n",
        "\n",
        "        if(children):\n",
        "\n",
        "            move = self.searchMove(children)\n",
        "\n",
        "            move_id = -1\n",
        "\n",
        "\n",
        "            for c in configuration:\n",
        "                \n",
        "                if(c != move.data.getConfiguration()[count]):\n",
        "\n",
        "                    move_id = count\n",
        "                    break\n",
        "\n",
        "                count += 1\n",
        "\n",
        "            \n",
        "            if(move_id == 0): return (0, 0)\n",
        "            elif(move_id == 1): return (0, 1)\n",
        "            elif(move_id == 2): return (0, 2)\n",
        "            elif(move_id == 3): return (1, 0)\n",
        "            elif(move_id == 4): return (1, 1)\n",
        "            elif(move_id == 5): return (1, 2)\n",
        "            elif(move_id == 6): return (2, 0)\n",
        "            elif(move_id == 7): return (2, 1)\n",
        "            elif(move_id == 8): return (2, 2)\n",
        "\n",
        "\n",
        "        return None\n",
        "\n",
        "    def setPoints(self, node):\n",
        "        if(node.data.winner == 1): node.data.point = 10\n",
        "        elif(node.data.winner == 2): node.data.point = -10\n",
        "        else: node.data.point = 0\n",
        " "
      ]
    },
    {
      "cell_type": "markdown",
      "metadata": {
        "id": "jEDzVPJ1aG8s"
      },
      "source": [
        "## Executando o MinMax "
      ]
    },
    {
      "cell_type": "code",
      "execution_count": null,
      "metadata": {
        "id": "jInVu6BlaG8s"
      },
      "outputs": [],
      "source": [
        "# Criando a árvore do Jogo da Velha\n",
        "tree_ = TicTacToeTree()"
      ]
    },
    {
      "cell_type": "code",
      "execution_count": null,
      "metadata": {
        "id": "mm5HhtizaG8t"
      },
      "outputs": [],
      "source": [
        "# Criando a árvore do MinMax \n",
        "minmax_ = TicTacToeProblem(tree_.tree)"
      ]
    },
    {
      "cell_type": "code",
      "execution_count": null,
      "metadata": {
        "id": "x0SaGw3zaG8u",
        "outputId": "3b26460a-26f3-4e25-f2c7-ec0976218a41"
      },
      "outputs": [
        {
          "name": "stdout",
          "output_type": "stream",
          "text": [
            "(0, 2)\n",
            "(1, 0)\n"
          ]
        }
      ],
      "source": [
        "move = minmax_.getMove([1, 2, 0, 0, 1, 0, 0, 0, 0])\n",
        "print(move)\n",
        "move = minmax_.getMove([1, 2, 2, 0, 1, 0, 0, 0, 0])\n",
        "print(move)"
      ]
    }
  ],
  "metadata": {
    "interpreter": {
      "hash": "22f6bab55def2cab2159870198438f46de8e190d709b22092e52c9a14574a288"
    },
    "kernelspec": {
      "display_name": "Python 3.9.7 ('base')",
      "language": "python",
      "name": "python3"
    },
    "language_info": {
      "codemirror_mode": {
        "name": "ipython",
        "version": 3
      },
      "file_extension": ".py",
      "mimetype": "text/x-python",
      "name": "python",
      "nbconvert_exporter": "python",
      "pygments_lexer": "ipython3",
      "version": "3.9.7"
    },
    "orig_nbformat": 4,
    "colab": {
      "name": "03_Algoritmo_MinMax.ipynb",
      "provenance": [],
      "include_colab_link": true
    }
  },
  "nbformat": 4,
  "nbformat_minor": 0
}