{
  "cells": [
    {
      "cell_type": "markdown",
      "source": [
        "# Prolog com Python \n",
        "\n",
        "As bases utilizadas neste documento estão disponíveis no repositório: https://github.com/adolfoguimaraes/inteligenciaartificial."
      ],
      "metadata": {
        "id": "JgBZ0j-CpUvb"
      }
    },
    {
      "cell_type": "markdown",
      "metadata": {
        "id": "fNTNrZ0kgCoL"
      },
      "source": [
        "O primeiro passo é instalar os pacotes necessários. Neste caso, precisam ser instalados o **SWI-Prolog** na máquina e a biblioteca **pyswip**.\n",
        "\n",
        "Se você estiver rodando esse código no Google Colab, execute os códigos a seguir em um célula de código: \n",
        "\n",
        "```shell\n",
        "!sudo apt install swi-prolog\n",
        "!pip install pyswip\n",
        "```\n",
        "\n",
        "No colab, essa instalação deve ser feita toda vez que for executar o notebook.\n",
        "\n",
        "Para quem for executar esses códigos localmente, as informações de instalação do `swi-prolog` estão neste link: https://www.swi-prolog.org/download/stable. "
      ]
    },
    {
      "cell_type": "code",
      "execution_count": null,
      "metadata": {
        "id": "T5IdQVhVgCoQ"
      },
      "outputs": [],
      "source": [
        "# Rodar essa célular apenas se tiver rodando no colab.\n",
        "\n",
        "!sudo apt install swi-prolog\n",
        "!pip install pyswip"
      ]
    },
    {
      "cell_type": "markdown",
      "source": [
        "O código a seguir importa o pacote `pyswip`. "
      ],
      "metadata": {
        "id": "TBkUSF8KgW1R"
      }
    },
    {
      "cell_type": "code",
      "execution_count": 2,
      "metadata": {
        "id": "TqP4S78MgCoR"
      },
      "outputs": [],
      "source": [
        "from pyswip import Prolog"
      ]
    },
    {
      "cell_type": "markdown",
      "source": [
        "Agora vamos instanciar o objeto `Prolog` e carregar o arquivo `base1.pl` com nossa primeira base de trabalho. As bases podem ser encontradas no repositório na pasta `datasetes/kb_prolog`. "
      ],
      "metadata": {
        "id": "g7ky6btBghq-"
      }
    },
    {
      "cell_type": "code",
      "source": [
        "prolog = Prolog()\n",
        "prolog.consult(\"base1.pl\")"
      ],
      "metadata": {
        "id": "KsdbpLoFgc4r"
      },
      "execution_count": 3,
      "outputs": []
    },
    {
      "cell_type": "markdown",
      "source": [
        "Uma vez que a base foi carrega é possível fazer consultas a mesma. Para facilitar esse processo, foi criada uma função que recebe a pergunta e retorna `True` ou `False` de acordo com os fatos carregados na base. "
      ],
      "metadata": {
        "id": "7IDqgLzVgzkX"
      }
    },
    {
      "cell_type": "code",
      "source": [
        "def consultar_base(pergunta: str):\n",
        "\n",
        "  \"\"\"\n",
        "    Esse método recebe uma pergunta com parâmetro e retorna True se assertiva \n",
        "    for verdadeira e False, caso contrário. Caso a pergunta seja com variáveis, \n",
        "    o método vai retornar uma lista de dicionários, onde a chave de cada \n",
        "    dicionário é uma variável passada. \n",
        "\n",
        "    :param pergunta: str\n",
        "    \n",
        "    :return : bool, list\n",
        "  \"\"\"\n",
        "\n",
        "  result_ = prolog.query(pergunta)\n",
        "  result_list = list(result_)\n",
        "\n",
        "  if len(result_list) == 0: return False\n",
        "  else:\n",
        "    if len(result_list[0].keys()) == 0: return True\n",
        "    else:\n",
        "      return result_list\n",
        "\n"
      ],
      "metadata": {
        "id": "awxbDuk-hDCn"
      },
      "execution_count": 45,
      "outputs": []
    },
    {
      "cell_type": "markdown",
      "source": [
        "Vamos consultar um fato que retorna verdadeiro."
      ],
      "metadata": {
        "id": "vp_FuaUSk_7z"
      }
    },
    {
      "cell_type": "code",
      "source": [
        "consultar_base(\"homem(ned)\")"
      ],
      "metadata": {
        "id": "E2cz-Qvthe4b",
        "outputId": "30457b58-cd7e-4bf8-d8ee-82f893a638b4",
        "colab": {
          "base_uri": "https://localhost:8080/"
        }
      },
      "execution_count": 46,
      "outputs": [
        {
          "output_type": "execute_result",
          "data": {
            "text/plain": [
              "True"
            ]
          },
          "metadata": {},
          "execution_count": 46
        }
      ]
    },
    {
      "cell_type": "markdown",
      "source": [
        "Agora um fato que retorna falso."
      ],
      "metadata": {
        "id": "e0mxHemJlCyb"
      }
    },
    {
      "cell_type": "code",
      "source": [
        "consultar_base(\"homem(sansa)\")"
      ],
      "metadata": {
        "id": "qum-R-htk9yp",
        "outputId": "52115af7-7f52-4b12-c91f-194cb93b0c10",
        "colab": {
          "base_uri": "https://localhost:8080/"
        }
      },
      "execution_count": 47,
      "outputs": [
        {
          "output_type": "execute_result",
          "data": {
            "text/plain": [
              "False"
            ]
          },
          "metadata": {},
          "execution_count": 47
        }
      ]
    },
    {
      "cell_type": "markdown",
      "source": [
        "Agora um fato com variáveis."
      ],
      "metadata": {
        "id": "uk1EeiHClIYU"
      }
    },
    {
      "cell_type": "code",
      "source": [
        "consultar_base(\"mulher(X)\")"
      ],
      "metadata": {
        "id": "9SXfvSgYlGvC",
        "outputId": "791a7b2a-66c2-4209-e4df-1c0cc5885947",
        "colab": {
          "base_uri": "https://localhost:8080/"
        }
      },
      "execution_count": 48,
      "outputs": [
        {
          "output_type": "execute_result",
          "data": {
            "text/plain": [
              "[{'X': 'sansa'}, {'X': 'arya'}, {'X': 'catelyn'}]"
            ]
          },
          "metadata": {},
          "execution_count": 48
        }
      ]
    },
    {
      "cell_type": "markdown",
      "source": [
        "Realize algumas consultas utilizando o código a seguir: "
      ],
      "metadata": {
        "id": "msKwDe22lOW2"
      }
    },
    {
      "cell_type": "code",
      "source": [
        "consulta = input(\"Digite sua consulta: \")\n",
        "consultar_base(consulta)"
      ],
      "metadata": {
        "id": "mp8jf0nTlMfd",
        "outputId": "2ee70850-33b5-4a5e-d435-b5ee013120e5",
        "colab": {
          "base_uri": "https://localhost:8080/"
        }
      },
      "execution_count": 50,
      "outputs": [
        {
          "name": "stdout",
          "output_type": "stream",
          "text": [
            "Digite sua consulta: progenitor(ned, X)\n"
          ]
        },
        {
          "output_type": "execute_result",
          "data": {
            "text/plain": [
              "[{'X': 'robb'},\n",
              " {'X': 'sansa'},\n",
              " {'X': 'arya'},\n",
              " {'X': 'bran'},\n",
              " {'X': 'rickon'},\n",
              " {'X': 'jon'}]"
            ]
          },
          "metadata": {},
          "execution_count": 50
        }
      ]
    },
    {
      "cell_type": "markdown",
      "source": [
        "A base que estamos usando possui apenas fatos. Vamos aumentar nossa base com algumas regras.\n",
        "\n",
        "A primeira regra que vamos criar é a de irmão. Vamos considerar irmãos duas pessoas que tem o mesmo pai ou a mesma mãe. \n",
        "\n",
        "Adicione a seguinte regra ao arquivo original: \n",
        "\n",
        "```prolog\n",
        "irmao(X, Y) :- progenitor(Z, X), progenitor(Z, Y).\n",
        "```\n",
        "\n",
        "Salve o arquivo e carregue a base novamente. "
      ],
      "metadata": {
        "id": "TA8K4iFeliEW"
      }
    },
    {
      "cell_type": "code",
      "source": [
        "prolog.consult(\"base1.pl\")"
      ],
      "metadata": {
        "id": "xVwJNowwmvBV"
      },
      "execution_count": 53,
      "outputs": []
    },
    {
      "cell_type": "code",
      "source": [
        "consultar_base(\"irmao(sansa,Y)\")"
      ],
      "metadata": {
        "id": "J_H2BmoslZ_z",
        "outputId": "bf61225d-00b7-4077-eaef-f660ea5a9d43",
        "colab": {
          "base_uri": "https://localhost:8080/"
        }
      },
      "execution_count": 55,
      "outputs": [
        {
          "output_type": "execute_result",
          "data": {
            "text/plain": [
              "[{'Y': 'robb'},\n",
              " {'Y': 'sansa'},\n",
              " {'Y': 'arya'},\n",
              " {'Y': 'bran'},\n",
              " {'Y': 'rickon'},\n",
              " {'Y': 'jon'},\n",
              " {'Y': 'robb'},\n",
              " {'Y': 'sansa'},\n",
              " {'Y': 'arya'},\n",
              " {'Y': 'bran'},\n",
              " {'Y': 'rickon'}]"
            ]
          },
          "metadata": {},
          "execution_count": 55
        }
      ]
    },
    {
      "cell_type": "markdown",
      "source": [
        "Observer que Sansa é irmã de Sansa. Pela nossa regra esse conceito é válido. No entanto, é fácil perceber que não faz sentido. \n",
        "\n",
        "**Como podíamos modificar tal regra para que isso não acontecesse?** Proponha uma alteração, modifique a base e teste sua regra. "
      ],
      "metadata": {
        "id": "MzG9X62jm6cm"
      }
    },
    {
      "cell_type": "code",
      "source": [
        "# Insira seu cóidgo a partir daqui"
      ],
      "metadata": {
        "id": "pKcfiCnomrZ8"
      },
      "execution_count": null,
      "outputs": []
    },
    {
      "cell_type": "markdown",
      "source": [
        "**Que outras regras poderíamos criar?**\n",
        "\n",
        "Vamos criar mais algumas regras, adiciona-las e testar em nossa base. "
      ],
      "metadata": {
        "id": "uWaPkKoxngZ4"
      }
    },
    {
      "cell_type": "code",
      "source": [
        "# Teste as novas regras criadas"
      ],
      "metadata": {
        "id": "WXBFu-oLnjX8"
      },
      "execution_count": null,
      "outputs": []
    }
  ],
  "metadata": {
    "interpreter": {
      "hash": "08127f97df6c02a53ef8f985c7fba4c27496d4e158c6aeb69a78d3e5c8eefc39"
    },
    "kernelspec": {
      "display_name": "Python 3.9.7 ('inteligenciaartificial')",
      "language": "python",
      "name": "python3"
    },
    "language_info": {
      "codemirror_mode": {
        "name": "ipython",
        "version": 3
      },
      "file_extension": ".py",
      "mimetype": "text/x-python",
      "name": "python",
      "nbconvert_exporter": "python",
      "pygments_lexer": "ipython3",
      "version": "3.9.7"
    },
    "orig_nbformat": 4,
    "colab": {
      "name": "04_Prolog.ipynb",
      "provenance": []
    }
  },
  "nbformat": 4,
  "nbformat_minor": 0
}