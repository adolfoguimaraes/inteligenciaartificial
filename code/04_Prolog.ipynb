{
  "cells": [
    {
      "cell_type": "markdown",
      "metadata": {
        "id": "view-in-github",
        "colab_type": "text"
      },
      "source": [
        "<a href=\"https://colab.research.google.com/github/adolfoguimaraes/inteligenciaartificial/blob/main/code/04_Prolog.ipynb\" target=\"_parent\"><img src=\"https://colab.research.google.com/assets/colab-badge.svg\" alt=\"Open In Colab\"/></a>"
      ]
    },
    {
      "cell_type": "markdown",
      "source": [
        "# Prolog com Python \n",
        "\n",
        "As bases utilizadas neste documento estão disponíveis no repositório: https://github.com/adolfoguimaraes/inteligenciaartificial. \n",
        "\n",
        "Para facilitar o uso dessas bases aqui no Colab, essa base está replicada também no diretório https://drive.google.com/drive/folders/19euiVFFa32TmqR_WAE8Xer-8G273efXN?usp=sharing. "
      ],
      "metadata": {
        "id": "JgBZ0j-CpUvb"
      }
    },
    {
      "cell_type": "code",
      "source": [
        "# Para uso no colab\n",
        "dataset_path = \"\" "
      ],
      "metadata": {
        "id": "Cp_Y6KDM0TWG"
      },
      "execution_count": 19,
      "outputs": []
    },
    {
      "cell_type": "code",
      "source": [
        "# Para uso no github\n",
        "dataseet_path = \"../datasets/kb_prolog/\""
      ],
      "metadata": {
        "id": "kgxqq1Ua0X5d"
      },
      "execution_count": null,
      "outputs": []
    },
    {
      "cell_type": "markdown",
      "metadata": {
        "id": "fNTNrZ0kgCoL"
      },
      "source": [
        "O primeiro passo é instalar os pacotes necessários. Neste caso, precisam ser instalados o **SWI-Prolog** na máquina e a biblioteca **pyswip**.\n",
        "\n",
        "Se você estiver rodando esse código no Google Colab, execute os códigos a seguir em um célula de código: \n",
        "\n",
        "```shell\n",
        "!sudo apt install swi-prolog\n",
        "!pip install pyswip\n",
        "```\n",
        "\n",
        "No colab, essa instalação deve ser feita toda vez que for executar o notebook.\n",
        "\n",
        "Para quem for executar esses códigos localmente, as informações de instalação do `swi-prolog` estão neste link: https://www.swi-prolog.org/download/stable. "
      ]
    },
    {
      "cell_type": "code",
      "execution_count": null,
      "metadata": {
        "id": "T5IdQVhVgCoQ"
      },
      "outputs": [],
      "source": [
        "# Rodar essa célular apenas se tiver rodando no colab.\n",
        "\n",
        "!sudo apt install swi-prolog\n",
        "!pip install pyswip"
      ]
    },
    {
      "cell_type": "markdown",
      "source": [
        "O código a seguir importa o pacote `pyswip`. "
      ],
      "metadata": {
        "id": "TBkUSF8KgW1R"
      }
    },
    {
      "cell_type": "code",
      "execution_count": 4,
      "metadata": {
        "id": "TqP4S78MgCoR"
      },
      "outputs": [],
      "source": [
        "from pyswip import Prolog"
      ]
    },
    {
      "cell_type": "markdown",
      "source": [
        "Agora vamos instanciar o objeto `Prolog` e carregar o arquivo `base1.pl` com nossa primeira base de trabalho. As bases podem ser encontradas no repositório na pasta `datasetes/kb_prolog`. "
      ],
      "metadata": {
        "id": "g7ky6btBghq-"
      }
    },
    {
      "cell_type": "code",
      "source": [
        "prolog = Prolog()\n",
        "prolog.consult(dataset_path + \"base1.pl\")"
      ],
      "metadata": {
        "id": "KsdbpLoFgc4r"
      },
      "execution_count": 20,
      "outputs": []
    },
    {
      "cell_type": "markdown",
      "source": [
        "Uma vez que a base foi carrega é possível fazer consultas a mesma. Para facilitar esse processo, foi criada uma função que recebe a pergunta e retorna `True` ou `False` de acordo com os fatos carregados na base. "
      ],
      "metadata": {
        "id": "7IDqgLzVgzkX"
      }
    },
    {
      "cell_type": "code",
      "source": [
        "def consultar_base(pergunta: str):\n",
        "\n",
        "  \"\"\"\n",
        "    Esse método recebe uma pergunta com parâmetro e retorna True se assertiva \n",
        "    for verdadeira e False, caso contrário. Caso a pergunta seja com variáveis, \n",
        "    o método vai retornar uma lista de dicionários, onde a chave de cada \n",
        "    dicionário é uma variável passada. \n",
        "\n",
        "    :param pergunta: str\n",
        "    \n",
        "    :return : bool, list\n",
        "  \"\"\"\n",
        "\n",
        "  result_ = prolog.query(pergunta)\n",
        "  result_list = list(result_)\n",
        "\n",
        "  if len(result_list) == 0: return False\n",
        "  else:\n",
        "    if len(result_list[0].keys()) == 0: return True\n",
        "    else:\n",
        "      return result_list\n",
        "\n"
      ],
      "metadata": {
        "id": "awxbDuk-hDCn"
      },
      "execution_count": 6,
      "outputs": []
    },
    {
      "cell_type": "markdown",
      "source": [
        "Vamos consultar um fato que retorna verdadeiro."
      ],
      "metadata": {
        "id": "vp_FuaUSk_7z"
      }
    },
    {
      "cell_type": "code",
      "source": [
        "consultar_base(\"homem(ned)\")"
      ],
      "metadata": {
        "colab": {
          "base_uri": "https://localhost:8080/"
        },
        "id": "E2cz-Qvthe4b",
        "outputId": "fd7fbaeb-568b-4ec7-c893-d313f8915f12"
      },
      "execution_count": 21,
      "outputs": [
        {
          "output_type": "execute_result",
          "data": {
            "text/plain": [
              "True"
            ]
          },
          "metadata": {},
          "execution_count": 21
        }
      ]
    },
    {
      "cell_type": "markdown",
      "source": [
        "Agora um fato que retorna falso."
      ],
      "metadata": {
        "id": "e0mxHemJlCyb"
      }
    },
    {
      "cell_type": "code",
      "source": [
        "consultar_base(\"homem(sansa)\")"
      ],
      "metadata": {
        "colab": {
          "base_uri": "https://localhost:8080/"
        },
        "id": "qum-R-htk9yp",
        "outputId": "3925d66d-bbeb-46b3-bcf2-8661d8257160"
      },
      "execution_count": 8,
      "outputs": [
        {
          "output_type": "execute_result",
          "data": {
            "text/plain": [
              "False"
            ]
          },
          "metadata": {},
          "execution_count": 8
        }
      ]
    },
    {
      "cell_type": "markdown",
      "source": [
        "Agora um fato com variáveis."
      ],
      "metadata": {
        "id": "uk1EeiHClIYU"
      }
    },
    {
      "cell_type": "code",
      "source": [
        "consultar_base(\"mulher(X)\")"
      ],
      "metadata": {
        "colab": {
          "base_uri": "https://localhost:8080/"
        },
        "id": "9SXfvSgYlGvC",
        "outputId": "27ca6e01-0994-4c75-f3df-0972b30314fc"
      },
      "execution_count": 9,
      "outputs": [
        {
          "output_type": "execute_result",
          "data": {
            "text/plain": [
              "[{'X': 'sansa'}, {'X': 'arya'}, {'X': 'catelyn'}]"
            ]
          },
          "metadata": {},
          "execution_count": 9
        }
      ]
    },
    {
      "cell_type": "markdown",
      "source": [
        "Realize algumas consultas utilizando o código a seguir: "
      ],
      "metadata": {
        "id": "msKwDe22lOW2"
      }
    },
    {
      "cell_type": "code",
      "source": [
        "consulta = input(\"Digite sua consulta: \")\n",
        "consultar_base(consulta)"
      ],
      "metadata": {
        "colab": {
          "base_uri": "https://localhost:8080/"
        },
        "id": "mp8jf0nTlMfd",
        "outputId": "77b8be09-b43c-4479-f3ee-152cea8e2e43"
      },
      "execution_count": 11,
      "outputs": [
        {
          "name": "stdout",
          "output_type": "stream",
          "text": [
            "Digite sua consulta: homem(X)\n"
          ]
        },
        {
          "output_type": "execute_result",
          "data": {
            "text/plain": [
              "[{'X': 'rickard'},\n",
              " {'X': 'ned'},\n",
              " {'X': 'robb'},\n",
              " {'X': 'bran'},\n",
              " {'X': 'rickon'},\n",
              " {'X': 'jon'}]"
            ]
          },
          "metadata": {},
          "execution_count": 11
        }
      ]
    },
    {
      "cell_type": "markdown",
      "source": [
        "A base que estamos usando possui apenas fatos. Vamos aumentar nossa base com algumas regras.\n",
        "\n",
        "A primeira regra que vamos criar é a de irmão. Vamos considerar irmãos duas pessoas que tem o mesmo pai ou a mesma mãe. \n",
        "\n",
        "Adicione a seguinte regra ao arquivo original: \n",
        "\n",
        "```prolog\n",
        "irmao(X, Y) :- progenitor(Z, X), progenitor(Z, Y).\n",
        "```\n",
        "\n",
        "Salve o arquivo e carregue a base novamente. "
      ],
      "metadata": {
        "id": "TA8K4iFeliEW"
      }
    },
    {
      "cell_type": "code",
      "source": [
        "prolog.consult(dataset_path + \"base1.pl\")"
      ],
      "metadata": {
        "id": "xVwJNowwmvBV"
      },
      "execution_count": 12,
      "outputs": []
    },
    {
      "cell_type": "code",
      "source": [
        "consultar_base(\"irmao(sansa,sansa)\")"
      ],
      "metadata": {
        "colab": {
          "base_uri": "https://localhost:8080/"
        },
        "id": "J_H2BmoslZ_z",
        "outputId": "9e628923-33d6-4a24-d2bd-634b961cf4e6"
      },
      "execution_count": 13,
      "outputs": [
        {
          "output_type": "execute_result",
          "data": {
            "text/plain": [
              "True"
            ]
          },
          "metadata": {},
          "execution_count": 13
        }
      ]
    },
    {
      "cell_type": "markdown",
      "source": [
        "Observer que Sansa é irmã de Sansa. Pela nossa regra esse conceito é válido. No entanto, é fácil perceber que não faz sentido. \n",
        "\n",
        "**Como podíamos modificar tal regra para que isso não acontecesse?** Proponha uma alteração, modifique a base e teste sua regra. \n",
        "\n",
        "Nesse caso, basta inserir `X \\= Y` ao final da regra criada anteriormente. \n",
        "\n",
        "```prolog\n",
        "irmao(X, Y) :- progenitor(Z, X), progenitor(Z, Y), X \\= Y.\n",
        "```\n"
      ],
      "metadata": {
        "id": "MzG9X62jm6cm"
      }
    },
    {
      "cell_type": "code",
      "source": [
        "prolog.consult(dataset_path + \"base1.pl\")\n",
        "consultar_base(\"irmao(sansa,sansa)\")"
      ],
      "metadata": {
        "id": "kH9-neU0bqXq",
        "outputId": "7e7c858d-fbc8-4051-9392-f72996f2f79f",
        "colab": {
          "base_uri": "https://localhost:8080/"
        }
      },
      "execution_count": 14,
      "outputs": [
        {
          "output_type": "execute_result",
          "data": {
            "text/plain": [
              "False"
            ]
          },
          "metadata": {},
          "execution_count": 14
        }
      ]
    },
    {
      "cell_type": "markdown",
      "source": [
        "**Que outras regras poderíamos criar?**\n",
        "\n",
        "Crie outras regras, adicione e teste em nossa base. "
      ],
      "metadata": {
        "id": "uWaPkKoxngZ4"
      }
    },
    {
      "cell_type": "markdown",
      "source": [
        "## Base da Árvore Genealógica\n",
        "\n",
        "Vamos trabalhar agora com uma base de árvore genealógica um pouco maior. Carregue o arquivo `base2.pl`. "
      ],
      "metadata": {
        "id": "iDk68ggQpo4k"
      }
    },
    {
      "cell_type": "code",
      "source": [
        "prolog.consult(dataset_path + \"base2.pl\")"
      ],
      "metadata": {
        "id": "K5Oe0OAKp2ox"
      },
      "execution_count": 15,
      "outputs": []
    },
    {
      "cell_type": "markdown",
      "source": [
        "Faça algumas consultas para testar a base carregada. "
      ],
      "metadata": {
        "id": "EL2kulGaqqRD"
      }
    },
    {
      "cell_type": "code",
      "source": [
        "consulta = input(\"Digite sua consulta: \")\n",
        "consultar_base(consulta)"
      ],
      "metadata": {
        "id": "R7Kb1b8lqtVG",
        "outputId": "d058e2a7-2512-412b-e980-96b9a71074ed",
        "colab": {
          "base_uri": "https://localhost:8080/"
        }
      },
      "execution_count": 16,
      "outputs": [
        {
          "name": "stdout",
          "output_type": "stream",
          "text": [
            "Digite sua consulta: mulher(barbara)\n"
          ]
        },
        {
          "output_type": "execute_result",
          "data": {
            "text/plain": [
              "True"
            ]
          },
          "metadata": {},
          "execution_count": 16
        }
      ]
    },
    {
      "cell_type": "markdown",
      "source": [
        "Vamos trabalhar com as seguintes regras: \n",
        "\n",
        "```swi\n",
        "progenitor(X,Y) :- mae(X,Y) ; pai(X,Y).\n",
        "irmao(X,Y) :- progenitor(Z, X) , progenitor(Z, Y) , X \\= Y.\n",
        "```"
      ],
      "metadata": {
        "id": "sVu-I--iqgzf"
      }
    },
    {
      "cell_type": "markdown",
      "source": [
        "Realize algumas consultas para testar as novas regras. "
      ],
      "metadata": {
        "id": "PAQMlP7orFdk"
      }
    },
    {
      "cell_type": "code",
      "source": [
        "prolog.consult(dataset_path + \"base2.pl\")"
      ],
      "metadata": {
        "id": "m_r8a6JtqXoI"
      },
      "execution_count": 17,
      "outputs": []
    },
    {
      "cell_type": "code",
      "source": [
        "consultar_base(\"progenitor(X, teresa)\")"
      ],
      "metadata": {
        "id": "6mjETh1QdVqN",
        "outputId": "72016306-6514-4e63-bd38-69976062c0e0",
        "colab": {
          "base_uri": "https://localhost:8080/"
        }
      },
      "execution_count": 18,
      "outputs": [
        {
          "output_type": "execute_result",
          "data": {
            "text/plain": [
              "[{'X': 'carlos'}]"
            ]
          },
          "metadata": {},
          "execution_count": 18
        }
      ]
    },
    {
      "cell_type": "markdown",
      "source": [
        "## Agora é sua vez \n",
        "\n",
        "Crie as seguintes regras: \n",
        "\n",
        "* Crie a regra **tio/tia**.\n",
        "* Crie a regra **avô/avó**\n",
        "* Crie a regra **primo**\n",
        "\n",
        "Atualize o arquivo `base2.pl` com as novas regras e teste-as. "
      ],
      "metadata": {
        "id": "6caddXYjrM0d"
      }
    },
    {
      "cell_type": "code",
      "source": [
        "# Teste suas consultas neste espaço"
      ],
      "metadata": {
        "id": "Upv4VIK2qZ7m"
      },
      "execution_count": null,
      "outputs": []
    },
    {
      "cell_type": "markdown",
      "source": [
        "Para finalizar nosso trabalho com a `base2.pl`, vamos criar a última regra: \n",
        "\n",
        "* Crie uma regra que permita verificar se uma pessoa é ancestral de outra. O ancestral de uma pessoa é o pai/mãe, avô/avó, bisavô/bisavó e assim por diante.\n",
        "\n",
        "Como poderíamos criar essa regra?\n",
        "\n",
        "Para isso, vamos precisar utilizar a recursão. Em Prolog, a recursão é feita a partir de regras que correspondem ao caso base e regras do passo recursivo. \n",
        "\n",
        "```prolog\n",
        "ancestral(X, Y) :- progenitor(X, Y).\n",
        "ancestral(X, Y) :- progenitor(X, Z), ancestral(Z, Y).\n",
        "```"
      ],
      "metadata": {
        "id": "3N-qLJ7BrqSJ"
      }
    },
    {
      "cell_type": "markdown",
      "source": [
        "## É isso \n",
        "\n",
        "Com isso finalizamos nossa primeira atividade com prolog. "
      ],
      "metadata": {
        "id": "vXwDB5PVsD3h"
      }
    }
  ],
  "metadata": {
    "interpreter": {
      "hash": "08127f97df6c02a53ef8f985c7fba4c27496d4e158c6aeb69a78d3e5c8eefc39"
    },
    "kernelspec": {
      "display_name": "Python 3.9.7 ('inteligenciaartificial')",
      "language": "python",
      "name": "python3"
    },
    "language_info": {
      "codemirror_mode": {
        "name": "ipython",
        "version": 3
      },
      "file_extension": ".py",
      "mimetype": "text/x-python",
      "name": "python",
      "nbconvert_exporter": "python",
      "pygments_lexer": "ipython3",
      "version": "3.9.7"
    },
    "orig_nbformat": 4,
    "colab": {
      "name": "04_Prolog.ipynb",
      "provenance": [],
      "include_colab_link": true
    }
  },
  "nbformat": 4,
  "nbformat_minor": 0
}