{
 "cells": [
  {
   "cell_type": "markdown",
   "metadata": {},
   "source": [
    "O primeiro passo é instalar os pacotes necessários. Neste caso, precisam ser instalados o **SWI-Prolog** na máquina e a biblioteca **pyswip**.\n",
    "\n",
    "Se você estiver rodando esse código no Google Colab, execute os códigos a seguir em um célula de código: \n",
    "\n",
    "```shell\n",
    "!sudo apt install swi-prolog\n",
    "!pip install pyswip\n",
    "```\n",
    "\n",
    "No colab, essa instalação deve ser feita toda vez que for executar o notebook.\n",
    "\n",
    "Para quem for executar esses códigos localmente, as informações de instalação do `swi-prolog` estão neste link: https://www.swi-prolog.org/download/stable. "
   ]
  },
  {
   "cell_type": "code",
   "execution_count": null,
   "metadata": {},
   "outputs": [],
   "source": [
    "# Rodar essa célular apenas se tiver rodando no colab.\n",
    "\n",
    "!sudo apt install swi-prolog\n",
    "!pip install pyswip"
   ]
  },
  {
   "cell_type": "code",
   "execution_count": 11,
   "metadata": {},
   "outputs": [
    {
     "ename": "ValueError",
     "evalue": "not enough values to unpack (expected 2, got 1)",
     "output_type": "error",
     "traceback": [
      "\u001b[0;31m---------------------------------------------------------------------------\u001b[0m",
      "\u001b[0;31mValueError\u001b[0m                                Traceback (most recent call last)",
      "\u001b[1;32m/Users/adolfoguimaraes/Dev/inteligenciaartificial/code/04_Prolog.ipynb Cell 3'\u001b[0m in \u001b[0;36m<cell line: 1>\u001b[0;34m()\u001b[0m\n\u001b[0;32m----> <a href='vscode-notebook-cell:/Users/adolfoguimaraes/Dev/inteligenciaartificial/code/04_Prolog.ipynb#ch0000001?line=0'>1</a>\u001b[0m \u001b[39mfrom\u001b[39;00m \u001b[39mpyswip\u001b[39;00m \u001b[39mimport\u001b[39;00m Prolog\n\u001b[1;32m      <a href='vscode-notebook-cell:/Users/adolfoguimaraes/Dev/inteligenciaartificial/code/04_Prolog.ipynb#ch0000001?line=1'>2</a>\u001b[0m prolog \u001b[39m=\u001b[39m Prolog()\n",
      "File \u001b[0;32m~/opt/anaconda3/envs/inteligenciaartificial/lib/python3.9/site-packages/pyswip/__init__.py:29\u001b[0m, in \u001b[0;36m<module>\u001b[0;34m\u001b[0m\n\u001b[1;32m      <a href='file:///Users/adolfoguimaraes/opt/anaconda3/envs/inteligenciaartificial/lib/python3.9/site-packages/pyswip/__init__.py?line=0'>1</a>\u001b[0m \u001b[39m# -*- coding: utf-8 -*-\u001b[39;00m\n\u001b[1;32m      <a href='file:///Users/adolfoguimaraes/opt/anaconda3/envs/inteligenciaartificial/lib/python3.9/site-packages/pyswip/__init__.py?line=1'>2</a>\u001b[0m \n\u001b[1;32m      <a href='file:///Users/adolfoguimaraes/opt/anaconda3/envs/inteligenciaartificial/lib/python3.9/site-packages/pyswip/__init__.py?line=2'>3</a>\u001b[0m \n\u001b[0;32m   (...)\u001b[0m\n\u001b[1;32m     <a href='file:///Users/adolfoguimaraes/opt/anaconda3/envs/inteligenciaartificial/lib/python3.9/site-packages/pyswip/__init__.py?line=24'>25</a>\u001b[0m \n\u001b[1;32m     <a href='file:///Users/adolfoguimaraes/opt/anaconda3/envs/inteligenciaartificial/lib/python3.9/site-packages/pyswip/__init__.py?line=25'>26</a>\u001b[0m \u001b[39m# PySwip version\u001b[39;00m\n\u001b[1;32m     <a href='file:///Users/adolfoguimaraes/opt/anaconda3/envs/inteligenciaartificial/lib/python3.9/site-packages/pyswip/__init__.py?line=26'>27</a>\u001b[0m __VERSION__ \u001b[39m=\u001b[39m \u001b[39m\"\u001b[39m\u001b[39m0.2.7\u001b[39m\u001b[39m\"\u001b[39m\n\u001b[0;32m---> <a href='file:///Users/adolfoguimaraes/opt/anaconda3/envs/inteligenciaartificial/lib/python3.9/site-packages/pyswip/__init__.py?line=28'>29</a>\u001b[0m \u001b[39mfrom\u001b[39;00m \u001b[39mpyswip\u001b[39;00m\u001b[39m.\u001b[39;00m\u001b[39mprolog\u001b[39;00m \u001b[39mimport\u001b[39;00m Prolog\n\u001b[1;32m     <a href='file:///Users/adolfoguimaraes/opt/anaconda3/envs/inteligenciaartificial/lib/python3.9/site-packages/pyswip/__init__.py?line=29'>30</a>\u001b[0m \u001b[39mfrom\u001b[39;00m \u001b[39mpyswip\u001b[39;00m\u001b[39m.\u001b[39;00m\u001b[39measy\u001b[39;00m \u001b[39mimport\u001b[39;00m \u001b[39m*\u001b[39m\n",
      "File \u001b[0;32m~/opt/anaconda3/envs/inteligenciaartificial/lib/python3.9/site-packages/pyswip/prolog.py:28\u001b[0m, in \u001b[0;36m<module>\u001b[0;34m\u001b[0m\n\u001b[1;32m      <a href='file:///Users/adolfoguimaraes/opt/anaconda3/envs/inteligenciaartificial/lib/python3.9/site-packages/pyswip/prolog.py?line=0'>1</a>\u001b[0m \u001b[39m# -*- coding: utf-8 -*-\u001b[39;00m\n\u001b[1;32m      <a href='file:///Users/adolfoguimaraes/opt/anaconda3/envs/inteligenciaartificial/lib/python3.9/site-packages/pyswip/prolog.py?line=1'>2</a>\u001b[0m \n\u001b[1;32m      <a href='file:///Users/adolfoguimaraes/opt/anaconda3/envs/inteligenciaartificial/lib/python3.9/site-packages/pyswip/prolog.py?line=2'>3</a>\u001b[0m \n\u001b[0;32m   (...)\u001b[0m\n\u001b[1;32m     <a href='file:///Users/adolfoguimaraes/opt/anaconda3/envs/inteligenciaartificial/lib/python3.9/site-packages/pyswip/prolog.py?line=21'>22</a>\u001b[0m \u001b[39m# OUT OF OR IN CONNECTION WITH THE SOFTWARE OR THE USE OR OTHER DEALINGS IN THE\u001b[39;00m\n\u001b[1;32m     <a href='file:///Users/adolfoguimaraes/opt/anaconda3/envs/inteligenciaartificial/lib/python3.9/site-packages/pyswip/prolog.py?line=22'>23</a>\u001b[0m \u001b[39m# SOFTWARE.\u001b[39;00m\n\u001b[1;32m     <a href='file:///Users/adolfoguimaraes/opt/anaconda3/envs/inteligenciaartificial/lib/python3.9/site-packages/pyswip/prolog.py?line=25'>26</a>\u001b[0m \u001b[39mimport\u001b[39;00m \u001b[39msys\u001b[39;00m\n\u001b[0;32m---> <a href='file:///Users/adolfoguimaraes/opt/anaconda3/envs/inteligenciaartificial/lib/python3.9/site-packages/pyswip/prolog.py?line=27'>28</a>\u001b[0m \u001b[39mfrom\u001b[39;00m \u001b[39mpyswip\u001b[39;00m\u001b[39m.\u001b[39;00m\u001b[39mcore\u001b[39;00m \u001b[39mimport\u001b[39;00m \u001b[39m*\u001b[39m\n\u001b[1;32m     <a href='file:///Users/adolfoguimaraes/opt/anaconda3/envs/inteligenciaartificial/lib/python3.9/site-packages/pyswip/prolog.py?line=30'>31</a>\u001b[0m \u001b[39mclass\u001b[39;00m \u001b[39mPrologError\u001b[39;00m(\u001b[39mException\u001b[39;00m):\n\u001b[1;32m     <a href='file:///Users/adolfoguimaraes/opt/anaconda3/envs/inteligenciaartificial/lib/python3.9/site-packages/pyswip/prolog.py?line=31'>32</a>\u001b[0m     \u001b[39mpass\u001b[39;00m\n",
      "File \u001b[0;32m~/opt/anaconda3/envs/inteligenciaartificial/lib/python3.9/site-packages/pyswip/core.py:567\u001b[0m, in \u001b[0;36m<module>\u001b[0;34m\u001b[0m\n\u001b[1;32m    <a href='file:///Users/adolfoguimaraes/opt/anaconda3/envs/inteligenciaartificial/lib/python3.9/site-packages/pyswip/core.py?line=561'>562</a>\u001b[0m     \u001b[39mreturn\u001b[39;00m checker\n\u001b[1;32m    <a href='file:///Users/adolfoguimaraes/opt/anaconda3/envs/inteligenciaartificial/lib/python3.9/site-packages/pyswip/core.py?line=564'>565</a>\u001b[0m \u001b[39m# Find the path and resource file. SWI_HOME_DIR shall be treated as a constant\u001b[39;00m\n\u001b[1;32m    <a href='file:///Users/adolfoguimaraes/opt/anaconda3/envs/inteligenciaartificial/lib/python3.9/site-packages/pyswip/core.py?line=565'>566</a>\u001b[0m \u001b[39m# by users of this module\u001b[39;00m\n\u001b[0;32m--> <a href='file:///Users/adolfoguimaraes/opt/anaconda3/envs/inteligenciaartificial/lib/python3.9/site-packages/pyswip/core.py?line=566'>567</a>\u001b[0m (_path, SWI_HOME_DIR) \u001b[39m=\u001b[39m _findSwipl()\n\u001b[1;32m    <a href='file:///Users/adolfoguimaraes/opt/anaconda3/envs/inteligenciaartificial/lib/python3.9/site-packages/pyswip/core.py?line=567'>568</a>\u001b[0m _fixWindowsPath(_path)\n\u001b[1;32m    <a href='file:///Users/adolfoguimaraes/opt/anaconda3/envs/inteligenciaartificial/lib/python3.9/site-packages/pyswip/core.py?line=570'>571</a>\u001b[0m \u001b[39m# Load the library\u001b[39;00m\n",
      "File \u001b[0;32m~/opt/anaconda3/envs/inteligenciaartificial/lib/python3.9/site-packages/pyswip/core.py:416\u001b[0m, in \u001b[0;36m_findSwipl\u001b[0;34m()\u001b[0m\n\u001b[1;32m    <a href='file:///Users/adolfoguimaraes/opt/anaconda3/envs/inteligenciaartificial/lib/python3.9/site-packages/pyswip/core.py?line=412'>413</a>\u001b[0m     (path, swiHome) \u001b[39m=\u001b[39m _findSwiplLin()\n\u001b[1;32m    <a href='file:///Users/adolfoguimaraes/opt/anaconda3/envs/inteligenciaartificial/lib/python3.9/site-packages/pyswip/core.py?line=414'>415</a>\u001b[0m \u001b[39melif\u001b[39;00m platform \u001b[39m==\u001b[39m \u001b[39m\"\u001b[39m\u001b[39mdar\u001b[39m\u001b[39m\"\u001b[39m:  \u001b[39m# Help with MacOS is welcome!!\u001b[39;00m\n\u001b[0;32m--> <a href='file:///Users/adolfoguimaraes/opt/anaconda3/envs/inteligenciaartificial/lib/python3.9/site-packages/pyswip/core.py?line=415'>416</a>\u001b[0m     (path, swiHome) \u001b[39m=\u001b[39m _findSwiplDar()\n\u001b[1;32m    <a href='file:///Users/adolfoguimaraes/opt/anaconda3/envs/inteligenciaartificial/lib/python3.9/site-packages/pyswip/core.py?line=417'>418</a>\u001b[0m     \u001b[39mif\u001b[39;00m path \u001b[39mis\u001b[39;00m \u001b[39mNone\u001b[39;00m:\n\u001b[1;32m    <a href='file:///Users/adolfoguimaraes/opt/anaconda3/envs/inteligenciaartificial/lib/python3.9/site-packages/pyswip/core.py?line=418'>419</a>\u001b[0m         (path, swiHome) \u001b[39m=\u001b[39m _findSwiplMacOSHome()\n",
      "File \u001b[0;32m~/opt/anaconda3/envs/inteligenciaartificial/lib/python3.9/site-packages/pyswip/core.py:370\u001b[0m, in \u001b[0;36m_findSwiplDar\u001b[0;34m()\u001b[0m\n\u001b[1;32m    <a href='file:///Users/adolfoguimaraes/opt/anaconda3/envs/inteligenciaartificial/lib/python3.9/site-packages/pyswip/core.py?line=357'>358</a>\u001b[0m \u001b[39m\"\"\"\u001b[39;00m\n\u001b[1;32m    <a href='file:///Users/adolfoguimaraes/opt/anaconda3/envs/inteligenciaartificial/lib/python3.9/site-packages/pyswip/core.py?line=358'>359</a>\u001b[0m \u001b[39mThis function uses several heuristics to guess where SWI-Prolog is\u001b[39;00m\n\u001b[1;32m    <a href='file:///Users/adolfoguimaraes/opt/anaconda3/envs/inteligenciaartificial/lib/python3.9/site-packages/pyswip/core.py?line=359'>360</a>\u001b[0m \u001b[39minstalled in MacOS.\u001b[39;00m\n\u001b[0;32m   (...)\u001b[0m\n\u001b[1;32m    <a href='file:///Users/adolfoguimaraes/opt/anaconda3/envs/inteligenciaartificial/lib/python3.9/site-packages/pyswip/core.py?line=365'>366</a>\u001b[0m \u001b[39m    ({str, None}, {str, None})\u001b[39;00m\n\u001b[1;32m    <a href='file:///Users/adolfoguimaraes/opt/anaconda3/envs/inteligenciaartificial/lib/python3.9/site-packages/pyswip/core.py?line=366'>367</a>\u001b[0m \u001b[39m\"\"\"\u001b[39;00m\n\u001b[1;32m    <a href='file:///Users/adolfoguimaraes/opt/anaconda3/envs/inteligenciaartificial/lib/python3.9/site-packages/pyswip/core.py?line=368'>369</a>\u001b[0m \u001b[39m# If the exec is in path\u001b[39;00m\n\u001b[0;32m--> <a href='file:///Users/adolfoguimaraes/opt/anaconda3/envs/inteligenciaartificial/lib/python3.9/site-packages/pyswip/core.py?line=369'>370</a>\u001b[0m (path, swiHome) \u001b[39m=\u001b[39m _findSwiplFromExec()\n\u001b[1;32m    <a href='file:///Users/adolfoguimaraes/opt/anaconda3/envs/inteligenciaartificial/lib/python3.9/site-packages/pyswip/core.py?line=370'>371</a>\u001b[0m \u001b[39mif\u001b[39;00m path \u001b[39mis\u001b[39;00m \u001b[39mnot\u001b[39;00m \u001b[39mNone\u001b[39;00m:\n\u001b[1;32m    <a href='file:///Users/adolfoguimaraes/opt/anaconda3/envs/inteligenciaartificial/lib/python3.9/site-packages/pyswip/core.py?line=371'>372</a>\u001b[0m     \u001b[39mreturn\u001b[39;00m (path, swiHome)\n",
      "File \u001b[0;32m~/opt/anaconda3/envs/inteligenciaartificial/lib/python3.9/site-packages/pyswip/core.py:93\u001b[0m, in \u001b[0;36m_findSwiplFromExec\u001b[0;34m()\u001b[0m\n\u001b[1;32m     <a href='file:///Users/adolfoguimaraes/opt/anaconda3/envs/inteligenciaartificial/lib/python3.9/site-packages/pyswip/core.py?line=90'>91</a>\u001b[0m ret \u001b[39m=\u001b[39m ret[\u001b[39m0\u001b[39m]\u001b[39m.\u001b[39mdecode()\u001b[39m.\u001b[39mreplace(\u001b[39m'\u001b[39m\u001b[39m;\u001b[39m\u001b[39m'\u001b[39m, \u001b[39m'\u001b[39m\u001b[39m'\u001b[39m)\u001b[39m.\u001b[39msplitlines()\n\u001b[1;32m     <a href='file:///Users/adolfoguimaraes/opt/anaconda3/envs/inteligenciaartificial/lib/python3.9/site-packages/pyswip/core.py?line=91'>92</a>\u001b[0m ret \u001b[39m=\u001b[39m [line\u001b[39m.\u001b[39msplit(\u001b[39m'\u001b[39m\u001b[39m=\u001b[39m\u001b[39m'\u001b[39m, \u001b[39m1\u001b[39m) \u001b[39mfor\u001b[39;00m line \u001b[39min\u001b[39;00m ret]\n\u001b[0;32m---> <a href='file:///Users/adolfoguimaraes/opt/anaconda3/envs/inteligenciaartificial/lib/python3.9/site-packages/pyswip/core.py?line=92'>93</a>\u001b[0m rtvars \u001b[39m=\u001b[39m \u001b[39mdict\u001b[39;49m((name, value[\u001b[39m1\u001b[39;49m:\u001b[39m-\u001b[39;49m\u001b[39m1\u001b[39;49m]) \u001b[39mfor\u001b[39;49;00m name, value \u001b[39min\u001b[39;49;00m ret) \u001b[39m# [1:-1] gets\u001b[39;00m\n\u001b[1;32m     <a href='file:///Users/adolfoguimaraes/opt/anaconda3/envs/inteligenciaartificial/lib/python3.9/site-packages/pyswip/core.py?line=93'>94</a>\u001b[0m                                                           \u001b[39m# rid of the\u001b[39;00m\n\u001b[1;32m     <a href='file:///Users/adolfoguimaraes/opt/anaconda3/envs/inteligenciaartificial/lib/python3.9/site-packages/pyswip/core.py?line=94'>95</a>\u001b[0m                                                           \u001b[39m# quotes\u001b[39;00m\n\u001b[1;32m     <a href='file:///Users/adolfoguimaraes/opt/anaconda3/envs/inteligenciaartificial/lib/python3.9/site-packages/pyswip/core.py?line=96'>97</a>\u001b[0m \u001b[39mif\u001b[39;00m rtvars[\u001b[39m'\u001b[39m\u001b[39mPLSHARED\u001b[39m\u001b[39m'\u001b[39m] \u001b[39m==\u001b[39m \u001b[39m'\u001b[39m\u001b[39mno\u001b[39m\u001b[39m'\u001b[39m:\n",
      "File \u001b[0;32m~/opt/anaconda3/envs/inteligenciaartificial/lib/python3.9/site-packages/pyswip/core.py:93\u001b[0m, in \u001b[0;36m<genexpr>\u001b[0;34m(.0)\u001b[0m\n\u001b[1;32m     <a href='file:///Users/adolfoguimaraes/opt/anaconda3/envs/inteligenciaartificial/lib/python3.9/site-packages/pyswip/core.py?line=90'>91</a>\u001b[0m ret \u001b[39m=\u001b[39m ret[\u001b[39m0\u001b[39m]\u001b[39m.\u001b[39mdecode()\u001b[39m.\u001b[39mreplace(\u001b[39m'\u001b[39m\u001b[39m;\u001b[39m\u001b[39m'\u001b[39m, \u001b[39m'\u001b[39m\u001b[39m'\u001b[39m)\u001b[39m.\u001b[39msplitlines()\n\u001b[1;32m     <a href='file:///Users/adolfoguimaraes/opt/anaconda3/envs/inteligenciaartificial/lib/python3.9/site-packages/pyswip/core.py?line=91'>92</a>\u001b[0m ret \u001b[39m=\u001b[39m [line\u001b[39m.\u001b[39msplit(\u001b[39m'\u001b[39m\u001b[39m=\u001b[39m\u001b[39m'\u001b[39m, \u001b[39m1\u001b[39m) \u001b[39mfor\u001b[39;00m line \u001b[39min\u001b[39;00m ret]\n\u001b[0;32m---> <a href='file:///Users/adolfoguimaraes/opt/anaconda3/envs/inteligenciaartificial/lib/python3.9/site-packages/pyswip/core.py?line=92'>93</a>\u001b[0m rtvars \u001b[39m=\u001b[39m \u001b[39mdict\u001b[39m((name, value[\u001b[39m1\u001b[39m:\u001b[39m-\u001b[39m\u001b[39m1\u001b[39m]) \u001b[39mfor\u001b[39;00m name, value \u001b[39min\u001b[39;00m ret) \u001b[39m# [1:-1] gets\u001b[39;00m\n\u001b[1;32m     <a href='file:///Users/adolfoguimaraes/opt/anaconda3/envs/inteligenciaartificial/lib/python3.9/site-packages/pyswip/core.py?line=93'>94</a>\u001b[0m                                                           \u001b[39m# rid of the\u001b[39;00m\n\u001b[1;32m     <a href='file:///Users/adolfoguimaraes/opt/anaconda3/envs/inteligenciaartificial/lib/python3.9/site-packages/pyswip/core.py?line=94'>95</a>\u001b[0m                                                           \u001b[39m# quotes\u001b[39;00m\n\u001b[1;32m     <a href='file:///Users/adolfoguimaraes/opt/anaconda3/envs/inteligenciaartificial/lib/python3.9/site-packages/pyswip/core.py?line=96'>97</a>\u001b[0m \u001b[39mif\u001b[39;00m rtvars[\u001b[39m'\u001b[39m\u001b[39mPLSHARED\u001b[39m\u001b[39m'\u001b[39m] \u001b[39m==\u001b[39m \u001b[39m'\u001b[39m\u001b[39mno\u001b[39m\u001b[39m'\u001b[39m:\n",
      "\u001b[0;31mValueError\u001b[0m: not enough values to unpack (expected 2, got 1)"
     ]
    }
   ],
   "source": [
    "from pyswip import Prolog\n",
    "prolog = Prolog()\n",
    "prolog.consult(\"base1.pl\")"
   ]
  },
  {
   "cell_type": "code",
   "execution_count": null,
   "metadata": {},
   "outputs": [],
   "source": []
  }
 ],
 "metadata": {
  "interpreter": {
   "hash": "08127f97df6c02a53ef8f985c7fba4c27496d4e158c6aeb69a78d3e5c8eefc39"
  },
  "kernelspec": {
   "display_name": "Python 3.9.7 ('inteligenciaartificial')",
   "language": "python",
   "name": "python3"
  },
  "language_info": {
   "codemirror_mode": {
    "name": "ipython",
    "version": 3
   },
   "file_extension": ".py",
   "mimetype": "text/x-python",
   "name": "python",
   "nbconvert_exporter": "python",
   "pygments_lexer": "ipython3",
   "version": "3.9.7"
  },
  "orig_nbformat": 4
 },
 "nbformat": 4,
 "nbformat_minor": 2
}
