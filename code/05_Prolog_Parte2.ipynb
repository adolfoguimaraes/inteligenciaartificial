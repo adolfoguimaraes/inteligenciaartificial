{
  "cells": [
    {
      "cell_type": "markdown",
      "metadata": {
        "id": "view-in-github",
        "colab_type": "text"
      },
      "source": [
        "<a href=\"https://colab.research.google.com/github/adolfoguimaraes/inteligenciaartificial/blob/main/code/05_Prolog_Parte2.ipynb\" target=\"_parent\"><img src=\"https://colab.research.google.com/assets/colab-badge.svg\" alt=\"Open In Colab\"/></a>"
      ]
    },
    {
      "cell_type": "markdown",
      "metadata": {
        "id": "1sg_k9xitSI1"
      },
      "source": [
        "# Prolog com Python - Parte 2\n",
        "\n",
        "Nesse notebook vamos explorar mais algunas conceitos de Prolog. \n",
        "\n",
        "As bases utilizadas neste documento estão disponíveis no repositório: https://github.com/adolfoguimaraes/inteligenciaartificial. \n",
        "\n",
        "Para facilitar o uso dessas bases aqui no Colab, essa base está replicada também no diretório https://drive.google.com/drive/folders/19euiVFFa32TmqR_WAE8Xer-8G273efXN?usp=sharing. "
      ]
    },
    {
      "cell_type": "code",
      "source": [
        "# Para uso no colab\n",
        "dataset_path = \"\" "
      ],
      "metadata": {
        "id": "1aQ2YTp83Nv-"
      },
      "execution_count": 3,
      "outputs": []
    },
    {
      "cell_type": "code",
      "source": [
        "# Para uso no github\n",
        "dataset_path = \"../datasets/kb_prolog/\""
      ],
      "metadata": {
        "id": "wJQePMR33QSX"
      },
      "execution_count": 2,
      "outputs": []
    },
    {
      "cell_type": "markdown",
      "source": [
        "Para cada notebook, devemos fazer a instalação dos pacotes necessários novamente."
      ],
      "metadata": {
        "id": "7qP27eNWtYSI"
      }
    },
    {
      "cell_type": "code",
      "execution_count": null,
      "metadata": {
        "id": "h9aiUZIstSI5"
      },
      "outputs": [],
      "source": [
        "# Rodar essa célular apenas se tiver rodando no colab.\n",
        "\n",
        "!sudo apt install swi-prolog\n",
        "!pip install pyswip"
      ]
    },
    {
      "cell_type": "code",
      "execution_count": 5,
      "metadata": {
        "id": "KzNBfTmAtSI7"
      },
      "outputs": [],
      "source": [
        "# Carregar a biblioteca \n",
        "from pyswip import Prolog\n",
        "\n",
        "# Instanciar o objeto\n",
        "prolog = Prolog()"
      ]
    },
    {
      "cell_type": "code",
      "source": [
        "## Método para consultar a base\n",
        "def consultar_base(pergunta: str):\n",
        "\n",
        "  \"\"\"\n",
        "    Esse método recebe uma pergunta com parâmetro e retorna True se assertiva \n",
        "    for verdadeira e False, caso contrário. Caso a pergunta seja com variáveis, \n",
        "    o método vai retornar uma lista de dicionários, onde a chave de cada \n",
        "    dicionário é uma variável passada. \n",
        "\n",
        "    :param pergunta: str\n",
        "    \n",
        "    :return : bool, list\n",
        "  \"\"\"\n",
        "\n",
        "  result_ = prolog.query(pergunta)\n",
        "  result_list = list(result_)\n",
        "\n",
        "  if len(result_list) == 0: return False\n",
        "  else:\n",
        "    if len(result_list[0].keys()) == 0: return True\n",
        "    else:\n",
        "      return result_list\n"
      ],
      "metadata": {
        "id": "3TCUMJ0gudyM"
      },
      "execution_count": 6,
      "outputs": []
    },
    {
      "cell_type": "markdown",
      "source": [
        "Terminamos nossa última atividade vendo como podemos trablhar com recursão em Prolog. Vamos ver mais alguns exemplos. "
      ],
      "metadata": {
        "id": "SvuCaTVxtm26"
      }
    },
    {
      "cell_type": "markdown",
      "source": [
        "## Mapeando um Grafo\n",
        "\n",
        "Podemos mapear um grafo como um problema de prolog. Vamos considerar o seguinte problema: \n",
        "\n",
        "O grafo a seguir representa um mapa cujas cidades são representadas por letras e cujas estradas (de sentido único) são representados por números que indicam sua extensão em quilômetros. Vamos usar essa imagem para criar nossa base de conhecimento a partir do predicado **estrada(Origem, Destino, km)**.\n",
        "\n",
        "Clique [aqui](https://i.ibb.co/Nm4d238/Captura-de-Tela-2021-10-22-a-s-15-14-40.png) para visualizar o grafo.\n",
        "\n",
        "Carregue o arquivo `base3.pl` do repositório com o mapeamento do grafo da imagem acima. "
      ],
      "metadata": {
        "id": "RDLi65wgt969"
      }
    },
    {
      "cell_type": "code",
      "source": [
        "# Carregar a base3.pl\n",
        "prolog.consult(dataset_path + \"base3.pl\")"
      ],
      "metadata": {
        "id": "FlBpNbUPt9ch"
      },
      "execution_count": 7,
      "outputs": []
    },
    {
      "cell_type": "markdown",
      "source": [
        "Faça algumas consultas para testar a base. "
      ],
      "metadata": {
        "id": "TIIj3E8kvCwm"
      }
    },
    {
      "cell_type": "code",
      "source": [
        "# Insira suas consultas neste espaço"
      ],
      "metadata": {
        "id": "ylaq_Ty-vG8G"
      },
      "execution_count": null,
      "outputs": []
    },
    {
      "cell_type": "markdown",
      "source": [
        "Vamos atualizar a base com um regra que permita verificar se duas cidades são adjacentes: \n",
        "\n",
        "```prolog\n",
        "sao_adjacentes(X, Y) :- estrada(X, Y, _) ; estrada(Y, X,_).\n",
        "```\n",
        "Atualize o arquivo e faça algumas consultas para restar a regra."
      ],
      "metadata": {
        "id": "m1ReUn7BuzWD"
      }
    },
    {
      "cell_type": "code",
      "source": [
        "prolog.consult(dataset_path + \"base3.pl\")"
      ],
      "metadata": {
        "id": "xBb4TXaLtmId"
      },
      "execution_count": 8,
      "outputs": []
    },
    {
      "cell_type": "code",
      "source": [
        "consultar_base(\"sao_adjacentes(a, d)\")"
      ],
      "metadata": {
        "colab": {
          "base_uri": "https://localhost:8080/"
        },
        "id": "VSMItnNSvO5Q",
        "outputId": "4063429f-3e62-4695-88b9-42099278c5e7"
      },
      "execution_count": 9,
      "outputs": [
        {
          "output_type": "execute_result",
          "data": {
            "text/plain": [
              "True"
            ]
          },
          "metadata": {},
          "execution_count": 9
        }
      ]
    },
    {
      "cell_type": "code",
      "source": [
        "consultar_base(\"sao_adjacentes(b, d)\")"
      ],
      "metadata": {
        "colab": {
          "base_uri": "https://localhost:8080/"
        },
        "id": "jCoxY9SGvTqC",
        "outputId": "55261839-6228-4b6a-8462-7e1efbec364d"
      },
      "execution_count": 10,
      "outputs": [
        {
          "output_type": "execute_result",
          "data": {
            "text/plain": [
              "False"
            ]
          },
          "metadata": {},
          "execution_count": 10
        }
      ]
    },
    {
      "cell_type": "code",
      "source": [
        "consultar_base(\"sao_adjacentes(c, X)\")"
      ],
      "metadata": {
        "colab": {
          "base_uri": "https://localhost:8080/"
        },
        "id": "7VlusN6CvXbC",
        "outputId": "a466ebd2-581f-464f-d8fe-c1c1a14e5dee"
      },
      "execution_count": 11,
      "outputs": [
        {
          "output_type": "execute_result",
          "data": {
            "text/plain": [
              "[{'X': 'd'}, {'X': 'f'}, {'X': 'b'}]"
            ]
          },
          "metadata": {},
          "execution_count": 11
        }
      ]
    },
    {
      "cell_type": "markdown",
      "source": [
        "Ótimo. Nossa base está funcionando 😀. \n",
        "\n",
        "Vamos criar uma regra mais interessante. Crie um regra que retorne todas as cidades que estão a uma distância menor que X de uma outra cidade. \n",
        "\n",
        "É importante ressaltar que quando queremos passar alguma informação para máquina de inferência devemos utiliar as variáveis das regras para isso. A regra abaixo faz o que se pede. Vamos analisa-la e testa-la. \n",
        "\n",
        "```prolog\n",
        "proximo(X, Y, DIST) :- estrada(X, Y, Z) , Z =< DIST.\n",
        "```\n",
        "\n"
      ],
      "metadata": {
        "id": "AVX0wDMuvcLd"
      }
    },
    {
      "cell_type": "code",
      "source": [
        "prolog.consult(dataset_path + \"base3.pl\")"
      ],
      "metadata": {
        "id": "VQtCiGlBva2b"
      },
      "execution_count": 12,
      "outputs": []
    },
    {
      "cell_type": "markdown",
      "source": [
        "Vamos fazer a seguinte pergunta: **Quais são as cidades que estão a menos de 25km de distância?**\n",
        "\n",
        "Isso pode ser traduzido em prolog na seguinte pergunta: \n",
        "\n",
        "```\n",
        "proximo(A, B, 25).\n",
        "```"
      ],
      "metadata": {
        "id": "Y4d27EQewYeM"
      }
    },
    {
      "cell_type": "code",
      "source": [
        "consultar_base(\"proximo(A, B, 25)\")"
      ],
      "metadata": {
        "colab": {
          "base_uri": "https://localhost:8080/"
        },
        "id": "Fwc5aArFwTUc",
        "outputId": "a283f078-838d-4f5d-a3d8-394c0a498b56"
      },
      "execution_count": 13,
      "outputs": [
        {
          "output_type": "execute_result",
          "data": {
            "text/plain": [
              "[{'A': 'a', 'B': 'b'},\n",
              " {'A': 'a', 'B': 'd'},\n",
              " {'A': 'b', 'B': 'c'},\n",
              " {'A': 'c', 'B': 'd'}]"
            ]
          },
          "metadata": {},
          "execution_count": 13
        }
      ]
    },
    {
      "cell_type": "markdown",
      "source": [
        "## Agora é sua vez \n",
        "\n",
        "Crie uma regra que verifique se existe um caminho entre duas cidades. \n",
        "\n",
        "Atualize o arquivo base3.pl com as nova regra e teste-a.\n",
        "\n"
      ],
      "metadata": {
        "id": "eF094LjQwoN0"
      }
    },
    {
      "cell_type": "code",
      "source": [
        "#Faça suas consultas a partir deste espaço"
      ],
      "metadata": {
        "id": "sp6alL5nwkWF"
      },
      "execution_count": null,
      "outputs": []
    },
    {
      "cell_type": "markdown",
      "source": [
        "## Listas em Prolog\n",
        "\n",
        "Para fecharmos nosso estudo de Prolog, vamos trabalhar com uma estrutura muito importante: as listas. \n",
        "\n",
        "O Prolog  \"enxerga\" umas lista em duas partes: `head` (cabeça) e `tail` (calda). \n",
        "\n",
        "Por exemplo, na lista `[1,2,3,4]`, `head = 1` e `tail = [2,3,4]`. Observe que a cabeça é sempre um elemento da lista e a calda uma lista de elementos. \n",
        "\n",
        "Para entender melhor, vamos trabalhar com o arquivo `base4.pl`."
      ],
      "metadata": {
        "id": "6lB97-Ghw8W5"
      }
    },
    {
      "cell_type": "code",
      "source": [
        "prolog.consult(dataset_path + \"base4.pl\")"
      ],
      "metadata": {
        "id": "b3omP9c-xNuF"
      },
      "execution_count": 16,
      "outputs": []
    },
    {
      "cell_type": "markdown",
      "source": [
        "Com a primeira regra podemos verificar se um elemento pertence a lista. Ela funciona da seguinte forma. \n",
        "\n",
        "A regra: \n",
        "\n",
        "```prolog\n",
        "esta_na_lista([X|T], X).\n",
        "```\n",
        "\n",
        "Vai retornar verdadeira se o elemento pesquisado é a cabeça da lista. Se essa regra não retornar verdadeira, será testada a segunda regra com o mesmo nome e assim por diante. \n",
        "\n",
        "No nosso caso, a regra: \n",
        "\n",
        "```prolog\n",
        "esta_na_lista([_|T],X) :- esta_na_lista(T, X).\n",
        "```\n",
        "Observe que essa regra chama recursivamente a mesma regra passando como lista a calda. Ou seja, todos os elementos menos o primeiro que já foi testado. Enquanto o elemento procurado não aparecer na primeira posição, essa recursão vai ser chamada. Quando não tiver mais elementos, a recursão vai parar. \n",
        "\n",
        "Execute algumas consultas para testar a regra. \n"
      ],
      "metadata": {
        "id": "0KwVNJ_c_0Iv"
      }
    },
    {
      "cell_type": "code",
      "source": [
        "consultar_base(\"esta_na_lista([1,2,3],2)\")"
      ],
      "metadata": {
        "id": "R5l8oOVDz_Cs",
        "outputId": "ae14c8c9-c0e6-4f08-ba62-daed04c96650",
        "colab": {
          "base_uri": "https://localhost:8080/"
        }
      },
      "execution_count": 17,
      "outputs": [
        {
          "output_type": "execute_result",
          "data": {
            "text/plain": [
              "True"
            ]
          },
          "metadata": {},
          "execution_count": 17
        }
      ]
    },
    {
      "cell_type": "code",
      "source": [
        "consultar_base(\"esta_na_lista([1,2,3],4)\")"
      ],
      "metadata": {
        "id": "rUCGgpe5Bbyz",
        "outputId": "d2195a03-8cbb-49f0-df90-fe9d33735c20",
        "colab": {
          "base_uri": "https://localhost:8080/"
        }
      },
      "execution_count": 18,
      "outputs": [
        {
          "output_type": "execute_result",
          "data": {
            "text/plain": [
              "False"
            ]
          },
          "metadata": {},
          "execution_count": 18
        }
      ]
    },
    {
      "cell_type": "markdown",
      "source": [
        "Se realizarmos a busca com uma variável, a consulta vai retornar a lista de elementos da lista. "
      ],
      "metadata": {
        "id": "OUi_kjv5Bfvs"
      }
    },
    {
      "cell_type": "code",
      "source": [
        "consultar_base(\"esta_na_lista([1,2,3],X)\")"
      ],
      "metadata": {
        "id": "Ro_nHH2D_f3Y",
        "outputId": "1b3405f0-8588-4ba5-88fb-3f7c14b67289",
        "colab": {
          "base_uri": "https://localhost:8080/"
        }
      },
      "execution_count": 19,
      "outputs": [
        {
          "output_type": "execute_result",
          "data": {
            "text/plain": [
              "[{'X': 1}, {'X': 2}, {'X': 3}]"
            ]
          },
          "metadata": {},
          "execution_count": 19
        }
      ]
    },
    {
      "cell_type": "markdown",
      "source": [
        "**Vamos para mais um exemplo**\n",
        "\n",
        "A segunda regra retorna `Verdadeiro` se a primeira lista é composta só por `a's` e a segunda só por `b's`. Analise a regra e, com base no que vimos, tente entendê-la. Execute algumas consultas para testar. "
      ],
      "metadata": {
        "id": "HnnKMm2kBnD5"
      }
    },
    {
      "cell_type": "code",
      "source": [
        "prolog.consult(dataset_path + \"base4.pl\")"
      ],
      "metadata": {
        "id": "0ejgxm5pBebu"
      },
      "execution_count": 20,
      "outputs": []
    },
    {
      "cell_type": "code",
      "source": [
        "consultar_base(\"a2b([a,a,a],[b,b,b])\")"
      ],
      "metadata": {
        "id": "w7ZA4iOcCLmX",
        "outputId": "b91c56c5-73d3-4df4-818a-2f223b7fc9aa",
        "colab": {
          "base_uri": "https://localhost:8080/"
        }
      },
      "execution_count": 21,
      "outputs": [
        {
          "output_type": "execute_result",
          "data": {
            "text/plain": [
              "True"
            ]
          },
          "metadata": {},
          "execution_count": 21
        }
      ]
    },
    {
      "cell_type": "code",
      "source": [
        "consultar_base(\"a2b([a,b,a],[b,b,b])\")"
      ],
      "metadata": {
        "id": "pZpIMGEgCQEw",
        "outputId": "c21f169a-5c28-47c2-b378-47ba21bb8333",
        "colab": {
          "base_uri": "https://localhost:8080/"
        }
      },
      "execution_count": 22,
      "outputs": [
        {
          "output_type": "execute_result",
          "data": {
            "text/plain": [
              "False"
            ]
          },
          "metadata": {},
          "execution_count": 22
        }
      ]
    },
    {
      "cell_type": "code",
      "source": [],
      "metadata": {
        "id": "bcNJzcjKCTTK"
      },
      "execution_count": null,
      "outputs": []
    }
  ],
  "metadata": {
    "interpreter": {
      "hash": "08127f97df6c02a53ef8f985c7fba4c27496d4e158c6aeb69a78d3e5c8eefc39"
    },
    "kernelspec": {
      "display_name": "Python 3.9.7 ('inteligenciaartificial')",
      "language": "python",
      "name": "python3"
    },
    "language_info": {
      "codemirror_mode": {
        "name": "ipython",
        "version": 3
      },
      "file_extension": ".py",
      "mimetype": "text/x-python",
      "name": "python",
      "nbconvert_exporter": "python",
      "pygments_lexer": "ipython3",
      "version": "3.9.7"
    },
    "orig_nbformat": 4,
    "colab": {
      "name": "05_Prolog_Parte2.ipynb",
      "provenance": [],
      "include_colab_link": true
    }
  },
  "nbformat": 4,
  "nbformat_minor": 0
}