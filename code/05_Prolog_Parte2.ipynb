{
  "cells": [
    {
      "cell_type": "markdown",
      "metadata": {
        "id": "view-in-github",
        "colab_type": "text"
      },
      "source": [
        "<a href=\"https://colab.research.google.com/github/adolfoguimaraes/inteligenciaartificial/blob/main/code/05_Prolog_Parte2.ipynb\" target=\"_parent\"><img src=\"https://colab.research.google.com/assets/colab-badge.svg\" alt=\"Open In Colab\"/></a>"
      ]
    },
    {
      "cell_type": "markdown",
      "metadata": {
        "id": "1sg_k9xitSI1"
      },
      "source": [
        "# Prolog com Python - Parte 2\n",
        "\n",
        "Nesse notebook vamos explorar mais algunas conceitos de Prolog. "
      ]
    },
    {
      "cell_type": "markdown",
      "source": [
        "Para cada notebook, devemos fazer a instalação dos pacotes necessários novamente."
      ],
      "metadata": {
        "id": "7qP27eNWtYSI"
      }
    },
    {
      "cell_type": "code",
      "execution_count": null,
      "metadata": {
        "id": "h9aiUZIstSI5"
      },
      "outputs": [],
      "source": [
        "# Rodar essa célular apenas se tiver rodando no colab.\n",
        "\n",
        "!sudo apt install swi-prolog\n",
        "!pip install pyswip"
      ]
    },
    {
      "cell_type": "code",
      "execution_count": 4,
      "metadata": {
        "id": "KzNBfTmAtSI7"
      },
      "outputs": [],
      "source": [
        "# Carregar a biblioteca \n",
        "from pyswip import Prolog\n",
        "\n",
        "# Instanciar o objeto\n",
        "prolog = Prolog()"
      ]
    },
    {
      "cell_type": "code",
      "source": [
        "## Método para consultar a base\n",
        "def consultar_base(pergunta: str):\n",
        "\n",
        "  \"\"\"\n",
        "    Esse método recebe uma pergunta com parâmetro e retorna True se assertiva \n",
        "    for verdadeira e False, caso contrário. Caso a pergunta seja com variáveis, \n",
        "    o método vai retornar uma lista de dicionários, onde a chave de cada \n",
        "    dicionário é uma variável passada. \n",
        "\n",
        "    :param pergunta: str\n",
        "    \n",
        "    :return : bool, list\n",
        "  \"\"\"\n",
        "\n",
        "  result_ = prolog.query(pergunta)\n",
        "  result_list = list(result_)\n",
        "\n",
        "  if len(result_list) == 0: return False\n",
        "  else:\n",
        "    if len(result_list[0].keys()) == 0: return True\n",
        "    else:\n",
        "      return result_list\n"
      ],
      "metadata": {
        "id": "3TCUMJ0gudyM"
      },
      "execution_count": 3,
      "outputs": []
    },
    {
      "cell_type": "markdown",
      "source": [
        "Terminamos nossa última atividade vendo como podemos trablhar com recursão em Prolog. Vamos ver mais alguns exemplos. "
      ],
      "metadata": {
        "id": "SvuCaTVxtm26"
      }
    },
    {
      "cell_type": "markdown",
      "source": [
        "## Mapeando um Grafo\n",
        "\n",
        "Podemos mapear um grafo como um problema de prolog. Vamos considerar o seguinte problema: \n",
        "\n",
        "O grafo a seguir representa um mapa cujas cidades são representadas por letras e cujas estradas (de sentido único) são representados por números que indicam sua extensão em quilômetros. Vamos usar essa imagem para criar nossa base de conhecimento a partir do predicado **estrada(Origem, Destino, km)**.\n",
        "\n",
        "Clique [aqui](https://i.ibb.co/Nm4d238/Captura-de-Tela-2021-10-22-a-s-15-14-40.png) para visualizar o grafo.\n",
        "\n",
        "Carregue o arquivo `base3.pl` do repositório com o mapeamento do grafo da imagem acima. "
      ],
      "metadata": {
        "id": "RDLi65wgt969"
      }
    },
    {
      "cell_type": "code",
      "source": [
        "# Carregar a base3.pl\n",
        "prolog.consult(\"base3.pl\")"
      ],
      "metadata": {
        "id": "FlBpNbUPt9ch"
      },
      "execution_count": 5,
      "outputs": []
    },
    {
      "cell_type": "markdown",
      "source": [
        "Faça algumas consultas para testar a base. "
      ],
      "metadata": {
        "id": "TIIj3E8kvCwm"
      }
    },
    {
      "cell_type": "code",
      "source": [
        "# Insira suas consultas neste espaço"
      ],
      "metadata": {
        "id": "ylaq_Ty-vG8G"
      },
      "execution_count": 6,
      "outputs": []
    },
    {
      "cell_type": "markdown",
      "source": [
        "Vamos atualizar a base com um regra que permita verificar se duas cidades são adjacentes: \n",
        "\n",
        "```prolog\n",
        "sao_adjacentes(X, Y) :- estrada(X, Y, _) ; estrada(Y, X,_).\n",
        "```\n",
        "Atualize o arquivo e faça algumas consultas para restar a regra."
      ],
      "metadata": {
        "id": "m1ReUn7BuzWD"
      }
    },
    {
      "cell_type": "code",
      "source": [
        "prolog.consult(\"base3.pl\")"
      ],
      "metadata": {
        "id": "xBb4TXaLtmId"
      },
      "execution_count": 7,
      "outputs": []
    },
    {
      "cell_type": "code",
      "source": [
        "consultar_base(\"sao_adjacentes(a, d)\")"
      ],
      "metadata": {
        "colab": {
          "base_uri": "https://localhost:8080/"
        },
        "id": "VSMItnNSvO5Q",
        "outputId": "575bb2f9-10be-44ed-bdb6-af9d18492215"
      },
      "execution_count": 8,
      "outputs": [
        {
          "output_type": "execute_result",
          "data": {
            "text/plain": [
              "True"
            ]
          },
          "metadata": {},
          "execution_count": 8
        }
      ]
    },
    {
      "cell_type": "code",
      "source": [
        "consultar_base(\"sao_adjacentes(b, d)\")"
      ],
      "metadata": {
        "colab": {
          "base_uri": "https://localhost:8080/"
        },
        "id": "jCoxY9SGvTqC",
        "outputId": "24f6fce8-89fd-4597-df93-9788ee90c553"
      },
      "execution_count": 9,
      "outputs": [
        {
          "output_type": "execute_result",
          "data": {
            "text/plain": [
              "False"
            ]
          },
          "metadata": {},
          "execution_count": 9
        }
      ]
    },
    {
      "cell_type": "code",
      "source": [
        "consultar_base(\"sao_adjacentes(c, X)\")"
      ],
      "metadata": {
        "colab": {
          "base_uri": "https://localhost:8080/"
        },
        "id": "7VlusN6CvXbC",
        "outputId": "25f15aef-7064-4f35-935e-cc07a98e0a4d"
      },
      "execution_count": 10,
      "outputs": [
        {
          "output_type": "execute_result",
          "data": {
            "text/plain": [
              "[{'X': 'd'}, {'X': 'f'}, {'X': 'b'}]"
            ]
          },
          "metadata": {},
          "execution_count": 10
        }
      ]
    },
    {
      "cell_type": "markdown",
      "source": [
        "Ótimo. Nossa base está funcionando 😀. \n",
        "\n",
        "Vamos criar uma regra mais interessante. Crie um regra que retorne todas as cidades que estão a uma distância menor que X de uma outra cidade. \n",
        "\n",
        "É importante ressaltar que quando queremos passar alguma informação para máquina de inferência devemos utiliar as variáveis das regras para isso. A regra abaixo faz o que se pede. Vamos analisa-la e testa-la. \n",
        "\n",
        "```prolog\n",
        "proximo(X, Y, DIST) :- estrada(X, Y, Z) , Z =< DIST.\n",
        "```\n",
        "\n"
      ],
      "metadata": {
        "id": "AVX0wDMuvcLd"
      }
    },
    {
      "cell_type": "code",
      "source": [
        "prolog.consult(\"base3.pl\")"
      ],
      "metadata": {
        "id": "VQtCiGlBva2b"
      },
      "execution_count": 11,
      "outputs": []
    },
    {
      "cell_type": "markdown",
      "source": [
        "Vamos fazer a seguinte pergunta: **Quais são as cidades que estão a menos de 25km de distância?**\n",
        "\n",
        "Isso pode ser traduzido em prolog na seguinte pergunta: \n",
        "\n",
        "```\n",
        "proximo(A, B, 25).\n",
        "```"
      ],
      "metadata": {
        "id": "Y4d27EQewYeM"
      }
    },
    {
      "cell_type": "code",
      "source": [
        "consultar_base(\"proximo(A, B, 25)\")"
      ],
      "metadata": {
        "colab": {
          "base_uri": "https://localhost:8080/"
        },
        "id": "Fwc5aArFwTUc",
        "outputId": "30f385f7-1dc1-4551-c1c2-0dab4494c345"
      },
      "execution_count": 12,
      "outputs": [
        {
          "output_type": "execute_result",
          "data": {
            "text/plain": [
              "[{'A': 'a', 'B': 'b'},\n",
              " {'A': 'a', 'B': 'd'},\n",
              " {'A': 'b', 'B': 'c'},\n",
              " {'A': 'c', 'B': 'd'}]"
            ]
          },
          "metadata": {},
          "execution_count": 12
        }
      ]
    },
    {
      "cell_type": "markdown",
      "source": [
        "## Agora é sua vez \n",
        "\n",
        "Crie uma regra que verifique se existe um caminho entre duas cidades. \n",
        "\n",
        "Atualize o arquivo base3.pl com as nova regra e teste-a.\n",
        "\n"
      ],
      "metadata": {
        "id": "eF094LjQwoN0"
      }
    },
    {
      "cell_type": "code",
      "source": [
        "#Faça suas consultas a partir deste espaço"
      ],
      "metadata": {
        "id": "sp6alL5nwkWF"
      },
      "execution_count": null,
      "outputs": []
    },
    {
      "cell_type": "markdown",
      "source": [
        "## Listas em Prolog\n",
        "\n",
        "Para fecharmos nosso estudo de Prolog, vamos trabalhar com uma estrutura muito importante: as listas. \n",
        "\n",
        "O Prolog  \"enxerga\" umas lista em duas partes: `head` (cabeça) e `tail` (calda). \n",
        "\n",
        "Para enteder, vamos trabalhar com o arquivo `base4.pl`."
      ],
      "metadata": {
        "id": "6lB97-Ghw8W5"
      }
    },
    {
      "cell_type": "code",
      "source": [
        "prolog.consult(\"base4.pl\")"
      ],
      "metadata": {
        "id": "b3omP9c-xNuF"
      },
      "execution_count": 17,
      "outputs": []
    },
    {
      "cell_type": "code",
      "source": [
        ""
      ],
      "metadata": {
        "id": "R5l8oOVDz_Cs"
      },
      "execution_count": null,
      "outputs": []
    }
  ],
  "metadata": {
    "interpreter": {
      "hash": "08127f97df6c02a53ef8f985c7fba4c27496d4e158c6aeb69a78d3e5c8eefc39"
    },
    "kernelspec": {
      "display_name": "Python 3.9.7 ('inteligenciaartificial')",
      "language": "python",
      "name": "python3"
    },
    "language_info": {
      "codemirror_mode": {
        "name": "ipython",
        "version": 3
      },
      "file_extension": ".py",
      "mimetype": "text/x-python",
      "name": "python",
      "nbconvert_exporter": "python",
      "pygments_lexer": "ipython3",
      "version": "3.9.7"
    },
    "orig_nbformat": 4,
    "colab": {
      "name": "05_Prolog_Parte2.ipynb",
      "provenance": [],
      "include_colab_link": true
    }
  },
  "nbformat": 4,
  "nbformat_minor": 0
}