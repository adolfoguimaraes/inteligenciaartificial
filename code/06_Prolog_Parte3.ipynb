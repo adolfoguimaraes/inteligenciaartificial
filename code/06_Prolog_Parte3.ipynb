{
  "cells": [
    {
      "cell_type": "markdown",
      "metadata": {
        "id": "view-in-github",
        "colab_type": "text"
      },
      "source": [
        "<a href=\"https://colab.research.google.com/github/adolfoguimaraes/inteligenciaartificial/blob/main/code/06_Prolog_Parte3.ipynb\" target=\"_parent\"><img src=\"https://colab.research.google.com/assets/colab-badge.svg\" alt=\"Open In Colab\"/></a>"
      ]
    },
    {
      "cell_type": "markdown",
      "metadata": {
        "id": "t2afIk4RsKW6"
      },
      "source": [
        "# Prolog com Python - Parte 3\n",
        "\n",
        "Nesse notebook vamos explorar mais algunas conceitos de Prolog. \n",
        "\n",
        "As bases utilizadas neste documento estão disponíveis no repositório: https://github.com/adolfoguimaraes/inteligenciaartificial. \n",
        "\n",
        "Para facilitar o uso dessas bases aqui no Colab, essa base está replicada também no diretório https://drive.google.com/drive/folders/19euiVFFa32TmqR_WAE8Xer-8G273efXN?usp=sharing. "
      ]
    },
    {
      "cell_type": "code",
      "source": [
        "# Para uso no colab\n",
        "dataset_path = \"\" "
      ],
      "metadata": {
        "id": "P2yec0ur4v_x"
      },
      "execution_count": 1,
      "outputs": []
    },
    {
      "cell_type": "code",
      "source": [
        "# Para uso no github\n",
        "dataset_path = \"../datasets/kb_prolog/\""
      ],
      "metadata": {
        "id": "o3FD2toP4wn3"
      },
      "execution_count": null,
      "outputs": []
    },
    {
      "cell_type": "code",
      "execution_count": 2,
      "metadata": {
        "id": "QIRWmTp2sKW-",
        "colab": {
          "base_uri": "https://localhost:8080/"
        },
        "outputId": "2d15e001-96c0-46f5-d011-424a228c4263"
      },
      "outputs": [
        {
          "output_type": "stream",
          "name": "stdout",
          "text": [
            "Reading package lists... Done\n",
            "Building dependency tree       \n",
            "Reading state information... Done\n",
            "swi-prolog is already the newest version (7.6.4+dfsg-2ubuntu2).\n",
            "0 upgraded, 0 newly installed, 0 to remove and 22 not upgraded.\n",
            "Looking in indexes: https://pypi.org/simple, https://us-python.pkg.dev/colab-wheels/public/simple/\n",
            "Requirement already satisfied: pyswip in /usr/local/lib/python3.8/dist-packages (0.2.10)\n"
          ]
        }
      ],
      "source": [
        "# Rodar essa célula apenas se tiver rodando no colab.\n",
        "\n",
        "!sudo apt install swi-prolog\n",
        "!pip install pyswip"
      ]
    },
    {
      "cell_type": "code",
      "source": [
        "# Carregar a biblioteca \n",
        "from pyswip import Prolog\n",
        "from pyswip import Atom\n",
        "\n",
        "# Instanciar o objeto\n",
        "prolog = Prolog()"
      ],
      "metadata": {
        "id": "0ddnziYYsS7R"
      },
      "execution_count": 3,
      "outputs": []
    },
    {
      "cell_type": "code",
      "source": [
        "def atoms_to_strings(answer):\n",
        "    if isinstance(answer, dict):\n",
        "        result = {}\n",
        "        for k in answer.keys():\n",
        "            result[k] = atoms_to_strings(answer[k])\n",
        "    elif isinstance(answer, list):\n",
        "        result = [atoms_to_strings(val) for val in answer]\n",
        "    elif isinstance(answer, Atom):\n",
        "        result = answer.value\n",
        "    elif isinstance(answer, int) or isinstance(answer, str):\n",
        "        result = answer\n",
        "    else:\n",
        "        print(\"Unsupported result from Prolog: \" + str(type(answer)) + str(answer))\n",
        "    return result"
      ],
      "metadata": {
        "id": "aPODaDU2zC-S"
      },
      "execution_count": 4,
      "outputs": []
    },
    {
      "cell_type": "code",
      "source": [
        "## Método para consultar a base\n",
        "def consultar_base(pergunta: str):\n",
        "\n",
        "  \"\"\"\n",
        "    Esse método recebe uma pergunta com parâmetro e retorna True se assertiva \n",
        "    for verdadeira e False, caso contrário. Caso a pergunta seja com variáveis, \n",
        "    o método vai retornar uma lista de dicionários, onde a chave de cada \n",
        "    dicionário é uma variável passada. \n",
        "\n",
        "    :param pergunta: str\n",
        "    \n",
        "    :return : bool, list\n",
        "  \"\"\"\n",
        "\n",
        "  result_ = prolog.query(pergunta)\n",
        "  \n",
        "  result_list = list(result_)\n",
        "\n",
        "  if len(result_list) == 0: return False\n",
        "  else:\n",
        "    if len(result_list[0].keys()) == 0: return True\n",
        "    else:\n",
        "      return result_list\n"
      ],
      "metadata": {
        "id": "98_9JDcWsX0H"
      },
      "execution_count": 5,
      "outputs": []
    },
    {
      "cell_type": "code",
      "source": [
        "def consultar_base_com_lista(pergunta: str):\n",
        "  result_ = prolog.query(pergunta)\n",
        "  final_result = []\n",
        "  for element in result_:\n",
        "    list_ = atoms_to_strings(element)\n",
        "    final_result.append(list_)\n",
        "\n",
        "  return final_result"
      ],
      "metadata": {
        "id": "ttu4BHv0zhOs"
      },
      "execution_count": 6,
      "outputs": []
    },
    {
      "cell_type": "code",
      "source": [
        "def atualizar_local(local: str):\n",
        "\n",
        "  prolog.retract(\"here(X)\")\n",
        "  prolog.asserta(\"here(\"+local+\")\")"
      ],
      "metadata": {
        "id": "UrzxGy-uxnzH"
      },
      "execution_count": 7,
      "outputs": []
    },
    {
      "cell_type": "code",
      "source": [
        "def inserir_fato(fato: str):\n",
        "  prolog.asserta(fato)"
      ],
      "metadata": {
        "id": "NXMR6ZyTyI5f"
      },
      "execution_count": 8,
      "outputs": []
    },
    {
      "cell_type": "markdown",
      "source": [
        "## Problema 1 \n",
        "\n",
        "Vamos trabalhar com a base de conhecimento da `base5.pl`."
      ],
      "metadata": {
        "id": "Cw3dSh3LssbL"
      }
    },
    {
      "cell_type": "code",
      "source": [
        "# Carregar a base5.pl\n",
        "prolog.consult(dataset_path + \"base5.pl\")"
      ],
      "metadata": {
        "id": "w1RT8Tdgsf5M"
      },
      "execution_count": 9,
      "outputs": []
    },
    {
      "cell_type": "markdown",
      "source": [
        "Essa base contém fatos sobre a possibilidade de pegar um trem direto entre duas cidades. No entanto, podemos viajar de um lugar para o outro trocando de trem. Sendo assim, escreva um predicado `travelFromTo/2` que diz se é\n",
        "possível viajar de trem entre duas cidades. Por exemplo, quando perguntado:\n",
        "\n",
        "`travelFromTo(nancy, staAvold)`\n",
        "\n",
        "deve retornar True já que podemos seguir o caminho `nancy -> metz -> fahlquemont -> stAvold`."
      ],
      "metadata": {
        "id": "ztDgERf-s1au"
      }
    },
    {
      "cell_type": "markdown",
      "source": [
        "_Atualize o arquivo base5.pl com a sua regra e teste nas linhas a seguir_"
      ],
      "metadata": {
        "id": "hckcdZcotFd2"
      }
    },
    {
      "cell_type": "code",
      "source": [
        "# Carregue a base novamente e teste. "
      ],
      "metadata": {
        "id": "DJ8tAaIusqvi"
      },
      "execution_count": null,
      "outputs": []
    },
    {
      "cell_type": "markdown",
      "source": [
        "## Problema 2 \n",
        "\n",
        "Vamos considerar agora a base do arquivo `base6.pl`. "
      ],
      "metadata": {
        "id": "8M-0a7P1tPU3"
      }
    },
    {
      "cell_type": "code",
      "source": [
        "# Carregar a base6.pl\n",
        "prolog.consult(dataset_path + \"base6.pl\")"
      ],
      "metadata": {
        "id": "xZFSulmmtOZa"
      },
      "execution_count": 10,
      "outputs": []
    },
    {
      "cell_type": "markdown",
      "source": [
        "Escreva um predicado listatraducao(P, E) que traduz um lista de números em Português para a lista correspondente em Inglês. Por exemplo,\n",
        "\n",
        "`listatraducao([um,nove,dois],X)`.\n",
        "\n",
        "deve gerar:\n",
        "\n",
        "`X = [one,nine,two].`\n",
        "\n",
        "Seu programa deve funcionar também na direção contrária. Por exemplo, se você entra com a seguinte query:\n",
        "\n",
        "`listatraducao(X,[one,seven,six,two]).`\n",
        "\n",
        "deve ser retornado:\n",
        "\n",
        "`X = [um,sete,seis,dois].`\n",
        "\n",
        "_Atualize o arquivo base6.pl com a sua regra e teste nas linhas a seguir_"
      ],
      "metadata": {
        "id": "i1XcfTs9tflp"
      }
    },
    {
      "cell_type": "code",
      "source": [
        "# Carregue a base novamente e teste. "
      ],
      "metadata": {
        "id": "Mtq5Amo2toGo"
      },
      "execution_count": null,
      "outputs": []
    },
    {
      "cell_type": "markdown",
      "source": [
        "## Problema 3 - Jogo da Nany\n",
        "\n",
        "Para começar, vamos carregar o arquivo `base7.pl` para demonstrar alguns comandos novos para se trabalhar com Prolog. Essa base é apenas de exemplo. Ela indica o mapeamento de uma casa com os cômodos e a conexão entre eles. A regra `here` indica a posição de uma pessoa na casa. \n",
        "\n"
      ],
      "metadata": {
        "id": "G4H98MVOtwCH"
      }
    },
    {
      "cell_type": "markdown",
      "source": [],
      "metadata": {
        "id": "Y-B5kB2Qum1f"
      }
    },
    {
      "cell_type": "code",
      "source": [
        "prolog.consult(dataset_path + \"base7.pl\")"
      ],
      "metadata": {
        "id": "NzrLxoh2tvNA"
      },
      "execution_count": 11,
      "outputs": []
    },
    {
      "cell_type": "code",
      "source": [
        "consultar_base(\"door(cozinha, X)\")"
      ],
      "metadata": {
        "colab": {
          "base_uri": "https://localhost:8080/"
        },
        "id": "2aR4nxrUupEF",
        "outputId": "2e829203-e91d-4be2-dae9-e082d995a237"
      },
      "execution_count": 12,
      "outputs": [
        {
          "output_type": "execute_result",
          "data": {
            "text/plain": [
              "[{'X': 'escritorio'}]"
            ]
          },
          "metadata": {},
          "execution_count": 12
        }
      ]
    },
    {
      "cell_type": "code",
      "source": [
        "consultar_base(\"door(cozinha, escritorio)\")"
      ],
      "metadata": {
        "colab": {
          "base_uri": "https://localhost:8080/"
        },
        "id": "p52wii2Kunci",
        "outputId": "4ac7044f-9ea5-4cf8-ea3d-6c51b7be7a9e"
      },
      "execution_count": 13,
      "outputs": [
        {
          "output_type": "execute_result",
          "data": {
            "text/plain": [
              "True"
            ]
          },
          "metadata": {},
          "execution_count": 13
        }
      ]
    },
    {
      "cell_type": "markdown",
      "source": [
        "A regra `here(X)` tem como caracaterística que ela é dinâmica. Ou seja, podemos altera-la durante a execuçã do programa. Vamos ver como funciona. "
      ],
      "metadata": {
        "id": "egtmWsGgu22_"
      }
    },
    {
      "cell_type": "code",
      "source": [
        "# Primeiro vamos consultar onde o personagem está.\n",
        "consultar_base(\"here(X)\")"
      ],
      "metadata": {
        "colab": {
          "base_uri": "https://localhost:8080/"
        },
        "id": "nM21JcGVuxyO",
        "outputId": "35fc087b-4888-4762-d7ea-1a440ca053d2"
      },
      "execution_count": 14,
      "outputs": [
        {
          "output_type": "execute_result",
          "data": {
            "text/plain": [
              "[{'X': 'cozinha'}]"
            ]
          },
          "metadata": {},
          "execution_count": 14
        }
      ]
    },
    {
      "cell_type": "markdown",
      "source": [
        "Agora vamos utilizar o método `atualizar_local` que foi criado para alterar a posição na pessoa na casa. Esse método faz duas operações no prolog: `retract` e `asserta`. A primeira remove o conhecimento atual daquela regra e a segunda atribui a nova posição. "
      ],
      "metadata": {
        "id": "BgfnuOQgxTyd"
      }
    },
    {
      "cell_type": "code",
      "source": [
        "atualizar_local(\"escritorio\")"
      ],
      "metadata": {
        "id": "HWkNpqRMw6r4"
      },
      "execution_count": 16,
      "outputs": []
    },
    {
      "cell_type": "code",
      "source": [
        "# Vamos consultar novamente a posição\n",
        "consultar_base(\"here(X)\")"
      ],
      "metadata": {
        "colab": {
          "base_uri": "https://localhost:8080/"
        },
        "id": "Ndi1bxFax2mi",
        "outputId": "0a0534ba-ef72-4989-f639-77201ae92f90"
      },
      "execution_count": 17,
      "outputs": [
        {
          "output_type": "execute_result",
          "data": {
            "text/plain": [
              "[{'X': 'escritorio'}]"
            ]
          },
          "metadata": {},
          "execution_count": 17
        }
      ]
    },
    {
      "cell_type": "markdown",
      "source": [
        "É possível também inserir novos fatos à base. Vamos inserir um novo fato à nossa base `has(escritorio, [desk, computer])`. Observer que esse fato não existe em nossa base. "
      ],
      "metadata": {
        "id": "9Hqzpy1RyRwQ"
      }
    },
    {
      "cell_type": "code",
      "source": [
        "consultar_base_com_lista(\"has(escritorio, X)\")"
      ],
      "metadata": {
        "colab": {
          "base_uri": "https://localhost:8080/",
          "height": 361
        },
        "id": "vnCqGypKyo11",
        "outputId": "e88b9b2e-14b9-48d4-b065-72c42ca5f3a2"
      },
      "execution_count": 18,
      "outputs": [
        {
          "output_type": "error",
          "ename": "PrologError",
          "evalue": "ignored",
          "traceback": [
            "\u001b[0;31m---------------------------------------------------------------------------\u001b[0m",
            "\u001b[0;31mPrologError\u001b[0m                               Traceback (most recent call last)",
            "\u001b[0;32m<ipython-input-18-2a6ce04f5fa3>\u001b[0m in \u001b[0;36m<module>\u001b[0;34m\u001b[0m\n\u001b[0;32m----> 1\u001b[0;31m \u001b[0mconsultar_base_com_lista\u001b[0m\u001b[0;34m(\u001b[0m\u001b[0;34m\"has(escritorio, X)\"\u001b[0m\u001b[0;34m)\u001b[0m\u001b[0;34m\u001b[0m\u001b[0;34m\u001b[0m\u001b[0m\n\u001b[0m",
            "\u001b[0;32m<ipython-input-6-61284919d5c6>\u001b[0m in \u001b[0;36mconsultar_base_com_lista\u001b[0;34m(pergunta)\u001b[0m\n\u001b[1;32m      2\u001b[0m   \u001b[0mresult_\u001b[0m \u001b[0;34m=\u001b[0m \u001b[0mprolog\u001b[0m\u001b[0;34m.\u001b[0m\u001b[0mquery\u001b[0m\u001b[0;34m(\u001b[0m\u001b[0mpergunta\u001b[0m\u001b[0;34m)\u001b[0m\u001b[0;34m\u001b[0m\u001b[0;34m\u001b[0m\u001b[0m\n\u001b[1;32m      3\u001b[0m   \u001b[0mfinal_result\u001b[0m \u001b[0;34m=\u001b[0m \u001b[0;34m[\u001b[0m\u001b[0;34m]\u001b[0m\u001b[0;34m\u001b[0m\u001b[0;34m\u001b[0m\u001b[0m\n\u001b[0;32m----> 4\u001b[0;31m   \u001b[0;32mfor\u001b[0m \u001b[0melement\u001b[0m \u001b[0;32min\u001b[0m \u001b[0mresult_\u001b[0m\u001b[0;34m:\u001b[0m\u001b[0;34m\u001b[0m\u001b[0;34m\u001b[0m\u001b[0m\n\u001b[0m\u001b[1;32m      5\u001b[0m     \u001b[0mlist_\u001b[0m \u001b[0;34m=\u001b[0m \u001b[0matoms_to_strings\u001b[0m\u001b[0;34m(\u001b[0m\u001b[0melement\u001b[0m\u001b[0;34m)\u001b[0m\u001b[0;34m\u001b[0m\u001b[0;34m\u001b[0m\u001b[0m\n\u001b[1;32m      6\u001b[0m     \u001b[0mfinal_result\u001b[0m\u001b[0;34m.\u001b[0m\u001b[0mappend\u001b[0m\u001b[0;34m(\u001b[0m\u001b[0mlist_\u001b[0m\u001b[0;34m)\u001b[0m\u001b[0;34m\u001b[0m\u001b[0;34m\u001b[0m\u001b[0m\n",
            "\u001b[0;32m/usr/local/lib/python3.8/dist-packages/pyswip/prolog.py\u001b[0m in \u001b[0;36m__call__\u001b[0;34m(self, query, maxresult, catcherrors, normalize)\u001b[0m\n\u001b[1;32m    124\u001b[0m                     \u001b[0mterm\u001b[0m \u001b[0;34m=\u001b[0m \u001b[0mgetTerm\u001b[0m\u001b[0;34m(\u001b[0m\u001b[0mPL_exception\u001b[0m\u001b[0;34m(\u001b[0m\u001b[0mswipl_qid\u001b[0m\u001b[0;34m)\u001b[0m\u001b[0;34m)\u001b[0m\u001b[0;34m\u001b[0m\u001b[0;34m\u001b[0m\u001b[0m\n\u001b[1;32m    125\u001b[0m \u001b[0;34m\u001b[0m\u001b[0m\n\u001b[0;32m--> 126\u001b[0;31m                     raise PrologError(\"\".join([\"Caused by: '\", query, \"'. \",\n\u001b[0m\u001b[1;32m    127\u001b[0m                                                \"Returned: '\", str(term), \"'.\"]))\n\u001b[1;32m    128\u001b[0m \u001b[0;34m\u001b[0m\u001b[0m\n",
            "\u001b[0;31mPrologError\u001b[0m: Caused by: 'has(escritorio, X)'. Returned: 'error(existence_error(procedure, /(has, 2)), context(/(pyrun, 2), _1824))'."
          ]
        }
      ]
    },
    {
      "cell_type": "markdown",
      "source": [
        "Vamos inserir o fato na base. "
      ],
      "metadata": {
        "id": "ZpBmIzg9y1Qp"
      }
    },
    {
      "cell_type": "code",
      "source": [
        "inserir_fato(\"has(escritorio, [desk, computer])\")"
      ],
      "metadata": {
        "id": "7aCtI-xTx5mH"
      },
      "execution_count": 19,
      "outputs": []
    },
    {
      "cell_type": "code",
      "source": [
        "consultar_base_com_lista(\"has(escritorio, X)\")"
      ],
      "metadata": {
        "colab": {
          "base_uri": "https://localhost:8080/"
        },
        "id": "Ad668zYdytgK",
        "outputId": "68db2b14-1392-4039-f8da-9277708f77d0"
      },
      "execution_count": 20,
      "outputs": [
        {
          "output_type": "execute_result",
          "data": {
            "text/plain": [
              "[{'X': ['desk', 'computer']}]"
            ]
          },
          "metadata": {},
          "execution_count": 20
        }
      ]
    },
    {
      "cell_type": "markdown",
      "source": [
        "Dada essa introdução, vamos fazer uma atividade. \n",
        "\n",
        "A proposta do laboratório é criar um jogo aventura. Nele, você é uma criança de 3 anos de idade que só consegue dormir com sua babá. Sendo assim, a sua missão é explorar a casa em busca da Babá que está escondida em algum lugar da casa. Você deve mapear os fatos e as regras desse problema para mapear um solução em prolog. Antes do mapeamento precisamos conhecer as seguintes informações:\n",
        "\n",
        "* Os cômodos da casa e suas conexões;\n",
        "* Os objetos e a localização de cada um deles;\n",
        "* As propriedades destes objetos;\n",
        "* Onde o jogador está no início do jogo;\n",
        "\n",
        "Os cômodos e suas conexões podem ser vistos na imagem a seguir:\n",
        "\n",
        "![](https://adolfoguimaraes.github.io/artificialintelligence/class5/imgs/502_casa_exemplo.png)\n",
        "\n",
        "Com isso, podemos definir o predicado `room/1` com os fatos relacionados à imagem apresentada. Por exemplo, `room(office)`. é um fato extraídos das informações do mapa. Faça isso com os demais cômodos da casa.\n",
        "\n",
        "Um outra informação que pode ser extraída do mapa é a representação das conexões por meio das portas. Sendo assim, crie o predicado `door/2` com os fatos que indicam onde existe um porta entre os cômodos.\n",
        "\n",
        "Um outro predicado que precisa ser definido é o de `location/2` que possui dois argumentos. O primeiro é o objeto e o segundo sua localização. Crie todos os fatos correspondentes ao predicado `location/2` de acordo com a descrição a seguir:\n",
        "\n",
        "| Local\t| Objetos no local |\n",
        "|---------| ---------------- |\n",
        "| office |\tdesk, computer |\n",
        "| kitchen\t| apple, broccoli, crackers |\n",
        "| desk |\tflashlight. |\n",
        "| cellar |\twashing machine | \n",
        "| washing machine\t| nani | \n",
        "\n",
        "Além das informações do mapa e da localização dos objetos. Existem outros fatos que precisam ser mapeados.\n",
        "\n",
        "* **apple** e **crackers** são comestíveis (use o predicado `edible/1` para representar este fato)\n",
        "* **broccoli** não é tão saboroso para criança (use o predicado `tastes_yucky/1` para representar este fato).\n",
        "\n",
        "Por fim, defina o status inicial para o objeto flashlight a partir do predicado `turned_off/1` e a localização inicial da criança por meio do predicado `here/1`. No início do jogo, a criança está localizada na cozinha.\n",
        "\n",
        "Uma vez que os fatos foram especificados faz-se necessário especificar uma série de regras essenciais para o jogo. São elas:\n",
        "\n",
        "* **where_food/2**: dada uma comida, exibe onde ela está localizada.\n",
        "* **connect/2**: indica se dois cômodos estão conectados. Um cômodo está conectado se existe uma porta entre eles.\n",
        "* **list_things/2**: lista todos as coisas que estão em um determinado local. O primeiro parâmetro é o local e o segundo a lista de objetos no local.\n",
        "* **list_connection/1**: dado um local indica todas as conexões que existem neste local. O primeiro parâmetro é o local e o segundo é uma lista com todas as conexões.\n",
        "* **look/1**: dado um local, essa regra deve atualizar o fato here com a nova localização do jogador e escrever na tela o local onde ele está, os objetos que existem neste local e para quais locais ele pode ir a partir daquele local. Não esqueça que um objeto pode estar localizado em cima ou dentro de um outro objeto.\n",
        "\n",
        "Até aqui vocês definiram o cenário do nosso jogo. Em seguida, deve permitir que a criança ande pela casa. Em cada cômodo que ela chegue, deve-se executar a regra look para que ela atualize sua localização e liste tudo que está vendo. Caso a babá (nani) não esteja no cômodo atual, o bebê deve escolher um outro cômodo e visitar este novo cômodo. Caso esteja, o jogo deve ser encerrado. O bebê só pode passar para um outro cômodo se exister uma conexão entre o cômodo atual e o novo cômodo.\n",
        "\n",
        "A medida que a criança vai andando, o valor do predicado here/1 é atualizado pela regra look. Para isso vocês devem utilizar os comandos de atualização mostrados anteriormente no tutorial.\n",
        "\n",
        "### Atividade\n",
        "\n",
        "Implementar o jogo da Nani utilizando uma base de conhecimento em Prolog e a execução do programa a partir da linguagem Python. O jogo encerra quando o bebê encontrar a Nani. Enquanto ele não encontrar, o mesmo deve explorar cada cômodo informando o que tem no cômodo conforme descrição passada neste documento. \n",
        "\n",
        "Caso a criança pare em um cômado que tenha comida, ela vai comer desde de que seja uma comida que ela goste. Toda vez que a regra `look` for chamada deve também mostrar a lista de alimentos que a criança comeu.  \n",
        "\n",
        "Vale ressaltar que conforme a base descrita, a Nani está escondida na máquina de lavar :)\n",
        "\n",
        "Considere a seguinte base de conheciemento (arquivo: `base8.pl`): \n",
        "\n",
        "```prolog\n",
        ":- dynamic here/1.\n",
        "\n",
        "room(office).\n",
        "room(hall).\n",
        "room(kitchen).\n",
        "room(diningroom).\n",
        "room(cellar).\n",
        "\n",
        "location(desk, office).\n",
        "location(computer, office).\n",
        "location(apple, kitchen).\n",
        "location(broccoli, kitchen).\n",
        "location(crackers, kitchen).\n",
        "location(flashlight, desk).\n",
        "location(washingmachine, cellar).\n",
        "location(nani, washingmachine).\n",
        "\n",
        "door(office, hall).\n",
        "door(office, kitchen).\n",
        "door(hall, diningroom).\n",
        "door(diningroom, kitchen).\n",
        "door(kitchen, cellar).\n",
        "\n",
        "edible(apple).\n",
        "edible(crackers).\n",
        "tastes_yucky(broccoli).\n",
        "\n",
        "turned_off(flashlight).\n",
        "here(kitchen).\n",
        "```\n",
        "\n",
        "Crie regras que permitam fazer o que o jogo pede. Após a criação das regras, faça um programa em Python que consulte a base de conhecimento para permitir que a criança explore o ambiente. \n",
        "\n",
        "**Atenção:** Caso seu jogo receba uma base de conhecimento maior, com mais cômodos e mais situações. Ele deve funcionar do mesmo jeito. \n",
        "\n",
        "**Atenção 2:** Se um objeto está dentro ou em cima de um outro objeto que está em algum cômodo, esse primeiro objeto também está no cômodo. Por exemplo, se eu tenho uma caneta que está em cima de uma mesa dentro do escritório, a caneta também está no escritório. \n",
        "\n"
      ],
      "metadata": {
        "id": "1rrzuS_b2Twb"
      }
    },
    {
      "cell_type": "code",
      "source": [
        "prolog.consult(\"base8.pl\")"
      ],
      "metadata": {
        "id": "SnJvvv0ZyvKR"
      },
      "execution_count": null,
      "outputs": []
    },
    {
      "cell_type": "code",
      "source": [
        "prolog.retract(\"conectado(X,Y)\")"
      ],
      "metadata": {
        "id": "M7gkRv1k-09v",
        "outputId": "2e2381e7-a998-4fec-ce69-92d668d75a2c",
        "colab": {
          "base_uri": "https://localhost:8080/",
          "height": 300
        }
      },
      "execution_count": null,
      "outputs": [
        {
          "output_type": "error",
          "ename": "StopIteration",
          "evalue": "ignored",
          "traceback": [
            "\u001b[0;31m---------------------------------------------------------------------------\u001b[0m",
            "\u001b[0;31mStopIteration\u001b[0m                             Traceback (most recent call last)",
            "\u001b[0;32m<ipython-input-29-5fc8e8c3900e>\u001b[0m in \u001b[0;36m<module>\u001b[0;34m()\u001b[0m\n\u001b[0;32m----> 1\u001b[0;31m \u001b[0mprolog\u001b[0m\u001b[0;34m.\u001b[0m\u001b[0mretract\u001b[0m\u001b[0;34m(\u001b[0m\u001b[0;34m\"conectado(X,Y)\"\u001b[0m\u001b[0;34m)\u001b[0m\u001b[0;34m\u001b[0m\u001b[0;34m\u001b[0m\u001b[0m\n\u001b[0m",
            "\u001b[0;32m/usr/local/lib/python3.7/dist-packages/pyswip/prolog.py\u001b[0m in \u001b[0;36mretract\u001b[0;34m(cls, term, catcherrors)\u001b[0m\n\u001b[1;32m    146\u001b[0m     \u001b[0;34m@\u001b[0m\u001b[0mclassmethod\u001b[0m\u001b[0;34m\u001b[0m\u001b[0;34m\u001b[0m\u001b[0m\n\u001b[1;32m    147\u001b[0m     \u001b[0;32mdef\u001b[0m \u001b[0mretract\u001b[0m\u001b[0;34m(\u001b[0m\u001b[0mcls\u001b[0m\u001b[0;34m,\u001b[0m \u001b[0mterm\u001b[0m\u001b[0;34m,\u001b[0m \u001b[0mcatcherrors\u001b[0m\u001b[0;34m=\u001b[0m\u001b[0;32mFalse\u001b[0m\u001b[0;34m)\u001b[0m\u001b[0;34m:\u001b[0m\u001b[0;34m\u001b[0m\u001b[0;34m\u001b[0m\u001b[0m\n\u001b[0;32m--> 148\u001b[0;31m         \u001b[0mnext\u001b[0m\u001b[0;34m(\u001b[0m\u001b[0mcls\u001b[0m\u001b[0;34m.\u001b[0m\u001b[0mquery\u001b[0m\u001b[0;34m(\u001b[0m\u001b[0mterm\u001b[0m\u001b[0;34m.\u001b[0m\u001b[0mjoin\u001b[0m\u001b[0;34m(\u001b[0m\u001b[0;34m[\u001b[0m\u001b[0;34m\"retract((\"\u001b[0m\u001b[0;34m,\u001b[0m \u001b[0;34m\")).\"\u001b[0m\u001b[0;34m]\u001b[0m\u001b[0;34m)\u001b[0m\u001b[0;34m,\u001b[0m \u001b[0mcatcherrors\u001b[0m\u001b[0;34m=\u001b[0m\u001b[0mcatcherrors\u001b[0m\u001b[0;34m)\u001b[0m\u001b[0;34m)\u001b[0m\u001b[0;34m\u001b[0m\u001b[0;34m\u001b[0m\u001b[0m\n\u001b[0m\u001b[1;32m    149\u001b[0m \u001b[0;34m\u001b[0m\u001b[0m\n\u001b[1;32m    150\u001b[0m     \u001b[0;34m@\u001b[0m\u001b[0mclassmethod\u001b[0m\u001b[0;34m\u001b[0m\u001b[0;34m\u001b[0m\u001b[0m\n",
            "\u001b[0;31mStopIteration\u001b[0m: "
          ]
        }
      ]
    },
    {
      "cell_type": "code",
      "source": [
        "inserir_fato(\"conectado(X, Y) :- door(X, Y); door(Y,X)\")\n",
        "inserir_fato(\"visitado(nenhum)\")\n",
        "inserir_fato(\"quem_posso_visitar(X, Y) :- conectado(X, Y), not(visitado(Y))\")"
      ],
      "metadata": {
        "id": "grQ5Cg554uYK"
      },
      "execution_count": null,
      "outputs": []
    },
    {
      "cell_type": "code",
      "source": [
        "consultar_base(\"conectado(kitchen, X)\")"
      ],
      "metadata": {
        "id": "4xp1ofy_45H9",
        "outputId": "5156584b-e17f-4933-c5b2-2908af156bb9",
        "colab": {
          "base_uri": "https://localhost:8080/"
        }
      },
      "execution_count": null,
      "outputs": [
        {
          "output_type": "execute_result",
          "data": {
            "text/plain": [
              "[{'X': 'cellar'}, {'X': 'office'}, {'X': 'diningroom'}]"
            ]
          },
          "metadata": {},
          "execution_count": 10
        }
      ]
    },
    {
      "cell_type": "code",
      "source": [
        "consultar_base(\"quem_posso_visitar(kitchen, X)\")"
      ],
      "metadata": {
        "id": "oC5R9JCM8oC6",
        "outputId": "e609a19d-ad4e-4036-dad2-fce5acc99461",
        "colab": {
          "base_uri": "https://localhost:8080/"
        }
      },
      "execution_count": null,
      "outputs": [
        {
          "output_type": "execute_result",
          "data": {
            "text/plain": [
              "[{'X': 'cellar'}, {'X': 'office'}, {'X': 'diningroom'}]"
            ]
          },
          "metadata": {},
          "execution_count": 11
        }
      ]
    },
    {
      "cell_type": "code",
      "source": [
        "inserir_fato(\"visitado(cellar)\")"
      ],
      "metadata": {
        "id": "JoBsdAIb-dS8"
      },
      "execution_count": null,
      "outputs": []
    },
    {
      "cell_type": "code",
      "source": [
        "consultar_base(\"quem_posso_visitar(kitchen, X)\")"
      ],
      "metadata": {
        "id": "7xzbhqtq-hWh",
        "outputId": "87c3680f-472b-4f45-e222-203a604074f1",
        "colab": {
          "base_uri": "https://localhost:8080/"
        }
      },
      "execution_count": null,
      "outputs": [
        {
          "output_type": "execute_result",
          "data": {
            "text/plain": [
              "[{'X': 'office'}, {'X': 'diningroom'}]"
            ]
          },
          "metadata": {},
          "execution_count": 13
        }
      ]
    },
    {
      "cell_type": "code",
      "source": [
        "local_atual = consultar_base('here(X)')[0]['X']\n",
        "print(\"Eu estou na %s\" % local_atual)\n",
        "conexoes = consultar_base(\"conectado(\" + local_atual + \", X)\")\n",
        "atualizar_local(conexoes[0]['X'])\n",
        "local_atual = consultar_base('here(X)')[0]['X']\n",
        "print(\"Eu estou na %s\" % local_atual)"
      ],
      "metadata": {
        "colab": {
          "base_uri": "https://localhost:8080/"
        },
        "id": "xPTr9Pj22xC7",
        "outputId": "8ef1c90e-eb67-4581-f2cf-e94240708c1a"
      },
      "execution_count": null,
      "outputs": [
        {
          "output_type": "stream",
          "name": "stdout",
          "text": [
            "Eu estou na kitchen\n",
            "Eu estou na cellar\n"
          ]
        }
      ]
    },
    {
      "cell_type": "code",
      "source": [],
      "metadata": {
        "id": "SPQ9_Zp44Mk7"
      },
      "execution_count": null,
      "outputs": []
    }
  ],
  "metadata": {
    "interpreter": {
      "hash": "08127f97df6c02a53ef8f985c7fba4c27496d4e158c6aeb69a78d3e5c8eefc39"
    },
    "kernelspec": {
      "display_name": "Python 3.9.7 ('inteligenciaartificial')",
      "language": "python",
      "name": "python3"
    },
    "language_info": {
      "name": "python",
      "version": "3.9.7"
    },
    "orig_nbformat": 4,
    "colab": {
      "name": "06_Prolog_Parte3.ipynb",
      "provenance": [],
      "include_colab_link": true
    }
  },
  "nbformat": 4,
  "nbformat_minor": 0
}