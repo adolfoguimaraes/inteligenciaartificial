{
  "cells": [
    {
      "cell_type": "markdown",
      "metadata": {
        "id": "t2afIk4RsKW6"
      },
      "source": [
        "# Prolog - Parte 3"
      ]
    },
    {
      "cell_type": "code",
      "execution_count": 1,
      "metadata": {
        "colab": {
          "base_uri": "https://localhost:8080/"
        },
        "id": "QIRWmTp2sKW-",
        "outputId": "dbb2b1f7-3b49-4161-e901-195085f6e4e3"
      },
      "outputs": [
        {
          "output_type": "stream",
          "name": "stdout",
          "text": [
            "Reading package lists... Done\n",
            "Building dependency tree       \n",
            "Reading state information... Done\n",
            "The following additional packages will be installed:\n",
            "  autoconf automake autopoint autotools-dev debhelper dh-autoreconf\n",
            "  dh-strip-nondeterminism file gettext gettext-base intltool-debian\n",
            "  javascript-common libarchive-cpio-perl libarchive-zip-perl libbsd-dev\n",
            "  libedit-dev libfile-stripnondeterminism-perl libgmp-dev libgmpxx4ldbl\n",
            "  libjs-jquery libmagic-mgc libmagic1 libmail-sendmail-perl libncursesw5-dev\n",
            "  libossp-uuid16 libsigsegv2 libsys-hostname-long-perl libtimedate-perl\n",
            "  libtool m4 po-debconf swi-prolog-nox swi-prolog-x\n",
            "Suggested packages:\n",
            "  autoconf-archive gnu-standards autoconf-doc dh-make dwz gettext-doc\n",
            "  libasprintf-dev libgettextpo-dev apache2 | lighttpd | httpd gmp-doc\n",
            "  libgmp10-doc libmpfr-dev ncurses-doc uuid libtool-doc gcj-jdk m4-doc\n",
            "  libmail-box-perl elpa-ediprolog\n",
            "The following NEW packages will be installed:\n",
            "  autoconf automake autopoint autotools-dev debhelper dh-autoreconf\n",
            "  dh-strip-nondeterminism file gettext gettext-base intltool-debian\n",
            "  javascript-common libarchive-cpio-perl libarchive-zip-perl libbsd-dev\n",
            "  libedit-dev libfile-stripnondeterminism-perl libgmp-dev libgmpxx4ldbl\n",
            "  libjs-jquery libmagic-mgc libmagic1 libmail-sendmail-perl libncursesw5-dev\n",
            "  libossp-uuid16 libsigsegv2 libsys-hostname-long-perl libtimedate-perl\n",
            "  libtool m4 po-debconf swi-prolog swi-prolog-nox swi-prolog-x\n",
            "0 upgraded, 34 newly installed, 0 to remove and 39 not upgraded.\n",
            "Need to get 11.1 MB of archives.\n",
            "After this operation, 57.1 MB of additional disk space will be used.\n",
            "Get:1 http://archive.ubuntu.com/ubuntu bionic-updates/main amd64 libmagic-mgc amd64 1:5.32-2ubuntu0.4 [184 kB]\n",
            "Get:2 http://archive.ubuntu.com/ubuntu bionic-updates/main amd64 libmagic1 amd64 1:5.32-2ubuntu0.4 [68.6 kB]\n",
            "Get:3 http://archive.ubuntu.com/ubuntu bionic-updates/main amd64 file amd64 1:5.32-2ubuntu0.4 [22.1 kB]\n",
            "Get:4 http://archive.ubuntu.com/ubuntu bionic-updates/main amd64 gettext-base amd64 0.19.8.1-6ubuntu0.3 [113 kB]\n",
            "Get:5 http://archive.ubuntu.com/ubuntu bionic/main amd64 libsigsegv2 amd64 2.12-1 [14.7 kB]\n",
            "Get:6 http://archive.ubuntu.com/ubuntu bionic/main amd64 m4 amd64 1.4.18-1 [197 kB]\n",
            "Get:7 http://archive.ubuntu.com/ubuntu bionic/main amd64 autoconf all 2.69-11 [322 kB]\n",
            "Get:8 http://archive.ubuntu.com/ubuntu bionic/main amd64 autotools-dev all 20180224.1 [39.6 kB]\n",
            "Get:9 http://archive.ubuntu.com/ubuntu bionic/main amd64 automake all 1:1.15.1-3ubuntu2 [509 kB]\n",
            "Get:10 http://archive.ubuntu.com/ubuntu bionic-updates/main amd64 autopoint all 0.19.8.1-6ubuntu0.3 [426 kB]\n",
            "Get:11 http://archive.ubuntu.com/ubuntu bionic/main amd64 libtool all 2.4.6-2 [194 kB]\n",
            "Get:12 http://archive.ubuntu.com/ubuntu bionic/main amd64 dh-autoreconf all 17 [15.8 kB]\n",
            "Get:13 http://archive.ubuntu.com/ubuntu bionic-updates/main amd64 libarchive-zip-perl all 1.60-1ubuntu0.1 [84.6 kB]\n",
            "Get:14 http://archive.ubuntu.com/ubuntu bionic/main amd64 libfile-stripnondeterminism-perl all 0.040-1.1~build1 [13.8 kB]\n",
            "Get:15 http://archive.ubuntu.com/ubuntu bionic/main amd64 libtimedate-perl all 2.3000-2 [37.5 kB]\n",
            "Get:16 http://archive.ubuntu.com/ubuntu bionic/main amd64 dh-strip-nondeterminism all 0.040-1.1~build1 [5,208 B]\n",
            "Get:17 http://archive.ubuntu.com/ubuntu bionic-updates/main amd64 gettext amd64 0.19.8.1-6ubuntu0.3 [1,293 kB]\n",
            "Get:18 http://archive.ubuntu.com/ubuntu bionic/main amd64 intltool-debian all 0.35.0+20060710.4 [24.9 kB]\n",
            "Get:19 http://archive.ubuntu.com/ubuntu bionic/main amd64 po-debconf all 1.0.20 [232 kB]\n",
            "Get:20 http://archive.ubuntu.com/ubuntu bionic-updates/main amd64 debhelper all 11.1.6ubuntu2 [902 kB]\n",
            "Get:21 http://archive.ubuntu.com/ubuntu bionic/main amd64 javascript-common all 11 [6,066 B]\n",
            "Get:22 http://archive.ubuntu.com/ubuntu bionic/main amd64 libarchive-cpio-perl all 0.10-1 [9,644 B]\n",
            "Get:23 http://archive.ubuntu.com/ubuntu bionic-updates/main amd64 libbsd-dev amd64 0.8.7-1ubuntu0.1 [150 kB]\n",
            "Get:24 http://archive.ubuntu.com/ubuntu bionic/main amd64 libedit-dev amd64 3.1-20170329-1 [99.1 kB]\n",
            "Get:25 http://archive.ubuntu.com/ubuntu bionic/main amd64 libgmpxx4ldbl amd64 2:6.1.2+dfsg-2 [8,964 B]\n",
            "Get:26 http://archive.ubuntu.com/ubuntu bionic/main amd64 libgmp-dev amd64 2:6.1.2+dfsg-2 [316 kB]\n",
            "Get:27 http://archive.ubuntu.com/ubuntu bionic/main amd64 libjs-jquery all 3.2.1-1 [152 kB]\n",
            "Get:28 http://archive.ubuntu.com/ubuntu bionic/main amd64 libsys-hostname-long-perl all 1.5-1 [11.7 kB]\n",
            "Get:29 http://archive.ubuntu.com/ubuntu bionic/main amd64 libmail-sendmail-perl all 0.80-1 [22.6 kB]\n",
            "Get:30 http://archive.ubuntu.com/ubuntu bionic-updates/main amd64 libncursesw5-dev amd64 6.1-1ubuntu1.18.04 [199 kB]\n",
            "Get:31 http://archive.ubuntu.com/ubuntu bionic/universe amd64 libossp-uuid16 amd64 1.6.2-1.5build4 [29.0 kB]\n",
            "Get:32 http://archive.ubuntu.com/ubuntu bionic/universe amd64 swi-prolog-nox amd64 7.6.4+dfsg-1build1 [3,352 kB]\n",
            "Get:33 http://archive.ubuntu.com/ubuntu bionic/universe amd64 swi-prolog-x amd64 7.6.4+dfsg-1build1 [2,010 kB]\n",
            "Get:34 http://archive.ubuntu.com/ubuntu bionic/universe amd64 swi-prolog amd64 7.6.4+dfsg-1build1 [15.3 kB]\n",
            "Fetched 11.1 MB in 1s (15.3 MB/s)\n",
            "debconf: unable to initialize frontend: Dialog\n",
            "debconf: (No usable dialog-like program is installed, so the dialog based frontend cannot be used. at /usr/share/perl5/Debconf/FrontEnd/Dialog.pm line 76, <> line 34.)\n",
            "debconf: falling back to frontend: Readline\n",
            "debconf: unable to initialize frontend: Readline\n",
            "debconf: (This frontend requires a controlling tty.)\n",
            "debconf: falling back to frontend: Teletype\n",
            "dpkg-preconfigure: unable to re-open stdin: \n",
            "Selecting previously unselected package libmagic-mgc.\n",
            "(Reading database ... 156210 files and directories currently installed.)\n",
            "Preparing to unpack .../00-libmagic-mgc_1%3a5.32-2ubuntu0.4_amd64.deb ...\n",
            "Unpacking libmagic-mgc (1:5.32-2ubuntu0.4) ...\n",
            "Selecting previously unselected package libmagic1:amd64.\n",
            "Preparing to unpack .../01-libmagic1_1%3a5.32-2ubuntu0.4_amd64.deb ...\n",
            "Unpacking libmagic1:amd64 (1:5.32-2ubuntu0.4) ...\n",
            "Selecting previously unselected package file.\n",
            "Preparing to unpack .../02-file_1%3a5.32-2ubuntu0.4_amd64.deb ...\n",
            "Unpacking file (1:5.32-2ubuntu0.4) ...\n",
            "Selecting previously unselected package gettext-base.\n",
            "Preparing to unpack .../03-gettext-base_0.19.8.1-6ubuntu0.3_amd64.deb ...\n",
            "Unpacking gettext-base (0.19.8.1-6ubuntu0.3) ...\n",
            "Selecting previously unselected package libsigsegv2:amd64.\n",
            "Preparing to unpack .../04-libsigsegv2_2.12-1_amd64.deb ...\n",
            "Unpacking libsigsegv2:amd64 (2.12-1) ...\n",
            "Selecting previously unselected package m4.\n",
            "Preparing to unpack .../05-m4_1.4.18-1_amd64.deb ...\n",
            "Unpacking m4 (1.4.18-1) ...\n",
            "Selecting previously unselected package autoconf.\n",
            "Preparing to unpack .../06-autoconf_2.69-11_all.deb ...\n",
            "Unpacking autoconf (2.69-11) ...\n",
            "Selecting previously unselected package autotools-dev.\n",
            "Preparing to unpack .../07-autotools-dev_20180224.1_all.deb ...\n",
            "Unpacking autotools-dev (20180224.1) ...\n",
            "Selecting previously unselected package automake.\n",
            "Preparing to unpack .../08-automake_1%3a1.15.1-3ubuntu2_all.deb ...\n",
            "Unpacking automake (1:1.15.1-3ubuntu2) ...\n",
            "Selecting previously unselected package autopoint.\n",
            "Preparing to unpack .../09-autopoint_0.19.8.1-6ubuntu0.3_all.deb ...\n",
            "Unpacking autopoint (0.19.8.1-6ubuntu0.3) ...\n",
            "Selecting previously unselected package libtool.\n",
            "Preparing to unpack .../10-libtool_2.4.6-2_all.deb ...\n",
            "Unpacking libtool (2.4.6-2) ...\n",
            "Selecting previously unselected package dh-autoreconf.\n",
            "Preparing to unpack .../11-dh-autoreconf_17_all.deb ...\n",
            "Unpacking dh-autoreconf (17) ...\n",
            "Selecting previously unselected package libarchive-zip-perl.\n",
            "Preparing to unpack .../12-libarchive-zip-perl_1.60-1ubuntu0.1_all.deb ...\n",
            "Unpacking libarchive-zip-perl (1.60-1ubuntu0.1) ...\n",
            "Selecting previously unselected package libfile-stripnondeterminism-perl.\n",
            "Preparing to unpack .../13-libfile-stripnondeterminism-perl_0.040-1.1~build1_all.deb ...\n",
            "Unpacking libfile-stripnondeterminism-perl (0.040-1.1~build1) ...\n",
            "Selecting previously unselected package libtimedate-perl.\n",
            "Preparing to unpack .../14-libtimedate-perl_2.3000-2_all.deb ...\n",
            "Unpacking libtimedate-perl (2.3000-2) ...\n",
            "Selecting previously unselected package dh-strip-nondeterminism.\n",
            "Preparing to unpack .../15-dh-strip-nondeterminism_0.040-1.1~build1_all.deb ...\n",
            "Unpacking dh-strip-nondeterminism (0.040-1.1~build1) ...\n",
            "Selecting previously unselected package gettext.\n",
            "Preparing to unpack .../16-gettext_0.19.8.1-6ubuntu0.3_amd64.deb ...\n",
            "Unpacking gettext (0.19.8.1-6ubuntu0.3) ...\n",
            "Selecting previously unselected package intltool-debian.\n",
            "Preparing to unpack .../17-intltool-debian_0.35.0+20060710.4_all.deb ...\n",
            "Unpacking intltool-debian (0.35.0+20060710.4) ...\n",
            "Selecting previously unselected package po-debconf.\n",
            "Preparing to unpack .../18-po-debconf_1.0.20_all.deb ...\n",
            "Unpacking po-debconf (1.0.20) ...\n",
            "Selecting previously unselected package debhelper.\n",
            "Preparing to unpack .../19-debhelper_11.1.6ubuntu2_all.deb ...\n",
            "Unpacking debhelper (11.1.6ubuntu2) ...\n",
            "Selecting previously unselected package javascript-common.\n",
            "Preparing to unpack .../20-javascript-common_11_all.deb ...\n",
            "Unpacking javascript-common (11) ...\n",
            "Selecting previously unselected package libarchive-cpio-perl.\n",
            "Preparing to unpack .../21-libarchive-cpio-perl_0.10-1_all.deb ...\n",
            "Unpacking libarchive-cpio-perl (0.10-1) ...\n",
            "Selecting previously unselected package libbsd-dev:amd64.\n",
            "Preparing to unpack .../22-libbsd-dev_0.8.7-1ubuntu0.1_amd64.deb ...\n",
            "Unpacking libbsd-dev:amd64 (0.8.7-1ubuntu0.1) ...\n",
            "Selecting previously unselected package libedit-dev:amd64.\n",
            "Preparing to unpack .../23-libedit-dev_3.1-20170329-1_amd64.deb ...\n",
            "Unpacking libedit-dev:amd64 (3.1-20170329-1) ...\n",
            "Selecting previously unselected package libgmpxx4ldbl:amd64.\n",
            "Preparing to unpack .../24-libgmpxx4ldbl_2%3a6.1.2+dfsg-2_amd64.deb ...\n",
            "Unpacking libgmpxx4ldbl:amd64 (2:6.1.2+dfsg-2) ...\n",
            "Selecting previously unselected package libgmp-dev:amd64.\n",
            "Preparing to unpack .../25-libgmp-dev_2%3a6.1.2+dfsg-2_amd64.deb ...\n",
            "Unpacking libgmp-dev:amd64 (2:6.1.2+dfsg-2) ...\n",
            "Selecting previously unselected package libjs-jquery.\n",
            "Preparing to unpack .../26-libjs-jquery_3.2.1-1_all.deb ...\n",
            "Unpacking libjs-jquery (3.2.1-1) ...\n",
            "Selecting previously unselected package libsys-hostname-long-perl.\n",
            "Preparing to unpack .../27-libsys-hostname-long-perl_1.5-1_all.deb ...\n",
            "Unpacking libsys-hostname-long-perl (1.5-1) ...\n",
            "Selecting previously unselected package libmail-sendmail-perl.\n",
            "Preparing to unpack .../28-libmail-sendmail-perl_0.80-1_all.deb ...\n",
            "Unpacking libmail-sendmail-perl (0.80-1) ...\n",
            "Selecting previously unselected package libncursesw5-dev:amd64.\n",
            "Preparing to unpack .../29-libncursesw5-dev_6.1-1ubuntu1.18.04_amd64.deb ...\n",
            "Unpacking libncursesw5-dev:amd64 (6.1-1ubuntu1.18.04) ...\n",
            "Selecting previously unselected package libossp-uuid16:amd64.\n",
            "Preparing to unpack .../30-libossp-uuid16_1.6.2-1.5build4_amd64.deb ...\n",
            "Unpacking libossp-uuid16:amd64 (1.6.2-1.5build4) ...\n",
            "Selecting previously unselected package swi-prolog-nox.\n",
            "Preparing to unpack .../31-swi-prolog-nox_7.6.4+dfsg-1build1_amd64.deb ...\n",
            "Unpacking swi-prolog-nox (7.6.4+dfsg-1build1) ...\n",
            "Selecting previously unselected package swi-prolog-x.\n",
            "Preparing to unpack .../32-swi-prolog-x_7.6.4+dfsg-1build1_amd64.deb ...\n",
            "Unpacking swi-prolog-x (7.6.4+dfsg-1build1) ...\n",
            "Selecting previously unselected package swi-prolog.\n",
            "Preparing to unpack .../33-swi-prolog_7.6.4+dfsg-1build1_amd64.deb ...\n",
            "Unpacking swi-prolog (7.6.4+dfsg-1build1) ...\n",
            "Setting up libjs-jquery (3.2.1-1) ...\n",
            "Setting up libarchive-zip-perl (1.60-1ubuntu0.1) ...\n",
            "Setting up libtimedate-perl (2.3000-2) ...\n",
            "Setting up libsigsegv2:amd64 (2.12-1) ...\n",
            "Setting up libbsd-dev:amd64 (0.8.7-1ubuntu0.1) ...\n",
            "Setting up libossp-uuid16:amd64 (1.6.2-1.5build4) ...\n",
            "Setting up libarchive-cpio-perl (0.10-1) ...\n",
            "Setting up gettext-base (0.19.8.1-6ubuntu0.3) ...\n",
            "Setting up m4 (1.4.18-1) ...\n",
            "Setting up libmagic-mgc (1:5.32-2ubuntu0.4) ...\n",
            "Setting up libmagic1:amd64 (1:5.32-2ubuntu0.4) ...\n",
            "Setting up libsys-hostname-long-perl (1.5-1) ...\n",
            "Setting up libmail-sendmail-perl (0.80-1) ...\n",
            "Setting up autotools-dev (20180224.1) ...\n",
            "Setting up libncursesw5-dev:amd64 (6.1-1ubuntu1.18.04) ...\n",
            "Setting up libedit-dev:amd64 (3.1-20170329-1) ...\n",
            "Setting up javascript-common (11) ...\n",
            "Setting up libgmpxx4ldbl:amd64 (2:6.1.2+dfsg-2) ...\n",
            "Setting up autopoint (0.19.8.1-6ubuntu0.3) ...\n",
            "Setting up libfile-stripnondeterminism-perl (0.040-1.1~build1) ...\n",
            "Setting up libgmp-dev:amd64 (2:6.1.2+dfsg-2) ...\n",
            "Setting up gettext (0.19.8.1-6ubuntu0.3) ...\n",
            "Setting up autoconf (2.69-11) ...\n",
            "Setting up file (1:5.32-2ubuntu0.4) ...\n",
            "Setting up swi-prolog-nox (7.6.4+dfsg-1build1) ...\n",
            "update-alternatives: using /usr/bin/swipl to provide /usr/bin/prolog (prolog) in auto mode\n",
            "Setting up intltool-debian (0.35.0+20060710.4) ...\n",
            "Setting up automake (1:1.15.1-3ubuntu2) ...\n",
            "update-alternatives: using /usr/bin/automake-1.15 to provide /usr/bin/automake (automake) in auto mode\n",
            "Setting up libtool (2.4.6-2) ...\n",
            "Setting up po-debconf (1.0.20) ...\n",
            "Setting up swi-prolog-x (7.6.4+dfsg-1build1) ...\n",
            "Setting up swi-prolog (7.6.4+dfsg-1build1) ...\n",
            "Setting up debhelper (11.1.6ubuntu2) ...\n",
            "Setting up dh-autoreconf (17) ...\n",
            "Setting up dh-strip-nondeterminism (0.040-1.1~build1) ...\n",
            "Processing triggers for libc-bin (2.27-3ubuntu1.3) ...\n",
            "/sbin/ldconfig.real: /usr/local/lib/python3.7/dist-packages/ideep4py/lib/libmkldnn.so.0 is not a symbolic link\n",
            "\n",
            "Processing triggers for man-db (2.8.3-2ubuntu0.1) ...\n",
            "Collecting pyswip\n",
            "  Downloading pyswip-0.2.10-py2.py3-none-any.whl (27 kB)\n",
            "Installing collected packages: pyswip\n",
            "Successfully installed pyswip-0.2.10\n"
          ]
        }
      ],
      "source": [
        "# Rodar essa célular apenas se tiver rodando no colab.\n",
        "\n",
        "!sudo apt install swi-prolog\n",
        "!pip install pyswip"
      ]
    },
    {
      "cell_type": "code",
      "source": [
        "# Carregar a biblioteca \n",
        "from pyswip import Prolog\n",
        "from pyswip import Atom\n",
        "\n",
        "# Instanciar o objeto\n",
        "prolog = Prolog()"
      ],
      "metadata": {
        "id": "0ddnziYYsS7R"
      },
      "execution_count": 1,
      "outputs": []
    },
    {
      "cell_type": "code",
      "source": [
        "\n",
        "\n",
        "def atoms_to_strings(answer):\n",
        "    if isinstance(answer, dict):\n",
        "        result = {}\n",
        "        for k in answer.keys():\n",
        "            result[k] = atoms_to_strings(answer[k])\n",
        "    elif isinstance(answer, list):\n",
        "        result = [atoms_to_strings(val) for val in answer]\n",
        "    elif isinstance(answer, Atom):\n",
        "        result = answer.value\n",
        "    elif isinstance(answer, int) or isinstance(answer, str):\n",
        "        result = answer\n",
        "    else:\n",
        "        print(\"Unsupported result from Prolog: \" + str(type(answer)) + str(answer))\n",
        "    return result"
      ],
      "metadata": {
        "id": "aPODaDU2zC-S"
      },
      "execution_count": 2,
      "outputs": []
    },
    {
      "cell_type": "code",
      "source": [
        "## Método para consultar a base\n",
        "def consultar_base(pergunta: str):\n",
        "\n",
        "  \"\"\"\n",
        "    Esse método recebe uma pergunta com parâmetro e retorna True se assertiva \n",
        "    for verdadeira e False, caso contrário. Caso a pergunta seja com variáveis, \n",
        "    o método vai retornar uma lista de dicionários, onde a chave de cada \n",
        "    dicionário é uma variável passada. \n",
        "\n",
        "    :param pergunta: str\n",
        "    \n",
        "    :return : bool, list\n",
        "  \"\"\"\n",
        "\n",
        "  result_ = prolog.query(pergunta)\n",
        "  \n",
        "  result_list = list(result_)\n",
        "\n",
        "  if len(result_list) == 0: return False\n",
        "  else:\n",
        "    if len(result_list[0].keys()) == 0: return True\n",
        "    else:\n",
        "      return result_list\n"
      ],
      "metadata": {
        "id": "98_9JDcWsX0H"
      },
      "execution_count": 3,
      "outputs": []
    },
    {
      "cell_type": "code",
      "source": [
        "def consultar_base_com_lista(pergunta: str):\n",
        "  result_ = prolog.query(pergunta)\n",
        "  final_result = []\n",
        "  for element in result_:\n",
        "    list_ = atoms_to_strings(element)\n",
        "    final_result.append(list_)\n",
        "\n",
        "  return final_result"
      ],
      "metadata": {
        "id": "ttu4BHv0zhOs"
      },
      "execution_count": 4,
      "outputs": []
    },
    {
      "cell_type": "code",
      "source": [
        "def atualizar_local(local: str):\n",
        "\n",
        "  prolog.retract(\"here(X)\")\n",
        "  prolog.asserta(\"here(\"+local+\")\")"
      ],
      "metadata": {
        "id": "UrzxGy-uxnzH"
      },
      "execution_count": 5,
      "outputs": []
    },
    {
      "cell_type": "code",
      "source": [
        "def inserir_fato(fato: str):\n",
        "  prolog.asserta(fato)"
      ],
      "metadata": {
        "id": "NXMR6ZyTyI5f"
      },
      "execution_count": 6,
      "outputs": []
    },
    {
      "cell_type": "markdown",
      "source": [
        "## Problema 1 \n",
        "\n",
        "Vamos trabalhar com a base de conhecimento da `base5.pl`."
      ],
      "metadata": {
        "id": "Cw3dSh3LssbL"
      }
    },
    {
      "cell_type": "code",
      "source": [
        "# Carregar a base5.pl\n",
        "prolog.consult(\"base5.pl\")"
      ],
      "metadata": {
        "id": "w1RT8Tdgsf5M"
      },
      "execution_count": 4,
      "outputs": []
    },
    {
      "cell_type": "markdown",
      "source": [
        "Essa base contém fatos sobre a possibilidade de pegar um trem direto entre duas cidades. No entanto, podemos viajar de um lugar para o outro trocando de trem. Sendo assim, escreva um predicado `travelFromTo/2` que diz se é\n",
        "possível viajar de trem entre duas cidades. Por exemplo, quando perguntado:\n",
        "\n",
        "`travelFromTo(nancy, staAvold)`\n",
        "\n",
        "deve retornar True já que podemos seguir o caminho `nancy -> metz -> fahlquemont -> stAvold`."
      ],
      "metadata": {
        "id": "ztDgERf-s1au"
      }
    },
    {
      "cell_type": "markdown",
      "source": [
        "_Atualize o arquivo base5.pl com a sua regra e teste nas linhas a seguir_"
      ],
      "metadata": {
        "id": "hckcdZcotFd2"
      }
    },
    {
      "cell_type": "code",
      "source": [
        "# Carregue a base novamente e teste. "
      ],
      "metadata": {
        "id": "DJ8tAaIusqvi"
      },
      "execution_count": 5,
      "outputs": []
    },
    {
      "cell_type": "markdown",
      "source": [
        "## Problema 2 \n",
        "\n",
        "Vamos considerar agora a base do arquivo `base6.pl`. "
      ],
      "metadata": {
        "id": "8M-0a7P1tPU3"
      }
    },
    {
      "cell_type": "code",
      "source": [
        "# Carregar a base6.pl\n",
        "prolog.consult(\"base6.pl\")"
      ],
      "metadata": {
        "id": "xZFSulmmtOZa"
      },
      "execution_count": null,
      "outputs": []
    },
    {
      "cell_type": "markdown",
      "source": [
        "Escreva um predicado listatraducao(P, E) que traduz um lista de números em Português para a lista correspondente em Inglês. Por exemplo,\n",
        "\n",
        "`listatraducao([um,nove,dois],X)`.\n",
        "\n",
        "deve gerar:\n",
        "\n",
        "`X = [one,nine,two].`\n",
        "\n",
        "Seu programa deve funcionar também na direção contrária. Por exemplo, se você entra com a seguinte query:\n",
        "\n",
        "`listatraducao(X,[one,seven,six,two]).`\n",
        "\n",
        "deve ser retornado:\n",
        "\n",
        "`X = [um,sete,seis,dois].`\n",
        "\n",
        "_Atualize o arquivo base6.pl com a sua regra e teste nas linhas a seguir_"
      ],
      "metadata": {
        "id": "i1XcfTs9tflp"
      }
    },
    {
      "cell_type": "code",
      "source": [
        "# Carregue a base novamente e teste. "
      ],
      "metadata": {
        "id": "Mtq5Amo2toGo"
      },
      "execution_count": 6,
      "outputs": []
    },
    {
      "cell_type": "markdown",
      "source": [
        "## Problema 3 - Jogo da Nany\n",
        "\n",
        "Para começar, vamos carregar o arquivo `base7.pl` para demonstrar alguns comandos novos para se trabalhar com Prolog. Essa base é apenas de exemplo. Ela indica o mapeamento de uma casa com os cômodos e a conexão entre eles. A regra `here` indica a posição de uma pessoa na casa. \n",
        "\n"
      ],
      "metadata": {
        "id": "G4H98MVOtwCH"
      }
    },
    {
      "cell_type": "markdown",
      "source": [
        ""
      ],
      "metadata": {
        "id": "Y-B5kB2Qum1f"
      }
    },
    {
      "cell_type": "code",
      "source": [
        "prolog.consult(\"base7.pl\")"
      ],
      "metadata": {
        "id": "NzrLxoh2tvNA"
      },
      "execution_count": 55,
      "outputs": []
    },
    {
      "cell_type": "code",
      "source": [
        "consultar_base(\"door(cozinha, X)\")"
      ],
      "metadata": {
        "colab": {
          "base_uri": "https://localhost:8080/"
        },
        "id": "2aR4nxrUupEF",
        "outputId": "1405ff86-a4bd-4627-c6f1-e51d700a5c94"
      },
      "execution_count": 56,
      "outputs": [
        {
          "output_type": "execute_result",
          "data": {
            "text/plain": [
              "[{'X': 'escritorio'}]"
            ]
          },
          "metadata": {},
          "execution_count": 56
        }
      ]
    },
    {
      "cell_type": "code",
      "source": [
        "consultar_base(\"door(cozinha, escritorio)\")"
      ],
      "metadata": {
        "colab": {
          "base_uri": "https://localhost:8080/"
        },
        "id": "p52wii2Kunci",
        "outputId": "8190c829-111e-4a0f-8715-367f1c838d52"
      },
      "execution_count": 57,
      "outputs": [
        {
          "output_type": "execute_result",
          "data": {
            "text/plain": [
              "True"
            ]
          },
          "metadata": {},
          "execution_count": 57
        }
      ]
    },
    {
      "cell_type": "markdown",
      "source": [
        "A regra `here(X)` tem como caracaterística que ela é dinâmica. Ou seja, podemos altera-la durante a execuçã do programa. Vamos ver como funciona. "
      ],
      "metadata": {
        "id": "egtmWsGgu22_"
      }
    },
    {
      "cell_type": "code",
      "source": [
        "# Primeiro vamos consultar onde o personagem está.\n",
        "consultar_base(\"here(X)\")"
      ],
      "metadata": {
        "colab": {
          "base_uri": "https://localhost:8080/"
        },
        "id": "nM21JcGVuxyO",
        "outputId": "f7682f6d-5908-4236-e93c-405a8902b8f6"
      },
      "execution_count": 58,
      "outputs": [
        {
          "output_type": "execute_result",
          "data": {
            "text/plain": [
              "[{'X': 'cozinha'}]"
            ]
          },
          "metadata": {},
          "execution_count": 58
        }
      ]
    },
    {
      "cell_type": "markdown",
      "source": [
        "Agora vamos utilizar o método `update_here` que foi criado para alterar a posição na pessoa na casa. Esse método faz duas operações no prolog: `retract` e `asserta`. A primeira remove o conhecimento atual daquela regra e a segunda atribui a nova posição. "
      ],
      "metadata": {
        "id": "BgfnuOQgxTyd"
      }
    },
    {
      "cell_type": "code",
      "source": [
        "atualizar_local(\"escritorio\")"
      ],
      "metadata": {
        "id": "HWkNpqRMw6r4"
      },
      "execution_count": 59,
      "outputs": []
    },
    {
      "cell_type": "code",
      "source": [
        "# Vamos consultar novamente a posição\n",
        "consultar_base(\"here(X)\")"
      ],
      "metadata": {
        "colab": {
          "base_uri": "https://localhost:8080/"
        },
        "id": "Ndi1bxFax2mi",
        "outputId": "76be194f-6960-434b-fc26-6c0232ccae41"
      },
      "execution_count": 60,
      "outputs": [
        {
          "output_type": "execute_result",
          "data": {
            "text/plain": [
              "[{'X': 'escritorio'}]"
            ]
          },
          "metadata": {},
          "execution_count": 60
        }
      ]
    },
    {
      "cell_type": "markdown",
      "source": [
        "É possível também inserir novos fatos à base. Vamos inserir um novo fato à nossa base `has(escritorio, [desk, computer])`. Observer que esse fato não existe em nossa base. "
      ],
      "metadata": {
        "id": "9Hqzpy1RyRwQ"
      }
    },
    {
      "cell_type": "code",
      "source": [
        "consultar_base_com_lista(\"has(escritorio, X)\")"
      ],
      "metadata": {
        "colab": {
          "base_uri": "https://localhost:8080/"
        },
        "id": "vnCqGypKyo11",
        "outputId": "d92aa0ac-cd63-4098-de9e-637abdabbafe"
      },
      "execution_count": 63,
      "outputs": [
        {
          "output_type": "execute_result",
          "data": {
            "text/plain": [
              "[]"
            ]
          },
          "metadata": {},
          "execution_count": 63
        }
      ]
    },
    {
      "cell_type": "markdown",
      "source": [
        "Vamos inserir o fato na base. "
      ],
      "metadata": {
        "id": "ZpBmIzg9y1Qp"
      }
    },
    {
      "cell_type": "code",
      "source": [
        "inserir_fato(\"has(escritorio, [desk, computer])\")"
      ],
      "metadata": {
        "id": "7aCtI-xTx5mH"
      },
      "execution_count": 64,
      "outputs": []
    },
    {
      "cell_type": "code",
      "source": [
        "consultar_base_com_lista(\"has(escritorio, X)\")"
      ],
      "metadata": {
        "colab": {
          "base_uri": "https://localhost:8080/"
        },
        "id": "Ad668zYdytgK",
        "outputId": "77dc42e4-a241-4b87-da2d-c2cf7520a987"
      },
      "execution_count": 65,
      "outputs": [
        {
          "output_type": "execute_result",
          "data": {
            "text/plain": [
              "[{'X': ['desk', 'computer']}]"
            ]
          },
          "metadata": {},
          "execution_count": 65
        }
      ]
    },
    {
      "cell_type": "markdown",
      "source": [
        "Dada essa introdução, vamos fazer uma atividade. \n",
        "\n",
        "A proposta do laboratório é criar um jogo aventura. Nele, você é uma criança de 3 anos de idade que só consegue dormir com sua babá. Sendo assim, a sua missão é explorar a casa em busca da Babá que está escondida em algum lugar da casa. Você deve mapear os fatos e as regras desse problema para mapear um solução em prolog. Antes do mapeamento precisamos conhecer as seguintes informações:\n",
        "\n",
        "* Os cômodos da casa e suas conexões;\n",
        "* Os objetos e a localização de cada um deles;\n",
        "* As propriedades destes objetos;\n",
        "* Onde o jogador está no início do jogo;\n",
        "\n",
        "Os cômodos e suas conexões podem ser vistos na imagem a seguir:\n",
        "\n",
        "![](https://adolfoguimaraes.github.io/artificialintelligence/class5/imgs/502_casa_exemplo.png)\n",
        "\n",
        "Com isso, podemos definir o predicado `room/1` com os fatos relacionados à imagem apresentada. Por exemplo, `room(office)`. é um fato extraídos das informações do mapa. Faça isso com os demais cômodos da casa.\n",
        "\n",
        "Um outra informação que pode ser extraída do mapa é a representação das conexões por meio das portas. Sendo assim, crie o predicado `door/2` com os fatos que indicam onde existe um porta entre os cômodos.\n",
        "\n",
        "Um outro predicado que precisa ser definido é o de `location/2` que possui dois argumentos. O primeiro é o objeto e o segundo sua localização. Crie todos os fatos correspondentes ao predicado `location/2` de acordo com a descrição a seguir:\n",
        "\n",
        "| Local\t| Objetos no local |\n",
        "|---------| ---------------- |\n",
        "| office |\tdesk, computer |\n",
        "| kitchen\t| apple, broccoli, crackers |\n",
        "| desk |\tflashlight. |\n",
        "| cellar |\twashing machine | \n",
        "| washing machine\t| nani | \n",
        "\n",
        "Além das informações do mapa e da localização dos objetos. Existem outros fatos que precisam ser mapeados.\n",
        "\n",
        "* **apple** e **crackers** são comestíveis (use o predicado `edible/1` para representar este fato)\n",
        "* **broccoli** não é tão saboroso para criança (use o predicado `tastes_yucky/1` para representar este fato).\n",
        "\n",
        "Por fim, defina o status inicial para o objeto flashlight a partir do predicado `turned_off/1` e a localização inicial da criança por meio do predicado `here/1`. No início do jogo, a criança está localizada na cozinha.\n",
        "\n",
        "Uma vez que os fatos foram especificados faz-se necessário especificar uma série de regras essenciais para o jogo. São elas:\n",
        "\n",
        "* **where_food/2**: dada uma comida, exibe onde ela está localizada.\n",
        "* **connect/2**: indica se dois cômodos estão conectados. Um cômodo está conectado se existe uma porta entre eles.\n",
        "* **list_things/2**: lista todos as coisas que estão em um determinado local. O primeiro parâmetro é o local e o segundo a lista de objetos no local.\n",
        "* **list_connection/1**: dado um local indica todas as conexões que existem neste local. O primeiro parâmetro é o local e o segundo é uma lista com todas as conexões.\n",
        "* **look/1**: dado um local, essa regra deve atualizar o fato here com a nova localização do jogador e escrever na tela o local onde ele está, os objetos que existem neste local e para quais locais ele pode ir a partir daquele local. Não esqueça que um objeto pode estar localizado em cima ou dentro de um outro objeto.\n",
        "\n",
        "Até aqui vocês definiram o cenário do nosso jogo. Em seguida, deve permitir que a criança ande pela casa. Em cada cômodo que ela chegue, deve-se executar a regra look para que ela atualize sua localização e liste tudo que está vendo. Caso a babá (nani) não esteja no cômodo atual, o bebê deve escolher um outro cômodo e visitar este novo cômodo. Caso esteja, o jogo deve ser encerrado. O bebê só pode passar para um outro cômodo se exister uma conexão entre o cômodo atual e o novo cômodo.\n",
        "\n",
        "A medida que a criança vai andando, o valor do predicado here/1 é atualizado pela regra look. Para isso vocês devem utilizar os comandos de atualização mostrados anteriormente no tutorial.\n",
        "\n",
        "### Atividade\n",
        "\n",
        "Implementar o jogo da Nani utilizando uma base de conhecimento em Prolog e a execução do programa a partir da linguagem Python. O jogo encerra quando o bebê encontrar a Nani. Enquanto ele não encontrar, o mesmo deve explorar cada cômodo informando o que tem no cômodo conforme descrição passada neste documento. \n",
        "\n",
        "Caso a criança pare em um cômado que tenha comida, ela vai comer desde de que seja uma comida que ela goste. Toda vez que a regra `look` for chamada deve também mostrar a lista de alimentos que a criança comeu.  \n",
        "\n",
        "Vale ressaltar que conforme a base descrita, a Nani está escondida na máquina de lavar :)\n",
        "\n",
        "Considere a seguinte base de conheciemento (arquivo: `base8.pl`): \n",
        "\n",
        "```prolog\n",
        ":- dynamic here/1.\n",
        "\n",
        "room(office).\n",
        "room(hall).\n",
        "room(kitchen).\n",
        "room(diningroom).\n",
        "room(cellar).\n",
        "\n",
        "location(desk, office).\n",
        "location(computer, office).\n",
        "location(apple, kitchen).\n",
        "location(broccoli, kitchen).\n",
        "location(crackers, kitchen).\n",
        "location(flashlight, desk).\n",
        "location(washingmachine, cellar).\n",
        "location(nani, washingmachine).\n",
        "\n",
        "door(office, hall).\n",
        "door(office, kitchen).\n",
        "door(hall, diningroom).\n",
        "door(diningroom, kitchen).\n",
        "door(kitchen, cellar).\n",
        "\n",
        "edible(apple).\n",
        "edible(crackers).\n",
        "tastes_yucky(broccoli).\n",
        "\n",
        "turned_off(flashlight).\n",
        "here(kitchen).\n",
        "```\n",
        "\n",
        "Crie regras que permitam fazer o que o jogo pede. Após a criação das regras, faça um programa em Python que consulte a base de conhecimento para permitir que a criança explore o ambiente. \n",
        "\n",
        "**Atenção:** Caso seu jogo receba uma base de conhecimento maior, com mais cômodos e mais situações. Ele deve funcionar do mesmo jeito. \n",
        "\n",
        "**Atenção 2:** Se um objeto está dentro ou em cima de um outro objeto que está em algum cômodo, esse primeiro objeto também está no cômodo. Por exemplo, se eu tenho uma caneta que está em cima de uma mesa dentro do escritório, a caneta também está no escritório. \n",
        "\n"
      ],
      "metadata": {
        "id": "1rrzuS_b2Twb"
      }
    },
    {
      "cell_type": "code",
      "source": [
        "prolog.consult(\"base8.pl\")"
      ],
      "metadata": {
        "id": "SnJvvv0ZyvKR"
      },
      "execution_count": 7,
      "outputs": []
    },
    {
      "cell_type": "code",
      "source": [
        "prolog.retract(\"conectado(X,Y)\")"
      ],
      "metadata": {
        "id": "M7gkRv1k-09v",
        "outputId": "2e2381e7-a998-4fec-ce69-92d668d75a2c",
        "colab": {
          "base_uri": "https://localhost:8080/",
          "height": 300
        }
      },
      "execution_count": 29,
      "outputs": [
        {
          "output_type": "error",
          "ename": "StopIteration",
          "evalue": "ignored",
          "traceback": [
            "\u001b[0;31m---------------------------------------------------------------------------\u001b[0m",
            "\u001b[0;31mStopIteration\u001b[0m                             Traceback (most recent call last)",
            "\u001b[0;32m<ipython-input-29-5fc8e8c3900e>\u001b[0m in \u001b[0;36m<module>\u001b[0;34m()\u001b[0m\n\u001b[0;32m----> 1\u001b[0;31m \u001b[0mprolog\u001b[0m\u001b[0;34m.\u001b[0m\u001b[0mretract\u001b[0m\u001b[0;34m(\u001b[0m\u001b[0;34m\"conectado(X,Y)\"\u001b[0m\u001b[0;34m)\u001b[0m\u001b[0;34m\u001b[0m\u001b[0;34m\u001b[0m\u001b[0m\n\u001b[0m",
            "\u001b[0;32m/usr/local/lib/python3.7/dist-packages/pyswip/prolog.py\u001b[0m in \u001b[0;36mretract\u001b[0;34m(cls, term, catcherrors)\u001b[0m\n\u001b[1;32m    146\u001b[0m     \u001b[0;34m@\u001b[0m\u001b[0mclassmethod\u001b[0m\u001b[0;34m\u001b[0m\u001b[0;34m\u001b[0m\u001b[0m\n\u001b[1;32m    147\u001b[0m     \u001b[0;32mdef\u001b[0m \u001b[0mretract\u001b[0m\u001b[0;34m(\u001b[0m\u001b[0mcls\u001b[0m\u001b[0;34m,\u001b[0m \u001b[0mterm\u001b[0m\u001b[0;34m,\u001b[0m \u001b[0mcatcherrors\u001b[0m\u001b[0;34m=\u001b[0m\u001b[0;32mFalse\u001b[0m\u001b[0;34m)\u001b[0m\u001b[0;34m:\u001b[0m\u001b[0;34m\u001b[0m\u001b[0;34m\u001b[0m\u001b[0m\n\u001b[0;32m--> 148\u001b[0;31m         \u001b[0mnext\u001b[0m\u001b[0;34m(\u001b[0m\u001b[0mcls\u001b[0m\u001b[0;34m.\u001b[0m\u001b[0mquery\u001b[0m\u001b[0;34m(\u001b[0m\u001b[0mterm\u001b[0m\u001b[0;34m.\u001b[0m\u001b[0mjoin\u001b[0m\u001b[0;34m(\u001b[0m\u001b[0;34m[\u001b[0m\u001b[0;34m\"retract((\"\u001b[0m\u001b[0;34m,\u001b[0m \u001b[0;34m\")).\"\u001b[0m\u001b[0;34m]\u001b[0m\u001b[0;34m)\u001b[0m\u001b[0;34m,\u001b[0m \u001b[0mcatcherrors\u001b[0m\u001b[0;34m=\u001b[0m\u001b[0mcatcherrors\u001b[0m\u001b[0;34m)\u001b[0m\u001b[0;34m)\u001b[0m\u001b[0;34m\u001b[0m\u001b[0;34m\u001b[0m\u001b[0m\n\u001b[0m\u001b[1;32m    149\u001b[0m \u001b[0;34m\u001b[0m\u001b[0m\n\u001b[1;32m    150\u001b[0m     \u001b[0;34m@\u001b[0m\u001b[0mclassmethod\u001b[0m\u001b[0;34m\u001b[0m\u001b[0;34m\u001b[0m\u001b[0m\n",
            "\u001b[0;31mStopIteration\u001b[0m: "
          ]
        }
      ]
    },
    {
      "cell_type": "code",
      "source": [
        "inserir_fato(\"conectado(X, Y) :- door(X, Y); door(Y,X)\")\n",
        "inserir_fato(\"visitado(nenhum)\")\n",
        "inserir_fato(\"quem_posso_visitar(X, Y) :- conectado(X, Y), not(visitado(Y))\")"
      ],
      "metadata": {
        "id": "grQ5Cg554uYK"
      },
      "execution_count": 9,
      "outputs": []
    },
    {
      "cell_type": "code",
      "source": [
        "consultar_base(\"conectado(kitchen, X)\")"
      ],
      "metadata": {
        "id": "4xp1ofy_45H9",
        "outputId": "5156584b-e17f-4933-c5b2-2908af156bb9",
        "colab": {
          "base_uri": "https://localhost:8080/"
        }
      },
      "execution_count": 10,
      "outputs": [
        {
          "output_type": "execute_result",
          "data": {
            "text/plain": [
              "[{'X': 'cellar'}, {'X': 'office'}, {'X': 'diningroom'}]"
            ]
          },
          "metadata": {},
          "execution_count": 10
        }
      ]
    },
    {
      "cell_type": "code",
      "source": [
        "consultar_base(\"quem_posso_visitar(kitchen, X)\")"
      ],
      "metadata": {
        "id": "oC5R9JCM8oC6",
        "outputId": "e609a19d-ad4e-4036-dad2-fce5acc99461",
        "colab": {
          "base_uri": "https://localhost:8080/"
        }
      },
      "execution_count": 11,
      "outputs": [
        {
          "output_type": "execute_result",
          "data": {
            "text/plain": [
              "[{'X': 'cellar'}, {'X': 'office'}, {'X': 'diningroom'}]"
            ]
          },
          "metadata": {},
          "execution_count": 11
        }
      ]
    },
    {
      "cell_type": "code",
      "source": [
        "inserir_fato(\"visitado(cellar)\")"
      ],
      "metadata": {
        "id": "JoBsdAIb-dS8"
      },
      "execution_count": 12,
      "outputs": []
    },
    {
      "cell_type": "code",
      "source": [
        "consultar_base(\"quem_posso_visitar(kitchen, X)\")"
      ],
      "metadata": {
        "id": "7xzbhqtq-hWh",
        "outputId": "87c3680f-472b-4f45-e222-203a604074f1",
        "colab": {
          "base_uri": "https://localhost:8080/"
        }
      },
      "execution_count": 13,
      "outputs": [
        {
          "output_type": "execute_result",
          "data": {
            "text/plain": [
              "[{'X': 'office'}, {'X': 'diningroom'}]"
            ]
          },
          "metadata": {},
          "execution_count": 13
        }
      ]
    },
    {
      "cell_type": "code",
      "source": [
        "local_atual = consultar_base('here(X)')[0]['X']\n",
        "print(\"Eu estou na %s\" % local_atual)\n",
        "conexoes = consultar_base(\"conectado(\" + local_atual + \", X)\")\n",
        "atualizar_local(conexoes[0]['X'])\n",
        "local_atual = consultar_base('here(X)')[0]['X']\n",
        "print(\"Eu estou na %s\" % local_atual)"
      ],
      "metadata": {
        "colab": {
          "base_uri": "https://localhost:8080/"
        },
        "id": "xPTr9Pj22xC7",
        "outputId": "8ef1c90e-eb67-4581-f2cf-e94240708c1a"
      },
      "execution_count": 14,
      "outputs": [
        {
          "output_type": "stream",
          "name": "stdout",
          "text": [
            "Eu estou na kitchen\n",
            "Eu estou na cellar\n"
          ]
        }
      ]
    },
    {
      "cell_type": "code",
      "source": [
        ""
      ],
      "metadata": {
        "id": "SPQ9_Zp44Mk7"
      },
      "execution_count": null,
      "outputs": []
    }
  ],
  "metadata": {
    "interpreter": {
      "hash": "08127f97df6c02a53ef8f985c7fba4c27496d4e158c6aeb69a78d3e5c8eefc39"
    },
    "kernelspec": {
      "display_name": "Python 3.9.7 ('inteligenciaartificial')",
      "language": "python",
      "name": "python3"
    },
    "language_info": {
      "name": "python",
      "version": "3.9.7"
    },
    "orig_nbformat": 4,
    "colab": {
      "name": "06_Prolog_Parte3.ipynb",
      "provenance": []
    }
  },
  "nbformat": 4,
  "nbformat_minor": 0
}