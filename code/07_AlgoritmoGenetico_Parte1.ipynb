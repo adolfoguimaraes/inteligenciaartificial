{
  "cells": [
    {
      "cell_type": "markdown",
      "metadata": {
        "id": "view-in-github",
        "colab_type": "text"
      },
      "source": [
        "<a href=\"https://colab.research.google.com/github/adolfoguimaraes/inteligenciaartificial/blob/main/code/07_AlgoritmoGenetico_Parte1.ipynb\" target=\"_parent\"><img src=\"https://colab.research.google.com/assets/colab-badge.svg\" alt=\"Open In Colab\"/></a>"
      ]
    },
    {
      "cell_type": "markdown",
      "metadata": {
        "id": "ctTAvawIyszS"
      },
      "source": [
        "# Algoritmos Genéticos\n",
        "\n",
        "Para construir nossos programas sobre Algoritmos Genéticos vamos utilizar o framework em python `deap`: https://deap.readthedocs.io/en/master/. Ele não possui apenas Algoritmos Genéticos. O Deap é um framework para computação evolutiva. No nosso estudo, vamos trabalhar apenas com as classes para construção do algoritmo genético. "
      ]
    },
    {
      "cell_type": "code",
      "execution_count": null,
      "metadata": {
        "id": "URSXrLyJyszW"
      },
      "outputs": [],
      "source": [
        "# imports necessários \n",
        "\n",
        "from deap import creator, base, tools\n",
        "import random\n",
        "import matplotlib.pyplot as plt \n",
        "import numpy "
      ]
    },
    {
      "cell_type": "markdown",
      "metadata": {
        "id": "ogBtXNg5yszZ"
      },
      "source": [
        "## O problema OneMax\n",
        "\n",
        "Como visto em sala de aula, o problema do OneMax consiste em criar um vetor de tamanho `n` que maximize o número de 1's no vetor. A solução ótima desse problema é ter um vetor de tamanho `n` com n 1's. Vamos usar esse problema apenas para aprendermos a usar a biblioteca. Os próximos notebooks vão trazer problemas mais complexos. \n",
        "\n",
        "\n",
        "**O que precisamos definir para o problema?**\n",
        "\n",
        "* O formato do indivíduo.\n",
        "* A fitness e como vamos calcula-la. \n",
        "\n",
        "Para esse exemplo é simples. Os indivíduos são formados por vetores que possuem 0's ou 1's. Já a fitness consiste na some dos elementos do vetor. Quanto maior o valor, melhor é aquele indivíduo.\n",
        "\n",
        "Na biblioteca vamos usar o módulo `creator` para definir os objetots para a Fitness e os indivíduos. "
      ]
    },
    {
      "cell_type": "code",
      "execution_count": null,
      "metadata": {
        "id": "lOla5uNxysza"
      },
      "outputs": [],
      "source": [
        "# Cria um objeto FitnessMax que baseado em base.Fitness com peso 1 para fitness\n",
        "creator.create(\"FitnessMax\", base.Fitness, weights=(1.0,))\n",
        "\n",
        "# Cria um objeto Individual do tipo list que é avaliado a partir do FitnessMax definido anteriormente\n",
        "creator.create(\"Individual\", list, fitness=creator.FitnessMax)"
      ]
    },
    {
      "cell_type": "markdown",
      "metadata": {
        "id": "TX1r9A0Cyszc"
      },
      "source": [
        "Em seguida vamos usar a classe `base.Toolbox` para definir algumas funções que serão utilizadas na execução do algoritmo genético. A Toolbox é usada como um contêiner para funções (ou operadores) e nos permite criar novos operadores criando aliases e personalizando funções existentes."
      ]
    },
    {
      "cell_type": "code",
      "execution_count": null,
      "metadata": {
        "id": "7-5xGU9nysze"
      },
      "outputs": [],
      "source": [
        "# Instanciando a Toolbox\n",
        "toolbox = base.Toolbox()"
      ]
    },
    {
      "cell_type": "code",
      "execution_count": null,
      "metadata": {
        "id": "yQc22OKQyszf"
      },
      "outputs": [],
      "source": [
        "# Definindo o conjunto de operações \n",
        "toolbox.register(\"select\", tools.selTournament, tournsize=3) # Seleção por torneio\n",
        "toolbox.register(\"mate\", tools.cxTwoPoint) # Crossover em dois pontos\n",
        "toolbox.register(\"mutate\", tools.mutFlipBit, indpb=0.02) # Mutação com probabilidade de 2%"
      ]
    },
    {
      "cell_type": "markdown",
      "metadata": {
        "id": "JGOAzXTfyszg"
      },
      "source": [
        "Vamos usar a mesma idéia para definir como a nossa Fitness vai ser calculada."
      ]
    },
    {
      "cell_type": "code",
      "execution_count": null,
      "metadata": {
        "id": "rhzEwV6nyszg"
      },
      "outputs": [],
      "source": [
        "# Função que calcula a Fitness dado um individual. Lembre que o indvíduo foi definido como uma lista\n",
        "\n",
        "def oneMaxFitness(individual):\n",
        "    return sum(individual)"
      ]
    },
    {
      "cell_type": "code",
      "execution_count": null,
      "metadata": {
        "id": "xm5SJQdLyszj"
      },
      "outputs": [],
      "source": [
        "# Agora vamos registrar essa função como o método para cálculo da Fitness\n",
        "toolbox.register(\"evaluate\", oneMaxFitness)"
      ]
    },
    {
      "cell_type": "markdown",
      "metadata": {
        "id": "8-75cWCWyszj"
      },
      "source": [
        "Com a `Toolbox` é possível definir como os indivíduos vão ser criados. "
      ]
    },
    {
      "cell_type": "code",
      "execution_count": null,
      "metadata": {
        "id": "9nYKT-lKyszk"
      },
      "outputs": [],
      "source": [
        "# Definindo o método de criaçã dos indivíduos\n",
        "\n",
        "# Criando  a função zeroOrOne que escolhe um inteiro aleatório que pode ser 1 ou 0\n",
        "toolbox.register(\"zeroOrOne\", random.randint, 0, 1) "
      ]
    },
    {
      "cell_type": "markdown",
      "metadata": {
        "id": "JD6YSxUqyszl"
      },
      "source": [
        "Vamos testar como podemos usar essa função para gerar indivíduos. O código a seguir utiliza a função `tools.initRepeat` que chama a função `zeroOrOne` 30 vezes para definir um elemento da lista. Por exemplo, a chamada: \n",
        "\n",
        "`randomList = tools.initRepeat(list, toolbox.zeroOrOne, 30)`\n",
        "\n",
        "vai gerar uma lista de tamanho 30 com 0's ou 1's que forma gerados aleatoriamente usando a função definida em `zeroOrOne` que foi `random.randint`. \n",
        "\n",
        "Vamos testar!!!"
      ]
    },
    {
      "cell_type": "code",
      "execution_count": null,
      "metadata": {
        "id": "x5L2VISWyszl",
        "outputId": "d3899ddf-37cb-4075-935e-3e348f24a99a"
      },
      "outputs": [
        {
          "name": "stdout",
          "output_type": "stream",
          "text": [
            "[0, 0, 1, 0, 0, 1, 0, 0, 1, 1, 0, 0, 1, 1, 1, 1, 1, 1, 0, 0, 1, 0, 1, 0, 0, 0, 1, 1, 1, 1]\n"
          ]
        }
      ],
      "source": [
        "randomList = tools.initRepeat(list, toolbox.zeroOrOne, 30)\n",
        "print(randomList)"
      ]
    },
    {
      "cell_type": "markdown",
      "metadata": {
        "id": "toiXI9nEyszm"
      },
      "source": [
        "Vamos usar a mesma abordagem para criar outros componentes do nosso algoritmo genético. Falta definir dois pontos importantes do nosso algoritmo: a função para criar N indivíduos e outra para criar a população com esses N indivíduos. \n",
        "\n",
        "Essa criação é feita durante a execução do algoritmo, mas vamos registrar funções que façam esse trabalho."
      ]
    },
    {
      "cell_type": "code",
      "execution_count": null,
      "metadata": {
        "id": "690fHYMDyszo"
      },
      "outputs": [],
      "source": [
        "# Cria a função individualCreator que utiliza o initRepear para criar um indivíduo de tamanho 30\n",
        "# Observe que ela faz a mesma coisa que o código anterior.\n",
        "toolbox.register(\"individualCreator\", tools.initRepeat, creator.Individual, toolbox.zeroOrOne, 30)"
      ]
    },
    {
      "cell_type": "markdown",
      "metadata": {
        "id": "_YfPMQDEyszp"
      },
      "source": [
        "Vamos testar!!! "
      ]
    },
    {
      "cell_type": "code",
      "execution_count": null,
      "metadata": {
        "id": "mDXY2nHyyszq",
        "outputId": "8808b0ec-ce0a-40d2-d02e-f6a43b84d0f4"
      },
      "outputs": [
        {
          "name": "stdout",
          "output_type": "stream",
          "text": [
            "[1, 0, 0, 0, 0, 1, 1, 0, 0, 1, 0, 0, 1, 0, 1, 0, 1, 0, 0, 1, 0, 1, 0, 0, 0, 1, 0, 0, 1, 0]\n"
          ]
        }
      ],
      "source": [
        "print(toolbox.individualCreator())"
      ]
    },
    {
      "cell_type": "markdown",
      "metadata": {
        "id": "IvdeWGeHyszr"
      },
      "source": [
        "Agora a função que cria a população de indivíduos definina em `individualCreator`."
      ]
    },
    {
      "cell_type": "code",
      "execution_count": null,
      "metadata": {
        "id": "1ynwKdoHyszs"
      },
      "outputs": [],
      "source": [
        "# Cria uma população de tamanho N com os indivíduos. O valor de N vai ser passado como parâmetro.\n",
        "toolbox.register(\"populationCreator\", tools.initRepeat, list, toolbox.individualCreator)"
      ]
    },
    {
      "cell_type": "markdown",
      "metadata": {
        "id": "J1e0bpd_yszu"
      },
      "source": [
        "Vamos testar!!!"
      ]
    },
    {
      "cell_type": "code",
      "execution_count": null,
      "metadata": {
        "id": "G5jF0U9Vyszu",
        "outputId": "2a46184e-290d-43b1-8120-65e38c104c8d"
      },
      "outputs": [
        {
          "name": "stdout",
          "output_type": "stream",
          "text": [
            "[[1, 1, 1, 0, 1, 0, 0, 0, 1, 0, 1, 1, 0, 1, 0, 1, 0, 1, 1, 0, 1, 1, 0, 1, 0, 1, 0, 0, 1, 0], [1, 1, 0, 0, 0, 1, 0, 1, 0, 1, 1, 0, 1, 1, 0, 0, 1, 0, 0, 1, 1, 1, 0, 1, 1, 0, 0, 1, 0, 0], [1, 0, 0, 1, 1, 0, 1, 0, 1, 0, 0, 0, 1, 0, 1, 0, 0, 1, 1, 0, 0, 1, 1, 1, 1, 1, 1, 0, 0, 1]]\n"
          ]
        }
      ],
      "source": [
        "print(toolbox.populationCreator(3))"
      ]
    },
    {
      "cell_type": "markdown",
      "metadata": {
        "id": "0BE3qqpOyszv"
      },
      "source": [
        "Veja que foi criado uma lista com 3 listas de 0's e 1's criadas de acordo com a definição de `invidualCreator`."
      ]
    },
    {
      "cell_type": "markdown",
      "metadata": {
        "id": "lBwSxWyEyszw"
      },
      "source": [
        "Por enquanto esses são os principais conceitos da biblioteca para que a gente possa criar nosso algoritmo genético para o problema do `OneMax`. Perceba que essa forma de criar funções, indivíduos, população permite definir funções que seja apropriadas ao problema que estamos trabalhando. Lembre que a criação de indivíduos e a definição da fitness são diretamente relacionadas ao problema que estamos trabalhando. \n",
        "\n",
        "Vamos para a próxima seção trabalhar com o problea do OneMax completo. "
      ]
    },
    {
      "cell_type": "markdown",
      "metadata": {
        "id": "u_YcuG4byszw"
      },
      "source": [
        "## Construindo o Algoritmo Genético\n",
        "\n",
        "O primeiro passo para a criação do nosso algoritmo é definir alguns parâmetros, como por exemplo o tamanho dos indivíduos, o tamanho da população dentre outros. O conjunto de variáveis a seguir define esses parâmetros. "
      ]
    },
    {
      "cell_type": "code",
      "execution_count": null,
      "metadata": {
        "id": "3JW3_xRryszx"
      },
      "outputs": [],
      "source": [
        "\n",
        "ONE_MAX_LENGTH = 100 # Tamanho do indivíduo\n",
        "POPULATION_SIZE = 200 # Tamanho da População \n",
        "\n",
        "P_CROSSOVER = 0.9 # Probabilidade de Crossover \n",
        "P_MUTATION = 0.1 # Probabilidade de Mutação\n",
        "\n",
        "MAX_GENERATIONS = 50 # Critério de parada (50 gerações)\n",
        "\n",
        "# Seed do Random\n",
        "RANDOM_SEED = 42 \n",
        "random.seed(RANDOM_SEED)\n",
        "\n"
      ]
    },
    {
      "cell_type": "code",
      "execution_count": null,
      "metadata": {
        "id": "G46LPF-Byszx"
      },
      "outputs": [],
      "source": [
        "# Definindo os objetos da fitness e dos indivíduos\n",
        "creator.create(\"FitnessMinMax\", base.Fitness, weights=(1.0,))\n",
        "creator.create(\"IndividualMinMax\", list, fitness=creator.FitnessMinMax)"
      ]
    },
    {
      "cell_type": "code",
      "execution_count": null,
      "metadata": {
        "id": "MOm98J4Syszy"
      },
      "outputs": [],
      "source": [
        "# Definindo as Operações \n",
        "toolboxMinMax = base.Toolbox()\n",
        "toolboxMinMax.register(\"zeroOrOne\", random.randint, 0, 1)\n",
        "toolboxMinMax.register(\"select\", tools.selTournament, tournsize=3)\n",
        "toolboxMinMax.register(\"mate\", tools.cxOnePoint)\n",
        "toolboxMinMax.register(\"mutate\", tools.mutFlipBit, indpb=1.0/ONE_MAX_LENGTH)"
      ]
    },
    {
      "cell_type": "code",
      "execution_count": null,
      "metadata": {
        "id": "25TBO-4Xyszy"
      },
      "outputs": [],
      "source": [
        "def oneMinMaxFitness(individual):\n",
        "  return sum(individual)\n"
      ]
    },
    {
      "cell_type": "code",
      "execution_count": null,
      "metadata": {
        "id": "rD5vwR3kyszz"
      },
      "outputs": [],
      "source": [
        "# Definindo o método de avaliação\n",
        "toolboxMinMax.register(\"evaluate\", oneMinMaxFitness)"
      ]
    },
    {
      "cell_type": "code",
      "execution_count": null,
      "metadata": {
        "id": "7BE9TbA8yszz"
      },
      "outputs": [],
      "source": [
        "# Definindo os métodos de criação de indivíduos e população\n",
        "toolboxMinMax.register(\"individualCreator\", \n",
        "    tools.initRepeat, \n",
        "    creator.IndividualMinMax, \n",
        "    toolboxMinMax.zeroOrOne, \n",
        "    ONE_MAX_LENGTH)"
      ]
    },
    {
      "cell_type": "code",
      "execution_count": null,
      "metadata": {
        "id": "JaMlYTnOysz0"
      },
      "outputs": [],
      "source": [
        "toolboxMinMax.register(\"populationCreator\",\n",
        "    tools.initRepeat,\n",
        "    list,\n",
        "    toolbox.individualCreator)"
      ]
    },
    {
      "cell_type": "markdown",
      "metadata": {
        "id": "VBsHY_5Jysz0"
      },
      "source": [
        "## Algoritmo Genético\n",
        "\n",
        "Até aqui apenas inicializamos os principais componentes do algoritmo genético. A seguir, vamos construir o loop de execução do algoritmo utilizando as funções definidas anteriormente. "
      ]
    },
    {
      "cell_type": "markdown",
      "metadata": {
        "id": "vaXqGpDfysz1"
      },
      "source": [
        "O primeiro passo é criar a população inicial e avalia-la. "
      ]
    },
    {
      "cell_type": "code",
      "execution_count": null,
      "metadata": {
        "id": "8MagnSVxysz1"
      },
      "outputs": [],
      "source": [
        "# Cria a população inicial\n",
        "population = toolboxMinMax.populationCreator(n=POPULATION_SIZE)\n",
        "\n",
        "# Calcula a fitness para cada indivíduo\n",
        "fitnessValues = list(map(toolbox.evaluate, population))"
      ]
    },
    {
      "cell_type": "code",
      "execution_count": null,
      "metadata": {
        "id": "WMqbr-fdysz2"
      },
      "outputs": [],
      "source": [
        "# Atribui a cada indivíduo o valor calculado\n",
        "for individual, fitnessValue in zip(population, fitnessValues):\n",
        "  individual.fitness.values = (fitnessValue,)"
      ]
    },
    {
      "cell_type": "markdown",
      "metadata": {
        "id": "QCyzMUjCysz2"
      },
      "source": [
        "Uma vez que a população inicial foi criada e avaliada, vamos executar o loop do algoritmo genético. "
      ]
    },
    {
      "cell_type": "code",
      "execution_count": null,
      "metadata": {
        "id": "4v0UfVPmysz2"
      },
      "outputs": [],
      "source": [
        "\n",
        "# Inicialização das variáveis\n",
        "maxFitnessValues = []\n",
        "meanFitnessValues = []\n",
        "generationCounter = 0 \n",
        "\n",
        "\n",
        "while max(fitnessValues) < ONE_MAX_LENGTH and generationCounter < MAX_GENERATIONS:\n",
        "  \n",
        "  generationCounter += 1\n",
        "\n",
        "  # Seleciona os indivíduos de acordo com o critério seleção\n",
        "  offspring = toolbox.select(population, len(population))\n",
        "  offspring = list(map(toolbox.clone, offspring))\n",
        "\n",
        "  # Aplica o crossover\n",
        "  for child1, child2 in zip(offspring[::2], offspring[1::2]):\n",
        "    if random.random() < P_CROSSOVER:\n",
        "      toolbox.mate(child1, child2)\n",
        "      del child1.fitness.values\n",
        "      del child2.fitness.values\n",
        "\n",
        "  # Aplica a mutação\n",
        "  for mutant in offspring:\n",
        "    if random.random() < P_MUTATION:\n",
        "      toolbox.mutate(mutant)\n",
        "      del mutant.fitness.values\n",
        "  \n",
        "  # Recalcula a fitness dos novos indivíduos criados\n",
        "  freshIndividuals = [ind for ind in offspring if not ind.fitness.valid]\n",
        "  freshFitnessValues = list(map(toolbox.evaluate, freshIndividuals))\n",
        "  for individual, fitnessValue in zip(freshIndividuals, freshFitnessValues):\n",
        "    individual.fitness.values = (fitnessValue, )\n",
        "\n",
        "\n",
        "  # Substitui a antiga população pela nova.\n",
        "  population[:] = offspring\n",
        "\n",
        "  # Atualiza o vetor de fitness\n",
        "  fitnessValues = [ind.fitness.values[0] for ind in population]\n",
        "\n",
        "  # Calcula o Max e a Média para adicionar ao vertor\n",
        "  maxFitness = max(fitnessValues)\n",
        "  meanFitness = sum(fitnessValues) / len(population)\n",
        "\n",
        "  maxFitnessValues.append(maxFitness)\n",
        "  meanFitnessValues.append(meanFitness)\n",
        "\n",
        "  print(\"- Generation {}: Max Fitness = {}, Avg Fitness = {}\"\n",
        "      .format(generationCounter, maxFitness, meanFitness))"
      ]
    },
    {
      "cell_type": "markdown",
      "metadata": {
        "id": "nomGqdrnysz3"
      },
      "source": [
        "Vamos plotar um gráfico para analisar como se comportou a evolução do nosso algoritmo."
      ]
    },
    {
      "cell_type": "code",
      "execution_count": null,
      "metadata": {
        "id": "YnN02Kzjysz3",
        "outputId": "22000394-151b-4e42-8c00-1026481896f8"
      },
      "outputs": [
        {
          "data": {
            "image/png": "[encoded data removed]",
            "text/plain": [
              "<Figure size 432x288 with 1 Axes>"
            ]
          },
          "metadata": {
            "needs_background": "light"
          },
          "output_type": "display_data"
        }
      ],
      "source": [
        "plt.plot(maxFitnessValues, color='red')\n",
        "plt.plot(meanFitnessValues, color='green')\n",
        "plt.xlabel('Generation')\n",
        "plt.ylabel('Max / Average Fitness')\n",
        "plt.title('Max and Average fitness over Generations')\n",
        "plt.show()\n"
      ]
    }
  ],
  "metadata": {
    "interpreter": {
      "hash": "08127f97df6c02a53ef8f985c7fba4c27496d4e158c6aeb69a78d3e5c8eefc39"
    },
    "kernelspec": {
      "display_name": "Python 3.9.7 ('inteligenciaartificial')",
      "language": "python",
      "name": "python3"
    },
    "language_info": {
      "codemirror_mode": {
        "name": "ipython",
        "version": 3
      },
      "file_extension": ".py",
      "mimetype": "text/x-python",
      "name": "python",
      "nbconvert_exporter": "python",
      "pygments_lexer": "ipython3",
      "version": "3.9.7"
    },
    "orig_nbformat": 4,
    "colab": {
      "name": "07_AlgoritmoGenetico_Parte1.ipynb",
      "provenance": [],
      "include_colab_link": true
    }
  },
  "nbformat": 4,
  "nbformat_minor": 0
}