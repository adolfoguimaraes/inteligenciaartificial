{
  "cells": [
    {
      "cell_type": "markdown",
      "metadata": {
        "colab_type": "text",
        "id": "view-in-github"
      },
      "source": [
        "<a href=\"https://colab.research.google.com/github/adolfoguimaraes/inteligenciaartificial/blob/main/code/08_AlgoritmoGenetico_Parte2.ipynb\" target=\"_parent\"><img src=\"https://colab.research.google.com/assets/colab-badge.svg\" alt=\"Open In Colab\"/></a>"
      ]
    },
    {
      "cell_type": "code",
      "execution_count": null,
      "metadata": {},
      "outputs": [],
      "source": [
        "!pip install deap "
      ]
    },
    {
      "cell_type": "code",
      "execution_count": 77,
      "metadata": {
        "id": "ERydGKmivDEB"
      },
      "outputs": [],
      "source": [
        "import array\n",
        "import random\n",
        "\n",
        "import numpy\n",
        "import seaborn as sns\n",
        "\n",
        "from deap import algorithms\n",
        "from deap import base\n",
        "from deap import creator\n",
        "from deap import tools\n",
        "\n",
        "import matplotlib.pyplot as plt "
      ]
    },
    {
      "cell_type": "code",
      "execution_count": 90,
      "metadata": {
        "id": "eMIDVWBLvDEG"
      },
      "outputs": [],
      "source": [
        "ONE_MAX_LENGTH = 100\n",
        "TOURNAMENT_SIZE = 3\n",
        "\n",
        "del creator.FitnessMax\n",
        "creator.create(\"FitnessMax\", base.Fitness, weights=(1.0,))\n",
        "\n",
        "del creator.Individual\n",
        "creator.create(\"Individual\", array.array, typecode='b', fitness=creator.FitnessMax)\n",
        "\n",
        "toolbox = base.Toolbox()\n",
        "\n",
        "# Attribute generator\n",
        "toolbox.register(\"attr_bool\", random.randint, 0, 1)\n",
        "\n",
        "# Structure initializers\n",
        "toolbox.register(\"individual\", tools.initRepeat, creator.Individual, toolbox.attr_bool, 100)\n",
        "toolbox.register(\"population\", tools.initRepeat, list, toolbox.individual)\n",
        "\n",
        "def evalOneMax(individual):\n",
        "    return sum(individual),\n",
        "\n",
        "toolbox.register(\"evaluate\", evalOneMax)\n",
        "toolbox.register(\"mate\", tools.cxTwoPoint)\n",
        "toolbox.register(\"mutate\", tools.mutFlipBit, indpb=1/ONE_MAX_LENGTH)\n",
        "toolbox.register(\"select\", tools.selTournament, tournsize=TOURNAMENT_SIZE)\n",
        "\n"
      ]
    },
    {
      "cell_type": "code",
      "execution_count": 91,
      "metadata": {
        "id": "d7MM2f-xvDEH"
      },
      "outputs": [],
      "source": [
        "# extract statistics:\n",
        "def showGraph(log_):\n",
        "\n",
        "    maxFitnessValues, meanFitnessValues = log_.select(\"max\", \"avg\")\n",
        "\n",
        "    # plot statistics:\n",
        "    sns.set_style(\"whitegrid\")\n",
        "    plt.plot(maxFitnessValues, color='red')\n",
        "    plt.plot(meanFitnessValues, color='green')\n",
        "    plt.xlabel('Generation')\n",
        "    plt.ylabel('Max / Average Fitness')\n",
        "    plt.title('Max and Average fitness over Generations')\n",
        "    plt.show()"
      ]
    },
    {
      "cell_type": "code",
      "execution_count": 93,
      "metadata": {
        "id": "Q4TfV8KXvDEJ",
        "outputId": "45f7d65f-d886-4a26-e8e2-c043b29df8b1"
      },
      "outputs": [
        {
          "name": "stdout",
          "output_type": "stream",
          "text": [
            "gen\tnevals\tavg   \tstd    \tmin\tmax\n",
            "0  \t200   \t49.695\t4.82618\t36 \t61 \n",
            "1  \t184   \t53.61 \t3.9734 \t40 \t64 \n",
            "2  \t178   \t56.675\t3.6482 \t45 \t67 \n",
            "3  \t176   \t59.985\t3.29921\t52 \t68 \n",
            "4  \t182   \t62.365\t3.3184 \t53 \t70 \n",
            "5  \t174   \t65.35 \t3.1301 \t55 \t74 \n",
            "6  \t182   \t68.06 \t2.87687\t59 \t76 \n",
            "7  \t160   \t70.305\t2.56943\t64 \t78 \n",
            "8  \t178   \t72.57 \t2.59135\t67 \t80 \n",
            "9  \t184   \t74.765\t2.37693\t68 \t83 \n",
            "10 \t176   \t76.635\t2.10755\t72 \t83 \n",
            "11 \t186   \t78.52 \t2.22252\t73 \t86 \n",
            "12 \t190   \t80.23 \t2.56848\t74 \t87 \n",
            "13 \t174   \t82.225\t2.44221\t77 \t89 \n",
            "14 \t180   \t84.175\t2.31611\t78 \t91 \n",
            "15 \t192   \t85.995\t2.05304\t80 \t91 \n",
            "16 \t176   \t87.845\t1.62511\t84 \t92 \n",
            "17 \t174   \t89.06 \t1.41647\t85 \t95 \n",
            "18 \t180   \t90.28 \t1.32725\t85 \t95 \n",
            "19 \t174   \t91.385\t1.47539\t87 \t95 \n",
            "20 \t186   \t92.61 \t1.49596\t88 \t96 \n",
            "21 \t190   \t93.83 \t1.33083\t90 \t96 \n",
            "22 \t172   \t94.775\t1.09744\t91 \t97 \n",
            "23 \t180   \t95.63 \t0.795676\t93 \t97 \n",
            "24 \t182   \t96.28 \t0.601332\t94 \t97 \n",
            "25 \t162   \t96.74 \t0.449889\t95 \t97 \n",
            "26 \t180   \t96.995\t0.0705337\t96 \t97 \n",
            "27 \t180   \t97    \t0        \t97 \t97 \n",
            "28 \t178   \t97    \t0        \t97 \t97 \n",
            "29 \t182   \t97    \t0        \t97 \t97 \n",
            "30 \t176   \t97    \t0        \t97 \t97 \n",
            "31 \t176   \t97    \t0        \t97 \t97 \n",
            "32 \t176   \t97    \t0        \t97 \t97 \n",
            "33 \t182   \t97    \t0        \t97 \t97 \n",
            "34 \t180   \t97    \t0        \t97 \t97 \n",
            "35 \t172   \t97    \t0        \t97 \t97 \n",
            "36 \t182   \t97    \t0        \t97 \t97 \n",
            "37 \t176   \t97    \t0        \t97 \t97 \n",
            "38 \t180   \t97    \t0        \t97 \t97 \n",
            "39 \t184   \t97    \t0        \t97 \t97 \n",
            "40 \t182   \t97    \t0        \t97 \t97 \n",
            "41 \t200   \t97    \t0        \t97 \t97 \n",
            "42 \t176   \t97    \t0        \t97 \t97 \n",
            "43 \t178   \t97    \t0        \t97 \t97 \n",
            "44 \t180   \t97    \t0        \t97 \t97 \n",
            "45 \t186   \t97    \t0        \t97 \t97 \n",
            "46 \t180   \t97    \t0        \t97 \t97 \n",
            "47 \t184   \t97    \t0        \t97 \t97 \n",
            "48 \t176   \t97    \t0        \t97 \t97 \n",
            "49 \t180   \t97    \t0        \t97 \t97 \n",
            "50 \t184   \t97    \t0        \t97 \t97 \n"
          ]
        },
        {
          "data": {
            "image/png": "[encoded data removed]",
            "text/plain": [
              "<Figure size 432x288 with 1 Axes>"
            ]
          },
          "metadata": {},
          "output_type": "display_data"
        }
      ],
      "source": [
        "random.seed(42)\n",
        "\n",
        "POPULATION_SIZE = 200\n",
        "P_CROSSOVER = 0.9  # probability for crossover\n",
        "P_MUTATION = 0.0001  # probability for mutating an individual\n",
        "MAX_GENERATIONS = 50\n",
        "HALL_OF_FAME_SIZE = 10\n",
        "\n",
        "pop = toolbox.population(n=POPULATION_SIZE)\n",
        "hof = tools.HallOfFame(10)\n",
        "stats = tools.Statistics(lambda ind: ind.fitness.values)\n",
        "stats.register(\"avg\", numpy.mean)\n",
        "stats.register(\"std\", numpy.std)\n",
        "stats.register(\"min\", numpy.min)\n",
        "stats.register(\"max\", numpy.max)\n",
        "\n",
        "pop, log = algorithms.eaSimple(pop, toolbox, cxpb=P_CROSSOVER, mutpb=P_MUTATION, ngen=MAX_GENERATIONS, \n",
        "                                stats=stats, halloffame=hof, verbose=True)\n",
        "\n",
        "#print(hof.items[0].fitness.values[0])\n",
        "\n",
        "showGraph(log)\n"
      ]
    },
    {
      "cell_type": "code",
      "execution_count": null,
      "metadata": {
        "id": "w0zG6jyYvDEK"
      },
      "outputs": [],
      "source": []
    }
  ],
  "metadata": {
    "colab": {
      "include_colab_link": true,
      "name": "08_AlgoritmoGenetico_Parte2.ipynb",
      "provenance": []
    },
    "interpreter": {
      "hash": "08127f97df6c02a53ef8f985c7fba4c27496d4e158c6aeb69a78d3e5c8eefc39"
    },
    "kernelspec": {
      "display_name": "Python 3.9.7 ('inteligenciaartificial')",
      "language": "python",
      "name": "python3"
    },
    "language_info": {
      "codemirror_mode": {
        "name": "ipython",
        "version": 3
      },
      "file_extension": ".py",
      "mimetype": "text/x-python",
      "name": "python",
      "nbconvert_exporter": "python",
      "pygments_lexer": "ipython3",
      "version": "3.9.7"
    },
    "orig_nbformat": 4
  },
  "nbformat": 4,
  "nbformat_minor": 0
}
