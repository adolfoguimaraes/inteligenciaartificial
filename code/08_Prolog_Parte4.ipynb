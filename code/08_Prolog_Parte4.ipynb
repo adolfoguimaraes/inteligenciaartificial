{
  "nbformat": 4,
  "nbformat_minor": 0,
  "metadata": {
    "colab": {
      "provenance": [],
      "authorship_tag": "ABX9TyOH36QZ1c2qI+09ygRDnz0i",
      "include_colab_link": true
    },
    "kernelspec": {
      "name": "python3",
      "display_name": "Python 3"
    },
    "language_info": {
      "name": "python"
    }
  },
  "cells": [
    {
      "cell_type": "markdown",
      "metadata": {
        "id": "view-in-github",
        "colab_type": "text"
      },
      "source": [
        "<a href=\"https://colab.research.google.com/github/adolfoguimaraes/inteligenciaartificial/blob/main/code/08_Prolog_Parte4.ipynb\" target=\"_parent\"><img src=\"https://colab.research.google.com/assets/colab-badge.svg\" alt=\"Open In Colab\"/></a>"
      ]
    },
    {
      "cell_type": "markdown",
      "source": [
        "# Atividade Prolog \n",
        "\n",
        "Esse notebook descreve uma atividade de Prolog utilizando uma base de conhecimento de diagnóstico. Vale ressaltar que essa base é puramente didática e não representa, em sua totalidade, a complexidade que é de identificar sintomas para uma determinada doenças. A proposta é que vocês entendam o processo de criar uma base de conhecimento. \n",
        "\n",
        "A base inicial que vamos utilizar está descrita no arquivo `base_diagnostico.pl` que pode ser encontrado no repositório do GitHub ou na pasta disponível no drive: https://drive.google.com/drive/folders/19euiVFFa32TmqR_WAE8Xer-8G273efXN. "
      ],
      "metadata": {
        "id": "VLmQItM33hJk"
      }
    },
    {
      "cell_type": "markdown",
      "source": [
        "## Imports e métodos de Apoio"
      ],
      "metadata": {
        "id": "Ov3hC1m338Xh"
      }
    },
    {
      "cell_type": "code",
      "execution_count": 2,
      "metadata": {
        "colab": {
          "base_uri": "https://localhost:8080/"
        },
        "id": "k2hL12V2veRW",
        "outputId": "487b403a-3a8d-43bd-d9f4-4eea1187821b"
      },
      "outputs": [
        {
          "output_type": "stream",
          "name": "stdout",
          "text": [
            "Reading package lists... Done\n",
            "Building dependency tree       \n",
            "Reading state information... Done\n",
            "swi-prolog is already the newest version (7.6.4+dfsg-2ubuntu2).\n",
            "0 upgraded, 0 newly installed, 0 to remove and 23 not upgraded.\n",
            "Looking in indexes: https://pypi.org/simple, https://us-python.pkg.dev/colab-wheels/public/simple/\n",
            "Requirement already satisfied: pyswip in /usr/local/lib/python3.9/dist-packages (0.2.10)\n"
          ]
        }
      ],
      "source": [
        "# Rodar essa célula apenas se tiver rodando no colab.\n",
        "\n",
        "!sudo apt install swi-prolog\n",
        "!pip install pyswip"
      ]
    },
    {
      "cell_type": "code",
      "source": [
        "# Para uso no colab\n",
        "dataset_path = \"\" "
      ],
      "metadata": {
        "id": "P2yec0ur4v_x"
      },
      "execution_count": 3,
      "outputs": []
    },
    {
      "cell_type": "code",
      "source": [
        "# Para uso no github\n",
        "dataset_path = \"../datasets/kb_prolog/\""
      ],
      "metadata": {
        "id": "o3FD2toP4wn3"
      },
      "execution_count": 4,
      "outputs": []
    },
    {
      "cell_type": "code",
      "source": [
        "# Carregar a biblioteca \n",
        "from pyswip import Prolog\n",
        "from pyswip import Atom\n",
        "\n",
        "# Instanciar o objeto\n",
        "prolog = Prolog()"
      ],
      "metadata": {
        "id": "0ddnziYYsS7R"
      },
      "execution_count": 4,
      "outputs": []
    },
    {
      "cell_type": "code",
      "source": [
        "def atoms_to_strings(answer):\n",
        "    if isinstance(answer, dict):\n",
        "        result = {}\n",
        "        for k in answer.keys():\n",
        "            result[k] = atoms_to_strings(answer[k])\n",
        "    elif isinstance(answer, list):\n",
        "        result = [atoms_to_strings(val) for val in answer]\n",
        "    elif isinstance(answer, Atom):\n",
        "        result = answer.value\n",
        "    elif isinstance(answer, int) or isinstance(answer, str) or isinstance(answer, float):\n",
        "        result = answer\n",
        "    else:\n",
        "        print(\"Unsupported result from Prolog: \" + str(type(answer)) + str(answer))\n",
        "    return result"
      ],
      "metadata": {
        "id": "aPODaDU2zC-S"
      },
      "execution_count": 73,
      "outputs": []
    },
    {
      "cell_type": "code",
      "source": [
        "## Método para consultar a base\n",
        "def consultar_base(pergunta: str):\n",
        "\n",
        "  \"\"\"\n",
        "    Esse método recebe uma pergunta com parâmetro e retorna True se assertiva \n",
        "    for verdadeira e False, caso contrário. Caso a pergunta seja com variáveis, \n",
        "    o método vai retornar uma lista de dicionários, onde a chave de cada \n",
        "    dicionário é uma variável passada. \n",
        "\n",
        "    :param pergunta: str\n",
        "    \n",
        "    :return : bool, list\n",
        "  \"\"\"\n",
        "\n",
        "  result_ = prolog.query(pergunta)\n",
        "  \n",
        "  result_list = list(result_)\n",
        "\n",
        "  if len(result_list) == 0: return False\n",
        "  else:\n",
        "    if len(result_list[0].keys()) == 0: return True\n",
        "    else:\n",
        "      return atoms_to_strings(result_list)\n"
      ],
      "metadata": {
        "id": "98_9JDcWsX0H"
      },
      "execution_count": 37,
      "outputs": []
    },
    {
      "cell_type": "code",
      "source": [
        "def consultar_base_com_lista(pergunta: str):\n",
        "  result_ = prolog.query(pergunta)\n",
        "\n",
        "  final_result = []\n",
        "  for element in result_:\n",
        "    list_ = atoms_to_strings(element)\n",
        "    final_result.append(list_)\n",
        "\n",
        "  return final_result"
      ],
      "metadata": {
        "id": "ttu4BHv0zhOs"
      },
      "execution_count": 32,
      "outputs": []
    },
    {
      "cell_type": "markdown",
      "source": [
        "## Base de Conhecimento\n",
        "\n",
        "A base de conhecimento do arquivo `base_diagnostico.pl` possui alguns fatos sobre sintomas e doenças e uma regra `qual_doenca` que dada uma lista de sintomas, retonar as doenças que possuem os sintomas passados como parâmetro.\n",
        "\n",
        "```prolog\n",
        ":- dynamic doenca/2.\n",
        "\n",
        "% Sintomas\n",
        "sintoma(dor_de_cabeca).\n",
        "sintoma(febre).\n",
        "sintoma(tosse).\n",
        "sintoma(dor_de_garganta).\n",
        "sintoma(dor_no_corpo).\n",
        "sintoma(fadiga).\n",
        "sintoma(nausea).\n",
        "sintoma(diarreia).\n",
        "sintoma(vomito).\n",
        "sintoma(dificuldade_respiratoria).\n",
        "\n",
        "doenca(gripe, [febre, tosse, dor_de_garganta, dor_no_corpo, fadiga]).\n",
        "doenca(covid19, [febre, tosse, dor_no_corpo, dificuldade_respiratoria]).\n",
        "doenca(intoxicacao_alimentar, [nausea, diarreia, vomito]).\n",
        "doenca(dor_de_cabeca, [dor_de_cabeca]).\n",
        "\n",
        "qual_doenca(Sintomas, D) :- doenca(D, ListaSintomas), subset(Sintomas, ListaSintomas).\n",
        "```\n",
        "\n",
        "O código a seguir carrega essa base. "
      ],
      "metadata": {
        "id": "pd0Pbg_a3_j-"
      }
    },
    {
      "cell_type": "code",
      "source": [
        "prolog.consult(dataset_path + \"base_diagnostico.pl\")"
      ],
      "metadata": {
        "id": "FcZg2EaRwfkr"
      },
      "execution_count": 8,
      "outputs": []
    },
    {
      "cell_type": "markdown",
      "source": [
        "## Realizando consultas"
      ],
      "metadata": {
        "id": "vuz15VEz5Dc-"
      }
    },
    {
      "cell_type": "markdown",
      "source": [
        "Vamos testar nossa base com a regra `qual_doenca`."
      ],
      "metadata": {
        "id": "Hzmde0pc5aQm"
      }
    },
    {
      "cell_type": "code",
      "source": [
        "consultar_base(\"qual_doenca([febre, tosse],X)\")"
      ],
      "metadata": {
        "colab": {
          "base_uri": "https://localhost:8080/"
        },
        "id": "TanoZe1XxFO_",
        "outputId": "ae79930f-d1a0-4523-90b2-841fb3c94768"
      },
      "execution_count": 44,
      "outputs": [
        {
          "output_type": "execute_result",
          "data": {
            "text/plain": [
              "[{'X': 'gripe'}, {'X': 'covid19'}]"
            ]
          },
          "metadata": {},
          "execution_count": 44
        }
      ]
    },
    {
      "cell_type": "markdown",
      "source": [
        "Se a gente fizer uma consulta de uma lista de sintomas que não casa com a base dos dados, a máquina de inferência retornar `False`. Vamos testar no código a seguir."
      ],
      "metadata": {
        "id": "MS_8WBf_5Uiq"
      }
    },
    {
      "cell_type": "code",
      "source": [
        "consultar_base(\"qual_doenca([tosse, dor_nas_costas],X)\")"
      ],
      "metadata": {
        "colab": {
          "base_uri": "https://localhost:8080/"
        },
        "id": "i9L56S7c5ggY",
        "outputId": "4c48a9ef-3625-456e-fadc-db74217b3db2"
      },
      "execution_count": 45,
      "outputs": [
        {
          "output_type": "execute_result",
          "data": {
            "text/plain": [
              "False"
            ]
          },
          "metadata": {},
          "execution_count": 45
        }
      ]
    },
    {
      "cell_type": "markdown",
      "source": [
        "Nesse caso, podemos atualizar a base de dados para quando a doença não existir. O código a seguir, criar uma interface utilizando Python para que o usuário digite a lista de sintomas. Caso, a lista retorne vazia, ele cria a regra que deve ser adicionada na base. Isso pode ser feito utilizando `prolog.assertz(fato)`. No código a seguir, vamos adicionar a regra diretamente no arquivo. Como estamos lendo a base toda hora, não precisaríamos do `assertz` já que ele leria a nova base no arquivo. Vamos manter o `assertz` apenas para que tenha um exemplo de como ele é utilizado."
      ],
      "metadata": {
        "id": "pF_zV4UB5Q4O"
      }
    },
    {
      "cell_type": "code",
      "source": [
        "# Métodos de Suporte\n",
        "\n",
        "def string_de_busca(str_):\n",
        "  return \"qual_doenca([\" + str_ + \"], X)\"\n",
        "\n",
        "def cadastrar_doenca(doenca, sintomas):\n",
        "  fato = \"doenca(\" + doenca + \", [\" + sintomas + \"])\"\n",
        "  prolog.assertz(fato)\n",
        "\n",
        "  with open('base_diagnostico.pl', 'a') as f:\n",
        "    f.write('\\n')\n",
        "    f.write(fato + '.\\n')"
      ],
      "metadata": {
        "id": "9xkzljdx6166"
      },
      "execution_count": 47,
      "outputs": []
    },
    {
      "cell_type": "code",
      "source": [
        "\n",
        "lista_sintomas = input(\"Digite a lista de sintomas (separados por vírgula): \")\n",
        "\n",
        "prolog.consult(dataset_path + \"base_diagnostico.pl\")\n",
        "\n",
        "query_busca = string_de_busca(lista_sintomas)\n",
        "return_consulta = consultar_base(query_busca)\n",
        "\n",
        "\n",
        "if return_consulta:\n",
        "  return_list = [d['X'] for d in return_consulta]\n",
        "  print(\"Possíveis doenças: %s\" % ', '.join(return_list))\n",
        "else:\n",
        "  print(\"Os sintomas não casam com nenhuma doença da base de conhecimento.\")\n",
        "  print(\"Deseja inserir uma nova doença à base? (S = Sim ou N = Não)?\")\n",
        "  resp = input()\n",
        "  if resp == 'S':\n",
        "    print(\"Inserir nova doença.\")\n",
        "    doenca = input(\"Insira a doença: \")\n",
        "    cadastrar_doenca(doenca, lista_sintomas)\n",
        "  else: \n",
        "    print(\"Fim da consulta.\")\n"
      ],
      "metadata": {
        "colab": {
          "base_uri": "https://localhost:8080/"
        },
        "id": "YB-Yo_bq8QJN",
        "outputId": "56944658-0164-4769-fba2-bf20ea931efe"
      },
      "execution_count": 54,
      "outputs": [
        {
          "output_type": "stream",
          "name": "stdout",
          "text": [
            "Digite a lista de sintomas (separados por vírgula): tosse,febre\n",
            "Possíveis doenças: gripe, covid19\n"
          ]
        }
      ]
    },
    {
      "cell_type": "markdown",
      "source": [
        "## Criando mais regras \n",
        "\n",
        "Como atividade de sala, vamos criar mais algumas regras: \n",
        "\n",
        "1 - Crie uma regra que permita verificar quais são os sintomas comuns entre duas doenças. Uma dica que pode ajudar a resolver esse problema é utilizar o método do Prolog `intersection/3` que recebe duas listas nos dois primeiros atribuos e retorna no terceiro parâmetro uma lista com o resultado da interseção. \n",
        "\n",
        "2 - Crie uma regra que retorna `True` se duas doenças são similares, e `False`, caso contrário. Duas doenças são similares se tiverem pelo menos dois sintomas em comum. Uma dica que pode ajudar a resolver esse problema é utilizar o método do Prolog `length/2`, que recebe como primeiro parâmetro uma lista e salva no segundo parâmtro o tamanho dessa lista. \n",
        "\n"
      ],
      "metadata": {
        "id": "wDijhAPhzp_V"
      }
    },
    {
      "cell_type": "markdown",
      "source": [
        "### Respostas\n",
        "\n",
        "**Regra 1**\n",
        "\n",
        "```prolog\n",
        "sintomas_comuns(D1, D2, L) :- doenca(D1, L1), doenca(D2, L2), intersection(L1, L2, L).\n",
        "\n",
        "```\n",
        "\n",
        "\n",
        "**Regra 2**\n",
        "\n",
        "```prolog\n",
        "doencas_similares(D1, D2) :- sintomas_comuns(D1, D2, L), length(L, Len), Len >= 2.\n",
        "```"
      ],
      "metadata": {
        "id": "Ck-u1I7B12Ye"
      }
    },
    {
      "cell_type": "markdown",
      "source": [
        "Atualize sua base de conhecimento com as novas regras diretamente no arquivo e teste a seguir."
      ],
      "metadata": {
        "id": "h3FIDS3c2iCy"
      }
    },
    {
      "cell_type": "code",
      "source": [
        "prolog.consult(dataset_path + \"base_diagnostico.pl\")"
      ],
      "metadata": {
        "id": "NJes7ky13DKa"
      },
      "execution_count": 56,
      "outputs": []
    },
    {
      "cell_type": "code",
      "source": [
        "consultar_base(\"sintomas_comuns(gripe, covid19, X).\")"
      ],
      "metadata": {
        "id": "_TO0kw0c9P5W",
        "colab": {
          "base_uri": "https://localhost:8080/"
        },
        "outputId": "951f3ccf-0aca-44c2-fec5-8f0a336ba0b5"
      },
      "execution_count": 57,
      "outputs": [
        {
          "output_type": "execute_result",
          "data": {
            "text/plain": [
              "[{'X': ['febre', 'tosse', 'dor_no_corpo']}]"
            ]
          },
          "metadata": {},
          "execution_count": 57
        }
      ]
    },
    {
      "cell_type": "code",
      "source": [
        "consultar_base('doencas_similares(gripe,covid19)')"
      ],
      "metadata": {
        "colab": {
          "base_uri": "https://localhost:8080/"
        },
        "id": "Ml-eR73TKq0o",
        "outputId": "4220641e-3e0d-45ec-ce97-66b12a53c36d"
      },
      "execution_count": 58,
      "outputs": [
        {
          "output_type": "execute_result",
          "data": {
            "text/plain": [
              "True"
            ]
          },
          "metadata": {},
          "execution_count": 58
        }
      ]
    },
    {
      "cell_type": "markdown",
      "source": [
        "## Mais regras\n",
        "\n",
        "Vamos criar mais regras, mas para isso, vamos utilizar uma base com mais fatos. Substitua os fatos de `sintoma/1` e `doenca/2` com os da lista a seguir. \n",
        "\n",
        "```prolog\n",
        "% Sintomas\n",
        "sintoma(dor_de_cabeca).\n",
        "sintoma(febre).\n",
        "sintoma(tosse).\n",
        "sintoma(dor_de_garganta).\n",
        "sintoma(dor_no_corpo).\n",
        "sintoma(fadiga).\n",
        "sintoma(nausea).\n",
        "sintoma(diarreia).\n",
        "sintoma(vomito).\n",
        "sintoma(dificuldade_respiratoria).\n",
        "sintoma(espirros).\n",
        "sintoma(congestao_nasal).\n",
        "sintoma(dor_nas_articulacoes).\n",
        "sintoma(perda_de_olfato).\n",
        "sintoma(perda_de_paladar).\n",
        "sintoma(dor_abdominal).\n",
        "sintoma(coceira).\n",
        "\n",
        "doenca(gripe, [febre, tosse, dor_de_garganta, dor_no_corpo, fadiga]).\n",
        "doenca(covid19, [febre, tosse, dor_no_corpo, dificuldade_respiratoria]).\n",
        "doenca(intoxicacao_alimentar, [nausea, diarreia, vomito]).\n",
        "doenca(dor_de_cabeca, [dor_de_cabeca]).\n",
        "doenca(rinite, [espirros, congestao_nasal]).\n",
        "doenca(artrite, [dor_nas_articulacoes]).\n",
        "doenca(covid19_variante, [febre, tosse, dor_no_corpo, dificuldade_respiratoria, perda_de_olfato, perda_de_paladar]).\n",
        "doenca(gastrite, [dor_abdominal, nausea]).\n",
        "doenca(urticaria, [coceira]).\n",
        "```\n",
        "\n",
        "Para essa nova base, crie uma regra `qual_doenca2` que recebe uma lista de sintomas e retorna uma doenca como provavel para a lista de sintomas, se a lista de sintomas corresponder a 60% dos sintomas da provável doença.\n",
        "\n",
        "\n",
        "### Resposta\n",
        "\n",
        "```prolog\n",
        "qual_doenca2(S, D, Z) :- doenca(D, L1), intersection(S, L1, L2), length(L1, X), length(L2, Y), Z is Y/X, Z >= 0.6.\n",
        "```"
      ],
      "metadata": {
        "id": "bW9G6vih5GCK"
      }
    },
    {
      "cell_type": "code",
      "source": [
        "prolog.consult(dataset_path + \"base_diagnostico.pl\")"
      ],
      "metadata": {
        "id": "9d0nYxzz6K74"
      },
      "execution_count": 99,
      "outputs": []
    },
    {
      "cell_type": "code",
      "source": [
        "consultar_base('qual_doenca2([tosse, febre, dor_de_garganta, fadiga], X)')"
      ],
      "metadata": {
        "colab": {
          "base_uri": "https://localhost:8080/"
        },
        "id": "uOwgYdHV6wwB",
        "outputId": "27e4bdf3-e6ce-4b40-f764-14983bcc24c4"
      },
      "execution_count": 100,
      "outputs": [
        {
          "output_type": "execute_result",
          "data": {
            "text/plain": [
              "[{'X': 'gripe'}]"
            ]
          },
          "metadata": {},
          "execution_count": 100
        }
      ]
    },
    {
      "cell_type": "markdown",
      "source": [
        "## Executando tudo \n",
        "\n",
        "Vamos criar um programa em Python que recebe uma lista de sintomas e retorna a lista de doenças baseada na segunda regra que criamos e para cada doença identificada, retornar as doenças similares. Se a doença não existir, pergunta se deseja cadastrar uma nova doença."
      ],
      "metadata": {
        "id": "oou9OGHFY3uf"
      }
    },
    {
      "cell_type": "code",
      "source": [
        "\n",
        "lista_sintomas = input(\"Digite a lista de sintomas (separados por vírgula): \")\n",
        "\n",
        "prolog.consult(dataset_path + \"base_diagnostico.pl\")\n",
        "\n",
        "query_busca = \"qual_doenca2([\" + lista_sintomas + \"], X)\"\n",
        "return_consulta = consultar_base(query_busca)\n",
        "\n",
        "\n",
        "if return_consulta:\n",
        "  return_list = [d['X'] for d in return_consulta]\n",
        "  print(\"Possíveis doenças: %s\" % ', '.join(return_list))\n",
        "  \n",
        "\n",
        "  similares = []\n",
        "  for doenca in return_list:\n",
        "    doencas_similares = consultar_base(\"doencas_similares(\" + doenca + \", X)\")\n",
        "    doencas_similares = [d['X'] for d in doencas_similares if d['X'] != doenca]\n",
        "    similares.extend(doencas_similares)\n",
        "\n",
        "  \n",
        "  print(\"Doenças similares: %s\" % ', '.join(similares) )\n",
        "\n",
        "else:\n",
        "  print(\"Os sintomas não casam com nenhuma doença da base de conhecimento.\")\n",
        "  print(\"Deseja inserir uma nova doença à base? (S = Sim ou N = Não)?\")\n",
        "  resp = input()\n",
        "  if resp == 'S':\n",
        "    print(\"Inserir nova doença.\")\n",
        "    doenca = input(\"Insira a doença: \")\n",
        "    cadastrar_doenca(doenca, lista_sintomas)\n",
        "  else: \n",
        "    print(\"Fim da consulta.\")\n"
      ],
      "metadata": {
        "colab": {
          "base_uri": "https://localhost:8080/"
        },
        "id": "r8dO2BTH75r8",
        "outputId": "bbdf36c7-68ca-459b-b827-e7fcfae1e56e"
      },
      "execution_count": 110,
      "outputs": [
        {
          "output_type": "stream",
          "name": "stdout",
          "text": [
            "Digite a lista de sintomas (separados por vírgula): febre,tosse,dor_de_garganta\n",
            "Possíveis doenças: gripe\n",
            "Doenças similares: covid19\n"
          ]
        }
      ]
    },
    {
      "cell_type": "markdown",
      "source": [
        "## É isso 😏\n",
        "\n",
        "Com essa atividade fechamos o material de Prolog. Agora vocês têm exemplos suficientes para criar o próprio programa com a própria base de conhecimento. "
      ],
      "metadata": {
        "id": "ZZImErOIbDq_"
      }
    }
  ]
}