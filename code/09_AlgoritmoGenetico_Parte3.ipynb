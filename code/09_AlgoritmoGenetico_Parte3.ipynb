{
  "cells": [
    {
      "cell_type": "markdown",
      "metadata": {
        "id": "view-in-github",
        "colab_type": "text"
      },
      "source": [
        "<a href=\"https://colab.research.google.com/github/adolfoguimaraes/inteligenciaartificial/blob/main/code/09_AlgoritmoGenetico_Parte3.ipynb\" target=\"_parent\"><img src=\"https://colab.research.google.com/assets/colab-badge.svg\" alt=\"Open In Colab\"/></a>"
      ]
    },
    {
      "cell_type": "markdown",
      "metadata": {
        "id": "bCVxS6NG6It5"
      },
      "source": [
        "# Algoritmo Genético - O problema da Mochila\n",
        "\n"
      ]
    },
    {
      "cell_type": "code",
      "execution_count": null,
      "metadata": {
        "id": "25C8XyD56It9"
      },
      "outputs": [],
      "source": [
        "import numpy as np\n",
        "from deap import base\n",
        "from deap import creator\n",
        "from deap import tools\n",
        "from deap import algorithms\n",
        "\n",
        "import random\n",
        "import numpy\n",
        "\n",
        "import matplotlib.pyplot as plt\n",
        "import seaborn as sns"
      ]
    },
    {
      "cell_type": "markdown",
      "metadata": {
        "id": "xi-LSSjK6IuA"
      },
      "source": [
        "# O problema da Mochila\n",
        "\n",
        "Classe da mochila disponível em:\n",
        "https://github.com/PacktPublishing/Hands-On-Genetic-Algorithms-with-Python/blob/master/Chapter04/knapsack.py"
      ]
    },
    {
      "cell_type": "code",
      "execution_count": null,
      "metadata": {
        "id": "W4aTNvTe6IuC"
      },
      "outputs": [],
      "source": [
        "class Knapsack01Problem:\n",
        "    \"\"\"This class encapsulates the Knapsack 0-1 Problem from RosettaCode.org\n",
        "    \"\"\"\n",
        "\n",
        "    def __init__(self):\n",
        "\n",
        "        # initialize instance variables:\n",
        "        self.items = []\n",
        "        self.maxCapacity = 0\n",
        "\n",
        "        # initialize the data:\n",
        "        self.__initData()\n",
        "\n",
        "    def __len__(self):\n",
        "        \"\"\"\n",
        "        :return: the total number of items defined in the problem\n",
        "        \"\"\"\n",
        "        return len(self.items)\n",
        "\n",
        "    def __initData(self):\n",
        "        \"\"\"initializes the RosettaCode.org knapsack 0-1 problem data\n",
        "        \"\"\"\n",
        "        self.items = [\n",
        "            (\"map\", 9, 150),\n",
        "            (\"compass\", 13, 35),\n",
        "            (\"water\", 153, 200),\n",
        "            (\"sandwich\", 50, 160),\n",
        "            (\"glucose\", 15, 60),\n",
        "            (\"tin\", 68, 45),\n",
        "            (\"banana\", 27, 60),\n",
        "            (\"apple\", 39, 40),\n",
        "            (\"cheese\", 23, 30),\n",
        "            (\"beer\", 52, 10),\n",
        "            (\"suntan cream\", 11, 70),\n",
        "            (\"camera\", 32, 30),\n",
        "            (\"t-shirt\", 24, 15),\n",
        "            (\"trousers\", 48, 10),\n",
        "            (\"umbrella\", 73, 40),\n",
        "            (\"waterproof trousers\", 42, 70),\n",
        "            (\"waterproof overclothes\", 43, 75),\n",
        "            (\"note-case\", 22, 80),\n",
        "            (\"sunglasses\", 7, 20),\n",
        "            (\"towel\", 18, 12),\n",
        "            (\"socks\", 4, 50),\n",
        "            (\"book\", 30, 10)\n",
        "        ]\n",
        "\n",
        "        self.maxCapacity = 400\n",
        "\n",
        "    def getValue(self, zeroOneList):\n",
        "        \"\"\"\n",
        "        Calculates the value of the selected items in the list, while ignoring items that will cause the accumulating weight to exceed the maximum weight\n",
        "        :param zeroOneList: a list of 0/1 values corresponding to the list of the problem's items. '1' means that item was selected.\n",
        "        :return: the calculated value\n",
        "        \"\"\"\n",
        "\n",
        "        totalWeight = totalValue = 0\n",
        "\n",
        "        for i in range(len(zeroOneList)):\n",
        "            item, weight, value = self.items[i]\n",
        "            if totalWeight + weight <= self.maxCapacity:\n",
        "                totalWeight += zeroOneList[i] * weight\n",
        "                totalValue += zeroOneList[i] * value\n",
        "        return totalValue\n",
        "\n",
        "    def printItems(self, zeroOneList):\n",
        "        \"\"\"\n",
        "        Prints the selected items in the list, while ignoring items that will cause the accumulating weight to exceed the maximum weight\n",
        "        :param zeroOneList: a list of 0/1 values corresponding to the list of the problem's items. '1' means that item was selected.\n",
        "        \"\"\"\n",
        "        totalWeight = totalValue = 0\n",
        "\n",
        "        for i in range(len(zeroOneList)):\n",
        "            item, weight, value = self.items[i]\n",
        "            if totalWeight + weight <= self.maxCapacity:\n",
        "                if zeroOneList[i] > 0:\n",
        "                    totalWeight += weight\n",
        "                    totalValue += value\n",
        "                    print(\"- Adding {}: weight = {}, value = {}, accumulated weight = {}, accumulated value = {}\".format(item, weight, value, totalWeight, totalValue))\n",
        "        print(\"- Total weight = {}, Total value = {}\".format(totalWeight, totalValue))\n",
        "\n"
      ]
    },
    {
      "cell_type": "markdown",
      "metadata": {
        "id": "zp3_sQBb6IuG"
      },
      "source": [
        "### Testando a classe da mochila"
      ]
    },
    {
      "cell_type": "code",
      "execution_count": null,
      "metadata": {
        "id": "S5Pda3Ms6IuI",
        "outputId": "72d19318-f54e-4d64-c3e1-74a31888ca63"
      },
      "outputs": [
        {
          "name": "stdout",
          "output_type": "stream",
          "text": [
            "Random Solution = \n",
            "[1 1 1 0 0 1 1 1 0 0 0 0 1 0 1 1 1 0 0 1 1 0]\n",
            "- Adding map: weight = 9, value = 150, accumulated weight = 9, accumulated value = 150\n",
            "- Adding compass: weight = 13, value = 35, accumulated weight = 22, accumulated value = 185\n",
            "- Adding water: weight = 153, value = 200, accumulated weight = 175, accumulated value = 385\n",
            "- Adding tin: weight = 68, value = 45, accumulated weight = 243, accumulated value = 430\n",
            "- Adding banana: weight = 27, value = 60, accumulated weight = 270, accumulated value = 490\n",
            "- Adding apple: weight = 39, value = 40, accumulated weight = 309, accumulated value = 530\n",
            "- Adding t-shirt: weight = 24, value = 15, accumulated weight = 333, accumulated value = 545\n",
            "- Adding waterproof trousers: weight = 42, value = 70, accumulated weight = 375, accumulated value = 615\n",
            "- Adding towel: weight = 18, value = 12, accumulated weight = 393, accumulated value = 627\n",
            "- Adding socks: weight = 4, value = 50, accumulated weight = 397, accumulated value = 677\n",
            "- Total weight = 397, Total value = 677\n"
          ]
        }
      ],
      "source": [
        "# create a problem instance:\n",
        "knapsack = Knapsack01Problem()\n",
        "\n",
        "    # creaete a random solution and evaluate it:\n",
        "randomSolution = np.random.randint(2, size=len(knapsack))\n",
        "print(\"Random Solution = \")\n",
        "print(randomSolution)\n",
        "knapsack.printItems(randomSolution)"
      ]
    },
    {
      "cell_type": "markdown",
      "metadata": {
        "id": "Au5GKVGS6IuK"
      },
      "source": [
        "## Algoritmo Genético para o problema da Mochila\n",
        "\n",
        "Código disponívem em: https://github.com/PacktPublishing/Hands-On-Genetic-Algorithms-with-Python/blob/master/Chapter04/01-solve-knapsack.py"
      ]
    },
    {
      "cell_type": "code",
      "execution_count": null,
      "metadata": {
        "id": "cGIT7SJm6IuM"
      },
      "outputs": [],
      "source": [
        "# problem constants:\n",
        "# create the knapsack problem instance to be used:\n",
        "knapsack = Knapsack01Problem()\n",
        "\n",
        "# Genetic Algorithm constants:\n",
        "POPULATION_SIZE = 20\n",
        "P_CROSSOVER = 0.2  # probability for crossover\n",
        "P_MUTATION = 0.8   # probability for mutating an individual\n",
        "MAX_GENERATIONS = 20\n",
        "HALL_OF_FAME_SIZE = 1\n",
        "\n",
        "\n",
        "# set the random seed:\n",
        "RANDOM_SEED = 42\n",
        "random.seed(RANDOM_SEED)\n",
        "\n",
        "toolbox = base.Toolbox()\n",
        "\n",
        "# create an operator that randomly returns 0 or 1:\n",
        "toolbox.register(\"zeroOrOne\", random.randint, 0, 1)\n",
        "\n",
        "del creator.FitnessMax\n",
        "# define a single objective, maximizing fitness strategy:\n",
        "creator.create(\"FitnessMax\", base.Fitness, weights=(1.0,))\n",
        "\n",
        "del creator.Individual\n",
        "# create the Individual class based on list:\n",
        "creator.create(\"Individual\", list, fitness=creator.FitnessMax)\n",
        "\n",
        "# create the individual operator to fill up an Individual instance:\n",
        "toolbox.register(\"individualCreator\", tools.initRepeat, creator.Individual, toolbox.zeroOrOne, len(knapsack))\n",
        "\n",
        "# create the population operator to generate a list of individuals:\n",
        "toolbox.register(\"populationCreator\", tools.initRepeat, list, toolbox.individualCreator)\n",
        "\n",
        "\n",
        "# fitness calculation\n",
        "def knapsackValue(individual):\n",
        "    return knapsack.getValue(individual),  # return a tuple\n",
        "\n",
        "\n",
        "toolbox.register(\"evaluate\", knapsackValue)\n",
        "\n",
        "# genetic operators:mutFlipBit\n",
        "\n",
        "# Tournament selection with tournament size of 3:\n",
        "toolbox.register(\"select\", tools.selTournament, tournsize=3)\n",
        "\n",
        "# Single-point crossover:\n",
        "toolbox.register(\"mate\", tools.cxTwoPoint)\n",
        "\n",
        "# Flip-bit mutation:\n",
        "# indpb: Independent probability for each attribute to be flipped\n",
        "toolbox.register(\"mutate\", tools.mutFlipBit, indpb=1.0/len(knapsack))\n",
        "\n",
        "\n"
      ]
    },
    {
      "cell_type": "markdown",
      "metadata": {
        "id": "pAlQxAJG6IuO"
      },
      "source": [
        "Execução do algoritmo"
      ]
    },
    {
      "cell_type": "code",
      "execution_count": null,
      "metadata": {
        "id": "WCuu-_dv6IuQ",
        "outputId": "849b7dcd-6829-4a57-aec7-ba1d10f04b12"
      },
      "outputs": [
        {
          "name": "stdout",
          "output_type": "stream",
          "text": [
            "gen\tnevals\tmax\tavg   \n",
            "0  \t20    \t760\t546.05\n",
            "1  \t18    \t880\t677.5 \n",
            "2  \t19    \t880\t771.55\n",
            "3  \t18    \t910\t836.85\n",
            "4  \t18    \t910\t841.2 \n",
            "5  \t16    \t952\t879.35\n",
            "6  \t16    \t930\t865.9 \n",
            "7  \t15    \t932\t861.9 \n",
            "8  \t16    \t932\t878.75\n",
            "9  \t16    \t952\t895.25\n",
            "10 \t18    \t952\t883.2 \n",
            "11 \t17    \t952\t904.45\n",
            "12 \t18    \t952\t920.35\n",
            "13 \t17    \t952\t896.2 \n",
            "14 \t16    \t952\t906.95\n",
            "15 \t16    \t952\t905.55\n",
            "16 \t17    \t952\t905.35\n",
            "17 \t19    \t970\t881   \n",
            "18 \t17    \t970\t906.8 \n",
            "19 \t19    \t970\t914.8 \n",
            "20 \t19    \t970\t913.25\n",
            "-- Best Ever Individual =  [1, 1, 1, 1, 1, 0, 1, 1, 1, 0, 1, 0, 1, 0, 1, 0, 1, 1, 1, 0, 1, 1]\n",
            "-- Best Ever Fitness =  970.0\n",
            "-- Knapsack Items = \n",
            "- Adding map: weight = 9, value = 150, accumulated weight = 9, accumulated value = 150\n",
            "- Adding compass: weight = 13, value = 35, accumulated weight = 22, accumulated value = 185\n",
            "- Adding water: weight = 153, value = 200, accumulated weight = 175, accumulated value = 385\n",
            "- Adding sandwich: weight = 50, value = 160, accumulated weight = 225, accumulated value = 545\n",
            "- Adding glucose: weight = 15, value = 60, accumulated weight = 240, accumulated value = 605\n",
            "- Adding banana: weight = 27, value = 60, accumulated weight = 267, accumulated value = 665\n",
            "- Adding apple: weight = 39, value = 40, accumulated weight = 306, accumulated value = 705\n",
            "- Adding cheese: weight = 23, value = 30, accumulated weight = 329, accumulated value = 735\n",
            "- Adding suntan cream: weight = 11, value = 70, accumulated weight = 340, accumulated value = 805\n",
            "- Adding t-shirt: weight = 24, value = 15, accumulated weight = 364, accumulated value = 820\n",
            "- Adding note-case: weight = 22, value = 80, accumulated weight = 386, accumulated value = 900\n",
            "- Adding sunglasses: weight = 7, value = 20, accumulated weight = 393, accumulated value = 920\n",
            "- Adding socks: weight = 4, value = 50, accumulated weight = 397, accumulated value = 970\n",
            "- Total weight = 397, Total value = 970\n"
          ]
        },
        {
          "data": {
            "image/png": "[encoded data removed]",
            "text/plain": [
              "<Figure size 432x288 with 1 Axes>"
            ]
          },
          "metadata": {},
          "output_type": "display_data"
        }
      ],
      "source": [
        "# Genetic Algorithm flow:\n",
        "\n",
        "\n",
        "# create initial population (generation 0):\n",
        "population = toolbox.populationCreator(n=POPULATION_SIZE)\n",
        "\n",
        "# prepare the statistics object:\n",
        "stats = tools.Statistics(lambda ind: ind.fitness.values)\n",
        "stats.register(\"max\", numpy.max)\n",
        "stats.register(\"avg\", numpy.mean)\n",
        "\n",
        "# define the hall-of-fame object:\n",
        "hof = tools.HallOfFame(HALL_OF_FAME_SIZE)\n",
        "\n",
        "# perform the Genetic Algorithm flow with hof feature added:\n",
        "population, logbook = algorithms.eaSimple(population, toolbox, cxpb=P_CROSSOVER, mutpb=P_MUTATION,\n",
        "                                            ngen=MAX_GENERATIONS, stats=stats, halloffame=hof, verbose=True)\n",
        "\n",
        "# print best solution found:\n",
        "best = hof.items[0]\n",
        "print(\"-- Best Ever Individual = \", best)\n",
        "print(\"-- Best Ever Fitness = \", best.fitness.values[0])\n",
        "\n",
        "print(\"-- Knapsack Items = \")\n",
        "knapsack.printItems(best)\n",
        "\n",
        "# extract statistics:\n",
        "maxFitnessValues, meanFitnessValues = logbook.select(\"max\", \"avg\")\n",
        "\n",
        "# plot statistics:\n",
        "sns.set_style(\"whitegrid\")\n",
        "plt.plot(maxFitnessValues, color='red')\n",
        "plt.plot(meanFitnessValues, color='green')\n",
        "plt.xlabel('Generation')\n",
        "plt.ylabel('Max / Average Fitness')\n",
        "plt.title('Max and Average fitness over Generations')\n",
        "plt.show()"
      ]
    },
    {
      "cell_type": "markdown",
      "metadata": {
        "id": "yr7L86G76IuR"
      },
      "source": [
        "## Atividade\n",
        "\n",
        "* Modifique os parâmatros do algoritmo genético para gerar novas soluções para o problema. Tente melhorar o resultado anterior. Gere gráficos da evolução para cada conjunto de parâmetros e avalie o resultado. "
      ]
    },
    {
      "cell_type": "code",
      "execution_count": null,
      "metadata": {
        "id": "hW1ybfVg6IuS"
      },
      "outputs": [],
      "source": [
        ""
      ]
    }
  ],
  "metadata": {
    "interpreter": {
      "hash": "08127f97df6c02a53ef8f985c7fba4c27496d4e158c6aeb69a78d3e5c8eefc39"
    },
    "kernelspec": {
      "display_name": "Python 3.9.7 ('inteligenciaartificial')",
      "language": "python",
      "name": "python3"
    },
    "language_info": {
      "codemirror_mode": {
        "name": "ipython",
        "version": 3
      },
      "file_extension": ".py",
      "mimetype": "text/x-python",
      "name": "python",
      "nbconvert_exporter": "python",
      "pygments_lexer": "ipython3",
      "version": "3.9.7"
    },
    "orig_nbformat": 4,
    "colab": {
      "name": "09_AlgoritmoGenetico_Parte3.ipynb",
      "provenance": [],
      "include_colab_link": true
    }
  },
  "nbformat": 4,
  "nbformat_minor": 0
}