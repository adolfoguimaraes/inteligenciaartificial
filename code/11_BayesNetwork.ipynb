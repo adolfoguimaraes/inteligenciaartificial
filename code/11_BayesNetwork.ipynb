{
  "cells": [
    {
      "cell_type": "markdown",
      "metadata": {
        "colab_type": "text",
        "id": "view-in-github"
      },
      "source": [
        "<a href=\"https://colab.research.google.com/github/adolfoguimaraes/inteligenciaartificial/blob/main/code/11_BayesNetwork.ipynb\" target=\"_parent\"><img src=\"https://colab.research.google.com/assets/colab-badge.svg\" alt=\"Open In Colab\"/></a>"
      ]
    },
    {
      "cell_type": "code",
      "execution_count": null,
      "metadata": {
        "id": "mT6b6Atjjh1a"
      },
      "outputs": [],
      "source": [
        "!pip install pgmpy"
      ]
    },
    {
      "cell_type": "code",
      "execution_count": null,
      "metadata": {
        "id": "9OpZ0tp-jh1d"
      },
      "outputs": [],
      "source": [
        "# Imports\n",
        "import pandas as pd\n",
        "from pgmpy.estimators import PC\n",
        "from pgmpy.inference import VariableElimination\n",
        "from pgmpy.models import BayesianNetwork\n",
        "from pgmpy.factors.discrete import TabularCPD\n",
        "from pgmpy.estimators import BayesianEstimator\n"
      ]
    },
    {
      "cell_type": "markdown",
      "metadata": {
        "id": "IxLHXKtXjh1j"
      },
      "source": [
        "# Redes Bayesianas utilizando Python \n",
        "\n",
        "Na aula de hoje, vamos trabalhar com exemplos de Redes Bayesianas utilizando a linguagem Python. Para isso, vamos usar uma biblioteca que possui algoritmos com esse propósito: a PGMPY. Para instalar, execute o comando de instalação `pip install pgmpy`."
      ]
    },
    {
      "cell_type": "markdown",
      "metadata": {
        "id": "k_eF-JT4jh1l"
      },
      "source": [
        "## O exemplo de Monty Hall\n",
        "\n",
        "Vamos ver como utilizamos esse problema para estimar as probabilidades no problema de Monty Hall. A rede a seguir mostra esse exemplo: \n",
        "\n",
        "<img src=\"https://pgmpy.org/_images/examples_Monty_Hall_Problem_3_0.png\" width=\"20%\" />\n",
        "\n",
        "onde P é o prêmio, C é o competidor e H é o apresentador. O prêmio foi colocado aleatoriamente em uma das portas, logo: $P(P=1) = P(P=2) = P(P=3) = \\frac{1}{3}$. Da mesma forma, o competidor escolhe a porta de forma aleatória, então: $P(P=1) = P(P=2) = P(P=3) = \\frac{1}{3}$. Já a escolha do apresentado depende de onde o prêmio está e de qual porta o competidor vai escolher. Com isso, temos a seguinte distribuição de probabilidade: \n",
        "\n",
        "```\n",
        "P(C):\n",
        "+----------+----------+-----------+-----------+\n",
        "|    C     |     0    |     1     |      2    |\n",
        "+----------+----------+-----------+-----------+\n",
        "|          |    0.33  |    0.33   |    0.33   |\n",
        "+----------+----------+-----------+-----------+\n",
        "\n",
        "P(P):\n",
        "+----------+----------+-----------+-----------+\n",
        "|    P     |     0    |     1     |      2    |\n",
        "+----------+----------+-----------+-----------+\n",
        "|          |    0.33  |    0.33   |    0.33   |\n",
        "+----------+----------+-----------+-----------+\n",
        "\n",
        "P(H | P, C):\n",
        "+------+------+------+------+------+------+------+------+------+------+\n",
        "|   C  |          0         |          1         |          2         |\n",
        "+------+------+------+------+------+------+------+------+------+------+\n",
        "|   P  |   0  |   1  |   2  |   0  |   1  |   2  |   0  |   1  |   2  |\n",
        "+------+------+------+------+------+------+------+------+------+------+\n",
        "|  H=0 |   0  |   0  |   0  |   0  |  0.5 |   1  |   0  |   1  |  0.5 |\n",
        "+------+------+------+------+------+------+------+------+------+------+\n",
        "|  H=1 |  0.5 |   0  |   1  |   0  |   0  |   0  |   1  |   0  |  0.5 |\n",
        "+------+------+------+------+------+------+------+------+------+------+\n",
        "|  H=2 |  0.5 |   1  |   0  |   1  |  0.5 |   0  |   0  |   0  |   0  |\n",
        "+------+------+------+------+------+------+------+------+------+------+\n",
        "```"
      ]
    },
    {
      "cell_type": "code",
      "execution_count": null,
      "metadata": {
        "id": "j3o9gOkDjh1o",
        "outputId": "f4e6a975-edf8-43fb-ee74-f6220cd1a506"
      },
      "outputs": [
        {
          "data": {
            "text/plain": [
              "True"
            ]
          },
          "execution_count": 47,
          "metadata": {},
          "output_type": "execute_result"
        }
      ],
      "source": [
        "\n",
        "\n",
        "# Defining the network structure\n",
        "model = BayesianNetwork([(\"C\", \"H\"), (\"P\", \"H\")])\n",
        "\n",
        "# Defining the CPDs:\n",
        "cpd_c = TabularCPD(\"C\", 3, [[0.33], [0.33], [0.33]])\n",
        "cpd_p = TabularCPD(\"P\", 3, [[0.33], [0.33], [0.33]])\n",
        "cpd_h = TabularCPD(\n",
        "    \"H\",\n",
        "    3,\n",
        "    [\n",
        "        [0, 0, 0, 0, 0.5, 1, 0, 1, 0.5],\n",
        "        [0.5, 0, 1, 0, 0, 0, 1, 0, 0.5],\n",
        "        [0.5, 1, 0, 1, 0.5, 0, 0, 0, 0],\n",
        "    ],\n",
        "    evidence=[\"C\", \"P\"],\n",
        "    evidence_card=[3, 3],\n",
        ")\n",
        "\n",
        "# Associating the CPDs with the network structure.\n",
        "model.add_cpds(cpd_c, cpd_p, cpd_h)\n",
        "\n",
        "model.check_model()"
      ]
    },
    {
      "cell_type": "code",
      "execution_count": null,
      "metadata": {
        "id": "Fb4wpzp9jh1r",
        "outputId": "fabb9f74-7726-4f0f-881e-77768afa98ce"
      },
      "outputs": [
        {
          "name": "stdout",
          "output_type": "stream",
          "text": [
            "+------+------+------+------+------+------+------+------+------+------+\n",
            "| C    | C(0) | C(0) | C(0) | C(1) | C(1) | C(1) | C(2) | C(2) | C(2) |\n",
            "+------+------+------+------+------+------+------+------+------+------+\n",
            "| P    | P(0) | P(1) | P(2) | P(0) | P(1) | P(2) | P(0) | P(1) | P(2) |\n",
            "+------+------+------+------+------+------+------+------+------+------+\n",
            "| H(0) | 0.0  | 0.0  | 0.0  | 0.0  | 0.5  | 1.0  | 0.0  | 1.0  | 0.5  |\n",
            "+------+------+------+------+------+------+------+------+------+------+\n",
            "| H(1) | 0.5  | 0.0  | 1.0  | 0.0  | 0.0  | 0.0  | 1.0  | 0.0  | 0.5  |\n",
            "+------+------+------+------+------+------+------+------+------+------+\n",
            "| H(2) | 0.5  | 1.0  | 0.0  | 1.0  | 0.5  | 0.0  | 0.0  | 0.0  | 0.0  |\n",
            "+------+------+------+------+------+------+------+------+------+------+\n"
          ]
        }
      ],
      "source": [
        "# Some other methods\n",
        "print(model.get_cpds('H'))"
      ]
    },
    {
      "cell_type": "code",
      "execution_count": null,
      "metadata": {
        "id": "xuOXCO-Cjh1v",
        "outputId": "251fa0af-8f45-4adf-bc09-7bd3ed25bab9"
      },
      "outputs": [
        {
          "name": "stderr",
          "output_type": "stream",
          "text": [
            "Finding Elimination Order: : : 0it [00:00, ?it/s]\n",
            "0it [00:00, ?it/s]"
          ]
        },
        {
          "name": "stdout",
          "output_type": "stream",
          "text": [
            "+------+----------+\n",
            "| P    |   phi(P) |\n",
            "+======+==========+\n",
            "| P(0) |   0.3333 |\n",
            "+------+----------+\n",
            "| P(1) |   0.6667 |\n",
            "+------+----------+\n",
            "| P(2) |   0.0000 |\n",
            "+------+----------+\n"
          ]
        },
        {
          "name": "stderr",
          "output_type": "stream",
          "text": [
            "\n"
          ]
        }
      ],
      "source": [
        "infer = VariableElimination(model)\n",
        "posterior_p = infer.query([\"P\"], evidence={\"C\": 0, \"H\": 2})\n",
        "print(posterior_p)"
      ]
    },
    {
      "cell_type": "markdown",
      "metadata": {
        "id": "v2LVtz8Mjh1v"
      },
      "source": [
        "## Mais um exemplo\n",
        "\n",
        "Para este exemplo, vamos utilizar uma estrutura de grafo e distribuição de probabilidades conhecidas. O exemplo a seguir foi retirado da própria documentação da biblioteca. Vamos trabalhar com o exemplo a seguir: \n",
        "\n",
        "<img src=\"https://pgmpy.org/_images/detailed_notebooks_1._Introduction_to_Probabilistic_Graphical_Models_22_0.png\" width=\"60%\" />\n",
        "\n",
        "Com a seguinte distribuição de probabilidade: \n",
        "\n",
        "<img src=\"https://pgmpy.org/_images/detailed_notebooks_2._Bayesian_Networks_4_0.png\" width=\"70%\" />"
      ]
    },
    {
      "cell_type": "code",
      "execution_count": null,
      "metadata": {
        "id": "xKKkDmT9jh1x",
        "outputId": "2b9d1e5a-6df8-4e34-fff3-05aeb6c0ff86"
      },
      "outputs": [
        {
          "data": {
            "text/plain": [
              "True"
            ]
          },
          "execution_count": 32,
          "metadata": {},
          "output_type": "execute_result"
        }
      ],
      "source": [
        "model = BayesianNetwork([('D','G'),('I','G'),('G','L'),('I','S')])\n",
        "\n",
        "cpd_d = TabularCPD(variable='D', variable_card=2, values=[[0.6],[0.4]], state_names={'D': ['Easy','Hard']})\n",
        "cpd_i = TabularCPD(variable='I', variable_card=2, values=[[0.7],[0.3]], state_names={'I': ['Dumb','Intelligent']})\n",
        "\n",
        "cpd_g = TabularCPD(variable='G', variable_card=3,\n",
        "                   values=[[0.3, 0.05, 0.9,  0.5],\n",
        "                           [0.4, 0.25, 0.08, 0.3],\n",
        "                           [0.3, 0.7,  0.02, 0.2]],\n",
        "                  evidence=['I', 'D'],\n",
        "                  evidence_card=[2, 2],\n",
        "                  state_names={'G': ['A','B','C'], 'I': ['Dumb','Intelligent'], 'D': ['Easy', 'Hard']})\n",
        "\n",
        "cpd_l = TabularCPD(variable='L', variable_card=2,\n",
        "                   values=[[0.1, 0.4, 0.99],\n",
        "                           [0.9, 0.6, 0.01]],\n",
        "                   evidence=['G'],\n",
        "                   evidence_card=[3],\n",
        "                   state_names={'L': ['Bad','Good'], 'G': ['A','B','C']})\n",
        "\n",
        "cpd_s = TabularCPD(variable='S', variable_card=2,\n",
        "                   values=[[0.95, 0.2],\n",
        "                           [0.05, 0.8]],\n",
        "                   evidence=['I'],\n",
        "                   evidence_card=[2],\n",
        "                   state_names={'S': ['Bad','Good'], 'I': ['Dumb', 'Intelligent']})\n",
        "\n",
        "# Associating the CPDs with the network\n",
        "model.add_cpds(cpd_d, cpd_i, cpd_g, cpd_l, cpd_s)\n",
        "\n",
        "# check_model checks for the network structure and CPDs and verifies that the CPDs are correctly\n",
        "# defined and sum to 1.\n",
        "model.check_model()"
      ]
    },
    {
      "cell_type": "code",
      "execution_count": null,
      "metadata": {
        "id": "Krxu9_HSjh1z",
        "outputId": "6076ba5f-5568-413d-d4f3-d58143d06352"
      },
      "outputs": [
        {
          "data": {
            "text/plain": [
              "[<TabularCPD representing P(D:2) at 0x7f842a566fa0>,\n",
              " <TabularCPD representing P(I:2) at 0x7f842a566d00>,\n",
              " <TabularCPD representing P(G:3 | I:2, D:2) at 0x7f842a566fd0>,\n",
              " <TabularCPD representing P(L:2 | G:3) at 0x7f842a566cd0>,\n",
              " <TabularCPD representing P(S:2 | I:2) at 0x7f842a566b80>]"
            ]
          },
          "execution_count": 33,
          "metadata": {},
          "output_type": "execute_result"
        }
      ],
      "source": [
        "model.get_cpds()"
      ]
    },
    {
      "cell_type": "code",
      "execution_count": null,
      "metadata": {
        "id": "PjBqKArpjh10",
        "outputId": "b0368ca4-a4b9-46fe-8692-3e7f7a9fe029"
      },
      "outputs": [
        {
          "name": "stdout",
          "output_type": "stream",
          "text": [
            "+------+---------+---------+----------------+----------------+\n",
            "| I    | I(Dumb) | I(Dumb) | I(Intelligent) | I(Intelligent) |\n",
            "+------+---------+---------+----------------+----------------+\n",
            "| D    | D(Easy) | D(Hard) | D(Easy)        | D(Hard)        |\n",
            "+------+---------+---------+----------------+----------------+\n",
            "| G(A) | 0.3     | 0.05    | 0.9            | 0.5            |\n",
            "+------+---------+---------+----------------+----------------+\n",
            "| G(B) | 0.4     | 0.25    | 0.08           | 0.3            |\n",
            "+------+---------+---------+----------------+----------------+\n",
            "| G(C) | 0.3     | 0.7     | 0.02           | 0.2            |\n",
            "+------+---------+---------+----------------+----------------+\n"
          ]
        }
      ],
      "source": [
        "print(model.get_cpds('G'))"
      ]
    },
    {
      "cell_type": "code",
      "execution_count": null,
      "metadata": {
        "id": "yGuPYU-ijh11"
      },
      "outputs": [],
      "source": [
        "infer = VariableElimination(model)"
      ]
    },
    {
      "cell_type": "code",
      "execution_count": null,
      "metadata": {
        "id": "gNZYC-w7jh12",
        "outputId": "b847a61d-a383-4847-c86c-0fc122361713"
      },
      "outputs": [
        {
          "name": "stderr",
          "output_type": "stream",
          "text": [
            "Finding Elimination Order: : 100%|██████████| 2/2 [00:00<00:00, 689.91it/s]\n",
            "Eliminating: D: 100%|██████████| 2/2 [00:00<00:00, 257.07it/s]"
          ]
        },
        {
          "name": "stdout",
          "output_type": "stream",
          "text": [
            "+------+----------+\n",
            "| G    |   phi(G) |\n",
            "+======+==========+\n",
            "| G(A) |   0.3620 |\n",
            "+------+----------+\n",
            "| G(B) |   0.2884 |\n",
            "+------+----------+\n",
            "| G(C) |   0.3496 |\n",
            "+------+----------+\n"
          ]
        },
        {
          "name": "stderr",
          "output_type": "stream",
          "text": [
            "\n"
          ]
        }
      ],
      "source": [
        "g_dist = infer.query(['G'])\n",
        "print(g_dist)"
      ]
    },
    {
      "cell_type": "code",
      "execution_count": null,
      "metadata": {
        "id": "HoXFag3Bjh13",
        "outputId": "4f9caad3-4a1d-4cbb-c165-0631a02a6267"
      },
      "outputs": [
        {
          "name": "stderr",
          "output_type": "stream",
          "text": [
            "Finding Elimination Order: : : 0it [00:00, ?it/s]\n",
            "0it [00:00, ?it/s]"
          ]
        },
        {
          "name": "stdout",
          "output_type": "stream",
          "text": [
            "+------+----------+\n",
            "| G    |   phi(G) |\n",
            "+======+==========+\n",
            "| G(A) |   0.9000 |\n",
            "+------+----------+\n",
            "| G(B) |   0.0800 |\n",
            "+------+----------+\n",
            "| G(C) |   0.0200 |\n",
            "+------+----------+\n"
          ]
        },
        {
          "name": "stderr",
          "output_type": "stream",
          "text": [
            "\n"
          ]
        }
      ],
      "source": [
        "print(infer.query(['G'], evidence={'D': 'Easy', 'I': 'Intelligent'}))"
      ]
    },
    {
      "cell_type": "code",
      "execution_count": null,
      "metadata": {
        "id": "0IVH-xcZjh14",
        "outputId": "3c1cf36e-c627-4172-ae96-ff6c5853c610"
      },
      "outputs": [
        {
          "name": "stderr",
          "output_type": "stream",
          "text": [
            "Finding Elimination Order: : 100%|██████████| 1/1 [00:00<00:00, 218.85it/s]\n",
            "Eliminating: D: 100%|██████████| 1/1 [00:00<00:00, 174.97it/s]"
          ]
        },
        {
          "name": "stdout",
          "output_type": "stream",
          "text": [
            "+------+----------+\n",
            "| G    |   phi(G) |\n",
            "+======+==========+\n",
            "| G(A) |   0.0327 |\n",
            "+------+----------+\n",
            "| G(B) |   0.2224 |\n",
            "+------+----------+\n",
            "| G(C) |   0.7448 |\n",
            "+------+----------+\n"
          ]
        },
        {
          "name": "stderr",
          "output_type": "stream",
          "text": [
            "\n"
          ]
        }
      ],
      "source": [
        "print(infer.query(['G'], evidence={'S': 'Bad', 'L': 'Bad', 'I': 'Dumb'}))"
      ]
    },
    {
      "cell_type": "markdown",
      "metadata": {
        "id": "k6Gjj8SEjh16"
      },
      "source": [
        "## Usando uma base de dados como entrada. "
      ]
    },
    {
      "cell_type": "code",
      "execution_count": null,
      "metadata": {
        "id": "qYrI1FXWjh18"
      },
      "outputs": [],
      "source": [
        "# Ler os arquivos \n",
        "df_cdq = pd.read_csv(\"../datasets/bayes_network/CDQ_J.csv\")\n",
        "df_hsq = pd.read_csv(\"../datasets/bayes_network/HSQ_J.csv\")\n",
        "df_ocq = pd.read_csv(\"../datasets/bayes_network/OCQ_J.csv\")\n",
        "\n",
        "# Selecionar as variáveis que interessam\n",
        "df_cdq = df_cdq[['SEQN','CDQ010']]\n",
        "df_hsq = df_hsq[['SEQN','HSQ500','HSQ510']]\n",
        "df_ocq = df_ocq[['SEQN','OCQ180']]\n",
        "\n",
        "df_cdq.dropna(inplace=True)\n",
        "df_hsq.dropna(inplace=True)\n",
        "df_ocq.dropna(inplace=True)\n",
        "\n",
        "df_outer = pd.merge(df_cdq, df_hsq, on=\"SEQN\", how='outer')\n",
        "df_outer = pd.merge(df_outer, df_ocq, on=\"SEQN\", how='outer')\n",
        "\n",
        "df_outer.dropna(inplace=True)\n"
      ]
    },
    {
      "cell_type": "code",
      "execution_count": null,
      "metadata": {
        "id": "dS60fikgjh19",
        "outputId": "0dfae138-9b71-4934-97b6-048f98d6f8e1"
      },
      "outputs": [
        {
          "data": {
            "text/html": [
              "<div>\n",
              "<style scoped>\n",
              "    .dataframe tbody tr th:only-of-type {\n",
              "        vertical-align: middle;\n",
              "    }\n",
              "\n",
              "    .dataframe tbody tr th {\n",
              "        vertical-align: top;\n",
              "    }\n",
              "\n",
              "    .dataframe thead th {\n",
              "        text-align: right;\n",
              "    }\n",
              "</style>\n",
              "<table border=\"1\" class=\"dataframe\">\n",
              "  <thead>\n",
              "    <tr style=\"text-align: right;\">\n",
              "      <th></th>\n",
              "      <th>A</th>\n",
              "      <th>B</th>\n",
              "      <th>D</th>\n",
              "      <th>C</th>\n",
              "    </tr>\n",
              "  </thead>\n",
              "  <tbody>\n",
              "    <tr>\n",
              "      <th>0</th>\n",
              "      <td>2.0</td>\n",
              "      <td>2.0</td>\n",
              "      <td>2.0</td>\n",
              "      <td>30.0</td>\n",
              "    </tr>\n",
              "    <tr>\n",
              "      <th>3</th>\n",
              "      <td>2.0</td>\n",
              "      <td>2.0</td>\n",
              "      <td>2.0</td>\n",
              "      <td>35.0</td>\n",
              "    </tr>\n",
              "    <tr>\n",
              "      <th>7</th>\n",
              "      <td>2.0</td>\n",
              "      <td>2.0</td>\n",
              "      <td>2.0</td>\n",
              "      <td>40.0</td>\n",
              "    </tr>\n",
              "    <tr>\n",
              "      <th>9</th>\n",
              "      <td>2.0</td>\n",
              "      <td>2.0</td>\n",
              "      <td>2.0</td>\n",
              "      <td>5.0</td>\n",
              "    </tr>\n",
              "    <tr>\n",
              "      <th>10</th>\n",
              "      <td>2.0</td>\n",
              "      <td>2.0</td>\n",
              "      <td>2.0</td>\n",
              "      <td>40.0</td>\n",
              "    </tr>\n",
              "  </tbody>\n",
              "</table>\n",
              "</div>"
            ],
            "text/plain": [
              "      A    B    D     C\n",
              "0   2.0  2.0  2.0  30.0\n",
              "3   2.0  2.0  2.0  35.0\n",
              "7   2.0  2.0  2.0  40.0\n",
              "9   2.0  2.0  2.0   5.0\n",
              "10  2.0  2.0  2.0  40.0"
            ]
          },
          "execution_count": 12,
          "metadata": {},
          "output_type": "execute_result"
        }
      ],
      "source": [
        "finalData = df_outer.rename(columns={'CDQ010': 'A', 'HSQ500': 'B', 'OCQ180': 'C', 'HSQ510': 'D'})\n",
        "finalData.drop(['SEQN'],axis=1, inplace=True)\n",
        "finalData.head()"
      ]
    },
    {
      "cell_type": "code",
      "execution_count": null,
      "metadata": {
        "id": "lJJHKrsZjh1-"
      },
      "outputs": [],
      "source": [
        "finalData.loc[finalData['C'] < 30, 'C'] = 0\n",
        "finalData.loc[((finalData['C'] < 60) & (finalData['C'] >= 30)), 'C'] = 1\n",
        "finalData.loc[finalData['C'] >= 60, 'C'] = 2"
      ]
    },
    {
      "cell_type": "code",
      "execution_count": null,
      "metadata": {
        "id": "_YPKlZD2jh1_",
        "outputId": "a5a57f28-ebb1-46c2-c2d4-8a6a9e7c36cb"
      },
      "outputs": [
        {
          "data": {
            "text/html": [
              "<div>\n",
              "<style scoped>\n",
              "    .dataframe tbody tr th:only-of-type {\n",
              "        vertical-align: middle;\n",
              "    }\n",
              "\n",
              "    .dataframe tbody tr th {\n",
              "        vertical-align: top;\n",
              "    }\n",
              "\n",
              "    .dataframe thead th {\n",
              "        text-align: right;\n",
              "    }\n",
              "</style>\n",
              "<table border=\"1\" class=\"dataframe\">\n",
              "  <thead>\n",
              "    <tr style=\"text-align: right;\">\n",
              "      <th></th>\n",
              "      <th>A</th>\n",
              "      <th>B</th>\n",
              "      <th>D</th>\n",
              "      <th>C</th>\n",
              "    </tr>\n",
              "  </thead>\n",
              "  <tbody>\n",
              "    <tr>\n",
              "      <th>0</th>\n",
              "      <td>2.0</td>\n",
              "      <td>2.0</td>\n",
              "      <td>2.0</td>\n",
              "      <td>1.0</td>\n",
              "    </tr>\n",
              "    <tr>\n",
              "      <th>3</th>\n",
              "      <td>2.0</td>\n",
              "      <td>2.0</td>\n",
              "      <td>2.0</td>\n",
              "      <td>1.0</td>\n",
              "    </tr>\n",
              "    <tr>\n",
              "      <th>7</th>\n",
              "      <td>2.0</td>\n",
              "      <td>2.0</td>\n",
              "      <td>2.0</td>\n",
              "      <td>1.0</td>\n",
              "    </tr>\n",
              "    <tr>\n",
              "      <th>9</th>\n",
              "      <td>2.0</td>\n",
              "      <td>2.0</td>\n",
              "      <td>2.0</td>\n",
              "      <td>0.0</td>\n",
              "    </tr>\n",
              "    <tr>\n",
              "      <th>10</th>\n",
              "      <td>2.0</td>\n",
              "      <td>2.0</td>\n",
              "      <td>2.0</td>\n",
              "      <td>1.0</td>\n",
              "    </tr>\n",
              "  </tbody>\n",
              "</table>\n",
              "</div>"
            ],
            "text/plain": [
              "      A    B    D    C\n",
              "0   2.0  2.0  2.0  1.0\n",
              "3   2.0  2.0  2.0  1.0\n",
              "7   2.0  2.0  2.0  1.0\n",
              "9   2.0  2.0  2.0  0.0\n",
              "10  2.0  2.0  2.0  1.0"
            ]
          },
          "execution_count": 14,
          "metadata": {},
          "output_type": "execute_result"
        }
      ],
      "source": [
        "finalData.head()"
      ]
    },
    {
      "cell_type": "code",
      "execution_count": null,
      "metadata": {
        "id": "KZ50h6cRjh2A",
        "outputId": "ee6cce4c-8edb-4a6b-9d30-e76bba1dfb13"
      },
      "outputs": [
        {
          "name": "stderr",
          "output_type": "stream",
          "text": [
            "Working for n conditional variables: 2: 100%|██████████| 2/2 [00:00<00:00, 17.79it/s]\n"
          ]
        }
      ],
      "source": [
        "est = PC(data=finalData)\n",
        "model_est = est.estimate(variant='stable', max_cond_vars=2)"
      ]
    },
    {
      "cell_type": "code",
      "execution_count": null,
      "metadata": {
        "id": "UU_zjb1djh2A",
        "outputId": "8f058b99-4534-4ae8-d13d-0b84381f860e"
      },
      "outputs": [
        {
          "name": "stdout",
          "output_type": "stream",
          "text": [
            "[('A', 'D'), ('B', 'D')]\n"
          ]
        }
      ],
      "source": [
        "print(model_est.edges)"
      ]
    },
    {
      "cell_type": "code",
      "execution_count": null,
      "metadata": {
        "id": "X6KOpGt8jh2A"
      },
      "outputs": [],
      "source": [
        "model_ = BayesianNetwork(model_est.edges())\n",
        "model_.fit(finalData)"
      ]
    },
    {
      "cell_type": "code",
      "execution_count": null,
      "metadata": {
        "id": "FAuzBJIhjh2B",
        "outputId": "c0f0f883-1435-4da6-f69a-00174a03d4df"
      },
      "outputs": [
        {
          "data": {
            "text/plain": [
              "[<TabularCPD representing P(A:3) at 0x7f842afc1580>,\n",
              " <TabularCPD representing P(D:3 | A:3, B:3) at 0x7f842a497850>,\n",
              " <TabularCPD representing P(B:3) at 0x7f842a490d00>]"
            ]
          },
          "execution_count": 24,
          "metadata": {},
          "output_type": "execute_result"
        }
      ],
      "source": [
        "model_.get_cpds()"
      ]
    },
    {
      "cell_type": "code",
      "execution_count": null,
      "metadata": {
        "id": "LWrVMcw7jh2B"
      },
      "outputs": [],
      "source": [
        "infer = VariableElimination(model_)"
      ]
    },
    {
      "cell_type": "code",
      "execution_count": null,
      "metadata": {
        "id": "FUSstvUhjh2C",
        "outputId": "a0ac0096-8a5b-473a-8574-7c35393d127e"
      },
      "outputs": [
        {
          "name": "stderr",
          "output_type": "stream",
          "text": [
            "Finding Elimination Order: : 100%|██████████| 2/2 [00:00<00:00, 930.21it/s]\n",
            "Eliminating: A: 100%|██████████| 2/2 [00:00<00:00, 204.50it/s]"
          ]
        },
        {
          "name": "stdout",
          "output_type": "stream",
          "text": [
            "+--------+----------+\n",
            "| D      |   phi(D) |\n",
            "+========+==========+\n",
            "| D(1.0) |   0.0556 |\n",
            "+--------+----------+\n",
            "| D(2.0) |   0.9435 |\n",
            "+--------+----------+\n",
            "| D(9.0) |   0.0010 |\n",
            "+--------+----------+\n"
          ]
        },
        {
          "name": "stderr",
          "output_type": "stream",
          "text": [
            "\n"
          ]
        }
      ],
      "source": [
        "d_dist = infer.query(['D'])\n",
        "print(d_dist)"
      ]
    },
    {
      "cell_type": "code",
      "execution_count": null,
      "metadata": {
        "id": "ENpfQYGhjh2D",
        "outputId": "f95d711a-f232-4947-d323-108af1aae09a"
      },
      "outputs": [
        {
          "name": "stderr",
          "output_type": "stream",
          "text": [
            "Finding Elimination Order: : 100%|██████████| 1/1 [00:00<00:00, 517.11it/s]\n",
            "Eliminating: B: 100%|██████████| 1/1 [00:00<00:00, 319.18it/s]"
          ]
        },
        {
          "name": "stdout",
          "output_type": "stream",
          "text": [
            "+--------+----------+\n",
            "| D      |   phi(D) |\n",
            "+========+==========+\n",
            "| D(1.0) |   0.0952 |\n",
            "+--------+----------+\n",
            "| D(2.0) |   0.9016 |\n",
            "+--------+----------+\n",
            "| D(9.0) |   0.0032 |\n",
            "+--------+----------+\n"
          ]
        },
        {
          "name": "stderr",
          "output_type": "stream",
          "text": [
            "\n"
          ]
        }
      ],
      "source": [
        "print(infer.query(['D'], evidence={'A': 1.0}))"
      ]
    },
    {
      "cell_type": "code",
      "execution_count": null,
      "metadata": {
        "id": "7dCLiHMwjh2D",
        "outputId": "c229d462-2b62-4825-df5f-d71346a16b32"
      },
      "outputs": [
        {
          "name": "stderr",
          "output_type": "stream",
          "text": [
            "Finding Elimination Order: : : 0it [00:00, ?it/s]\n",
            "0it [00:00, ?it/s]"
          ]
        },
        {
          "name": "stdout",
          "output_type": "stream",
          "text": [
            "+--------+----------+\n",
            "| D      |   phi(D) |\n",
            "+========+==========+\n",
            "| D(1.0) |   0.1609 |\n",
            "+--------+----------+\n",
            "| D(2.0) |   0.8391 |\n",
            "+--------+----------+\n",
            "| D(9.0) |   0.0000 |\n",
            "+--------+----------+\n"
          ]
        },
        {
          "name": "stderr",
          "output_type": "stream",
          "text": [
            "\n"
          ]
        }
      ],
      "source": [
        "print(infer.query(['D'], evidence={'A': 1.0, 'B': 1.0}))"
      ]
    },
    {
      "cell_type": "markdown",
      "metadata": {
        "id": "OAZmKeNQjh2E"
      },
      "source": [
        "## Exercício"
      ]
    },
    {
      "cell_type": "markdown",
      "metadata": {
        "id": "u95ymy2gjh2E"
      },
      "source": [
        "01 - Considere uma usina nuclear que possui um alarme que soa quando detecta que um medidor de temperatura excedeu um determinado limite. O medidor mede a temperatura do núcleo. Considere as variáveis booleanas **A** (som do alarme), **FA** (alarme está com defeito), **FG** (o medidor está com defeito) e os nós discretos multivariados **G** (leitura do medidor) e T (Temperatura do núcleo). Desenhe um rede baysiana para este domínio sabendo que o medidor tem maior probabilidade de falhar quando a temperatura central fica muito alta."
      ]
    },
    {
      "cell_type": "markdown",
      "metadata": {},
      "source": [
        "*Coloque sua resposta neste espaço* "
      ]
    },
    {
      "cell_type": "markdown",
      "metadata": {
        "id": "ES1DLD6Ajh2E"
      },
      "source": [
        "02 - Considere a seguinte rede bayesianas, a distribuição de probabiliadades e responda o que se pede: \n",
        "\n",
        "<img src=\"https://static.javatpoint.com/tutorial/ai/images/bayesian2.png\">\n",
        "\n",
        "**Tradução**\n",
        "\n",
        "* *Burglary*: roubo\n",
        "* *Earthquake*: terremoto\n",
        "* *Alarm*: alarme\n",
        "* *David calls*: David ligar \n",
        "* *Sophia calls*: Sophia ligar\n",
        "\n",
        "**Questões**\n",
        "\n",
        "a)Qual a probabilidade do alarme tocar, dado que está acontecendo um roubo? \n",
        "\n",
        "b) Qual a probabilidade de David ligar, dado que o alarme tocou e está tendo um terremoto?\n",
        "\n",
        "c) Qual a probabililade de Sophia ligar, dado que o alarme tocou e está tendo um roubo? "
      ]
    },
    {
      "cell_type": "code",
      "execution_count": null,
      "metadata": {
        "id": "9dOvVSZJjh2F"
      },
      "outputs": [],
      "source": [
        "# Insira código e respostas a  partir deste espaço"
      ]
    }
  ],
  "metadata": {
    "colab": {
      "include_colab_link": true,
      "name": "11_BayesNetwork.ipynb",
      "provenance": []
    },
    "interpreter": {
      "hash": "08127f97df6c02a53ef8f985c7fba4c27496d4e158c6aeb69a78d3e5c8eefc39"
    },
    "kernelspec": {
      "display_name": "Python 3.9.7 ('inteligenciaartificial')",
      "language": "python",
      "name": "python3"
    },
    "language_info": {
      "codemirror_mode": {
        "name": "ipython",
        "version": 3
      },
      "file_extension": ".py",
      "mimetype": "text/x-python",
      "name": "python",
      "nbconvert_exporter": "python",
      "pygments_lexer": "ipython3",
      "version": "3.9.7"
    },
    "orig_nbformat": 4
  },
  "nbformat": 4,
  "nbformat_minor": 0
}
